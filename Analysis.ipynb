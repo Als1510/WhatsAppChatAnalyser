{
 "cells": [
  {
   "cell_type": "code",
   "execution_count": 71,
   "metadata": {},
   "outputs": [],
   "source": [
    "import numpy as np\n",
    "import pandas as pd\n",
    "from datetime import datetime\n",
    "import re"
   ]
  },
  {
   "cell_type": "code",
   "execution_count": 81,
   "metadata": {},
   "outputs": [],
   "source": [
    "def seperate_date_time(x):\n",
    "    date = pd.to_datetime(x.split(', ')[0], format=\"%m/%d/%y\")\n",
    "    time = x.split(', ')[1].split(' - ')[0]\n",
    "    return date, time"
   ]
  },
  {
   "cell_type": "code",
   "execution_count": 85,
   "metadata": {},
   "outputs": [],
   "source": [
    "def createDf(file_data, dt):\n",
    "    patterns = {\n",
    "        '12 Hour':'\\d{1,2}/\\d{1,2}/\\d{2,4},\\s\\d{1,2}:\\d{2}\\s[APap][mM]\\s-\\s',\n",
    "        '24 Hour':'\\d{1,2}/\\d{1,2}/\\d{2,4},\\s\\d{1,2}:\\d{2}\\s-\\s',\n",
    "    }\n",
    "    \n",
    "    data = ' '.join(file_data.read().split('\\n'))\n",
    "    user_message = re.split(patterns[dt], data)[1:]\n",
    "    date_time = re.findall(patterns[dt], data)\n",
    "    \n",
    "    df = pd.DataFrame({'user_message': user_message, 'date_time': date_time})\n",
    "    df[['date','time']] = df['date_time'].apply(lambda x: seperate_date_time(x)).to_list()\n",
    "    users = []\n",
    "    messages = []\n",
    "    for message in df['user_message']:\n",
    "        entry = re.split('([\\w\\W]+?):\\s', message)\n",
    "        if entry[1:]:\n",
    "            users.append(entry[1])\n",
    "            messages.append(entry[2])\n",
    "        else:\n",
    "            users.append('group_notification')\n",
    "            messages.append(entry[0])\n",
    "\n",
    "    df['user'] = users\n",
    "    df['message'] = messages\n",
    "    df.drop(columns=['user_message', 'date_time'], inplace=True)\n",
    "    return df"
   ]
  },
  {
   "cell_type": "code",
   "execution_count": 90,
   "metadata": {},
   "outputs": [],
   "source": [
    "f = open('WhatsApp Chat with Say GT (original) 12 hour format.txt', 'r', encoding='utf-8')\n",
    "df = createDf(f, '12 Hour')"
   ]
  },
  {
   "cell_type": "code",
   "execution_count": 92,
   "metadata": {},
   "outputs": [],
   "source": [
    "f = open('WhatsApp Chat with Say GT (original) 24 hour format.txt', 'r', encoding='utf-8')\n",
    "df = pd.DataFrame(createDf(f, '24 Hour'))"
   ]
  },
  {
   "cell_type": "code",
   "execution_count": 93,
   "metadata": {},
   "outputs": [
    {
     "data": {
      "text/html": [
       "<div>\n",
       "<style scoped>\n",
       "    .dataframe tbody tr th:only-of-type {\n",
       "        vertical-align: middle;\n",
       "    }\n",
       "\n",
       "    .dataframe tbody tr th {\n",
       "        vertical-align: top;\n",
       "    }\n",
       "\n",
       "    .dataframe thead th {\n",
       "        text-align: right;\n",
       "    }\n",
       "</style>\n",
       "<table border=\"1\" class=\"dataframe\">\n",
       "  <thead>\n",
       "    <tr style=\"text-align: right;\">\n",
       "      <th></th>\n",
       "      <th>date</th>\n",
       "      <th>time</th>\n",
       "      <th>user</th>\n",
       "      <th>message</th>\n",
       "      <th>year</th>\n",
       "      <th>month</th>\n",
       "      <th>month_num</th>\n",
       "      <th>day</th>\n",
       "      <th>day_name</th>\n",
       "      <th>hour</th>\n",
       "      <th>minute</th>\n",
       "    </tr>\n",
       "  </thead>\n",
       "  <tbody>\n",
       "    <tr>\n",
       "      <th>0</th>\n",
       "      <td>2022-05-09</td>\n",
       "      <td>15:01</td>\n",
       "      <td>group_notification</td>\n",
       "      <td>Messages and calls are end-to-end encrypted. N...</td>\n",
       "      <td>2022</td>\n",
       "      <td>May</td>\n",
       "      <td>5</td>\n",
       "      <td>9</td>\n",
       "      <td>Monday</td>\n",
       "      <td>15</td>\n",
       "      <td>01</td>\n",
       "    </tr>\n",
       "    <tr>\n",
       "      <th>1</th>\n",
       "      <td>2022-05-26</td>\n",
       "      <td>19:21</td>\n",
       "      <td>Clg Divyansh</td>\n",
       "      <td>Robotics ke notes</td>\n",
       "      <td>2022</td>\n",
       "      <td>May</td>\n",
       "      <td>5</td>\n",
       "      <td>26</td>\n",
       "      <td>Thursday</td>\n",
       "      <td>19</td>\n",
       "      <td>21</td>\n",
       "    </tr>\n",
       "    <tr>\n",
       "      <th>2</th>\n",
       "      <td>2022-05-26</td>\n",
       "      <td>19:44</td>\n",
       "      <td>Clg Kushagra Ahire</td>\n",
       "      <td>MST me jo numerical aaye the uske solution bhe...</td>\n",
       "      <td>2022</td>\n",
       "      <td>May</td>\n",
       "      <td>5</td>\n",
       "      <td>26</td>\n",
       "      <td>Thursday</td>\n",
       "      <td>19</td>\n",
       "      <td>44</td>\n",
       "    </tr>\n",
       "    <tr>\n",
       "      <th>3</th>\n",
       "      <td>2022-05-26</td>\n",
       "      <td>19:55</td>\n",
       "      <td>Clg Abbas Amjhera</td>\n",
       "      <td>&lt;Media omitted&gt;</td>\n",
       "      <td>2022</td>\n",
       "      <td>May</td>\n",
       "      <td>5</td>\n",
       "      <td>26</td>\n",
       "      <td>Thursday</td>\n",
       "      <td>19</td>\n",
       "      <td>55</td>\n",
       "    </tr>\n",
       "    <tr>\n",
       "      <th>4</th>\n",
       "      <td>2022-05-26</td>\n",
       "      <td>20:05</td>\n",
       "      <td>+91 6239 413 783</td>\n",
       "      <td>Bhai notes bhej do yrr koi 🙏🏻</td>\n",
       "      <td>2022</td>\n",
       "      <td>May</td>\n",
       "      <td>5</td>\n",
       "      <td>26</td>\n",
       "      <td>Thursday</td>\n",
       "      <td>20</td>\n",
       "      <td>05</td>\n",
       "    </tr>\n",
       "  </tbody>\n",
       "</table>\n",
       "</div>"
      ],
      "text/plain": [
       "        date   time                user  \\\n",
       "0 2022-05-09  15:01  group_notification   \n",
       "1 2022-05-26  19:21        Clg Divyansh   \n",
       "2 2022-05-26  19:44  Clg Kushagra Ahire   \n",
       "3 2022-05-26  19:55   Clg Abbas Amjhera   \n",
       "4 2022-05-26  20:05    +91 6239 413 783   \n",
       "\n",
       "                                             message  year month  month_num  \\\n",
       "0  Messages and calls are end-to-end encrypted. N...  2022   May          5   \n",
       "1                                 Robotics ke notes   2022   May          5   \n",
       "2  MST me jo numerical aaye the uske solution bhe...  2022   May          5   \n",
       "3                                   <Media omitted>   2022   May          5   \n",
       "4                     Bhai notes bhej do yrr koi 🙏🏻   2022   May          5   \n",
       "\n",
       "   day  day_name hour minute  \n",
       "0    9    Monday   15     01  \n",
       "1   26  Thursday   19     21  \n",
       "2   26  Thursday   19     44  \n",
       "3   26  Thursday   19     55  \n",
       "4   26  Thursday   20     05  "
      ]
     },
     "execution_count": 93,
     "metadata": {},
     "output_type": "execute_result"
    }
   ],
   "source": [
    "df['year'] = df['date'].dt.year\n",
    "df['month'] = df['date'].dt.month_name()\n",
    "df['month_num'] = df['date'].dt.month\n",
    "df['day'] = df['date'].dt.day\n",
    "df['day_name'] = df['date'].dt.day_name()\n",
    "df['hour'] = df['time'].apply(lambda x: x.split(':')[0])\n",
    "df['minute'] = df['time'].apply(lambda x: (x.split(':')[1]).split(' ')[0])\n",
    "# if '12 Hour':\n",
    "#     df['meridian'] = df['time'].apply(lambda x: (x.split(':')[1]).split(' ')[1])\n",
    "df.head()"
   ]
  },
  {
   "cell_type": "code",
   "execution_count": null,
   "metadata": {},
   "outputs": [],
   "source": []
  },
  {
   "cell_type": "code",
   "execution_count": null,
   "metadata": {},
   "outputs": [],
   "source": []
  }
 ],
 "metadata": {
  "kernelspec": {
   "display_name": "Python 3 (ipykernel)",
   "language": "python",
   "name": "python3"
  },
  "language_info": {
   "codemirror_mode": {
    "name": "ipython",
    "version": 3
   },
   "file_extension": ".py",
   "mimetype": "text/x-python",
   "name": "python",
   "nbconvert_exporter": "python",
   "pygments_lexer": "ipython3",
   "version": "3.9.7"
  },
  "vscode": {
   "interpreter": {
    "hash": "0e25f5c8ef339ee3cd459044b54a195e7d76659ac805764547ca1d0daacff56b"
   }
  }
 },
 "nbformat": 4,
 "nbformat_minor": 2
}
