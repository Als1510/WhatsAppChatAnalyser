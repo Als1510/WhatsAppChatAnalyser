{
 "cells": [
  {
   "cell_type": "code",
   "execution_count": 374,
   "metadata": {},
   "outputs": [],
   "source": [
    "import numpy as np\n",
    "import pandas as pd\n",
    "from datetime import datetime\n",
    "import re\n",
    "from collections import Counter\n",
    "from wordcloud import WordCloud\n",
    "import warnings\n",
    "import emoji"
   ]
  },
  {
   "cell_type": "code",
   "execution_count": 375,
   "metadata": {},
   "outputs": [],
   "source": [
    "def seperate_date_time(x):\n",
    "    date = pd.to_datetime(x.split(', ')[0])\n",
    "    time = x.split(', ')[1].split(' - ')[0]\n",
    "    return date, time"
   ]
  },
  {
   "cell_type": "code",
   "execution_count": 376,
   "metadata": {},
   "outputs": [],
   "source": [
    "def createDf(file_data, dt):\n",
    "    patterns = {\n",
    "        '12 Hour':'\\d{1,2}/\\d{1,2}/\\d{2,4},\\s\\d{1,2}:\\d{2}\\s[APap][mM]\\s-\\s',\n",
    "        '24 Hour':'\\d{1,2}/\\d{1,2}/\\d{2,4},\\s\\d{1,2}:\\d{2}\\s-\\s',\n",
    "    }\n",
    "    \n",
    "    data = ' '.join(file_data.read().split('\\n'))\n",
    "    user_message = re.split(patterns[dt], data)[1:]\n",
    "    date_time = re.findall(patterns[dt], data)\n",
    "    \n",
    "    df = pd.DataFrame({'UserMessage': user_message, 'DateTime': date_time})\n",
    "    df[['Date','Time']] = df['DateTime'].apply(lambda x: seperate_date_time(x)).to_list()\n",
    "    users = []\n",
    "    messages = []\n",
    "    for message in df['UserMessage']:\n",
    "        entry = re.split('([\\w\\W]+?):\\s', message)\n",
    "        if entry[1:]:\n",
    "            users.append(entry[1])\n",
    "            messages.append(entry[2])\n",
    "        else:\n",
    "            users.append('group_notification')\n",
    "            messages.append(entry[0])\n",
    "\n",
    "    df['User'] = users\n",
    "    df['Message'] = messages\n",
    "    df.drop(columns=['UserMessage', 'DateTime'], inplace=True)\n",
    "    return df"
   ]
  },
  {
   "cell_type": "code",
   "execution_count": 377,
   "metadata": {},
   "outputs": [],
   "source": [
    "# f = open('chats/Sample_WhatsApp_Chat_12hr.txt', 'r', encoding='utf-8')\n",
    "# df = createDf(f, '12 Hour')"
   ]
  },
  {
   "cell_type": "code",
   "execution_count": 378,
   "metadata": {},
   "outputs": [],
   "source": [
    "f = open('chats/Sample_WhatsApp_Chat_24hr.txt', 'r', encoding='utf-8')\n",
    "df = pd.DataFrame(createDf(f, '24 Hour'))"
   ]
  },
  {
   "cell_type": "code",
   "execution_count": 379,
   "metadata": {},
   "outputs": [
    {
     "data": {
      "text/html": [
       "<div>\n",
       "<style scoped>\n",
       "    .dataframe tbody tr th:only-of-type {\n",
       "        vertical-align: middle;\n",
       "    }\n",
       "\n",
       "    .dataframe tbody tr th {\n",
       "        vertical-align: top;\n",
       "    }\n",
       "\n",
       "    .dataframe thead th {\n",
       "        text-align: right;\n",
       "    }\n",
       "</style>\n",
       "<table border=\"1\" class=\"dataframe\">\n",
       "  <thead>\n",
       "    <tr style=\"text-align: right;\">\n",
       "      <th></th>\n",
       "      <th>Date</th>\n",
       "      <th>Time</th>\n",
       "      <th>User</th>\n",
       "      <th>Message</th>\n",
       "      <th>Year</th>\n",
       "      <th>Month</th>\n",
       "      <th>MonthNum</th>\n",
       "      <th>DayOfWeek</th>\n",
       "      <th>WeekNum</th>\n",
       "      <th>Day</th>\n",
       "      <th>DayName</th>\n",
       "      <th>Hour</th>\n",
       "      <th>Minute</th>\n",
       "    </tr>\n",
       "  </thead>\n",
       "  <tbody>\n",
       "    <tr>\n",
       "      <th>0</th>\n",
       "      <td>2025-03-27</td>\n",
       "      <td>11:00</td>\n",
       "      <td>Kim Mason</td>\n",
       "      <td>Great thoughts shared today!\" \"</td>\n",
       "      <td>2025</td>\n",
       "      <td>March</td>\n",
       "      <td>3</td>\n",
       "      <td>3</td>\n",
       "      <td>13</td>\n",
       "      <td>27</td>\n",
       "      <td>Thursday</td>\n",
       "      <td>11</td>\n",
       "      <td>00</td>\n",
       "    </tr>\n",
       "    <tr>\n",
       "      <th>1</th>\n",
       "      <td>2025-03-27</td>\n",
       "      <td>22:15</td>\n",
       "      <td>Jessica Williams</td>\n",
       "      <td>Congratulations on your achievement! 🎉\" \"</td>\n",
       "      <td>2025</td>\n",
       "      <td>March</td>\n",
       "      <td>3</td>\n",
       "      <td>3</td>\n",
       "      <td>13</td>\n",
       "      <td>27</td>\n",
       "      <td>Thursday</td>\n",
       "      <td>22</td>\n",
       "      <td>15</td>\n",
       "    </tr>\n",
       "    <tr>\n",
       "      <th>2</th>\n",
       "      <td>2025-03-27</td>\n",
       "      <td>02:32</td>\n",
       "      <td>Jessica Gonzalez</td>\n",
       "      <td>That’s wonderful news!\" \"</td>\n",
       "      <td>2025</td>\n",
       "      <td>March</td>\n",
       "      <td>3</td>\n",
       "      <td>3</td>\n",
       "      <td>13</td>\n",
       "      <td>27</td>\n",
       "      <td>Thursday</td>\n",
       "      <td>02</td>\n",
       "      <td>32</td>\n",
       "    </tr>\n",
       "    <tr>\n",
       "      <th>3</th>\n",
       "      <td>2025-03-27</td>\n",
       "      <td>07:26</td>\n",
       "      <td>Joshua Fisher</td>\n",
       "      <td></td>\n",
       "      <td>2025</td>\n",
       "      <td>March</td>\n",
       "      <td>3</td>\n",
       "      <td>3</td>\n",
       "      <td>13</td>\n",
       "      <td>27</td>\n",
       "      <td>Thursday</td>\n",
       "      <td>07</td>\n",
       "      <td>26</td>\n",
       "    </tr>\n",
       "    <tr>\n",
       "      <th>4</th>\n",
       "      <td>2025-03-27</td>\n",
       "      <td>21:47</td>\n",
       "      <td>Nancy Brown</td>\n",
       "      <td>Here’s the update on the event:\" \"</td>\n",
       "      <td>2025</td>\n",
       "      <td>March</td>\n",
       "      <td>3</td>\n",
       "      <td>3</td>\n",
       "      <td>13</td>\n",
       "      <td>27</td>\n",
       "      <td>Thursday</td>\n",
       "      <td>21</td>\n",
       "      <td>47</td>\n",
       "    </tr>\n",
       "  </tbody>\n",
       "</table>\n",
       "</div>"
      ],
      "text/plain": [
       "        Date   Time              User  \\\n",
       "0 2025-03-27  11:00         Kim Mason   \n",
       "1 2025-03-27  22:15  Jessica Williams   \n",
       "2 2025-03-27  02:32  Jessica Gonzalez   \n",
       "3 2025-03-27  07:26     Joshua Fisher   \n",
       "4 2025-03-27  21:47       Nancy Brown   \n",
       "\n",
       "                                     Message  Year  Month  MonthNum  \\\n",
       "0            Great thoughts shared today!\" \"  2025  March         3   \n",
       "1  Congratulations on your achievement! 🎉\" \"  2025  March         3   \n",
       "2                  That’s wonderful news!\" \"  2025  March         3   \n",
       "3                                             2025  March         3   \n",
       "4         Here’s the update on the event:\" \"  2025  March         3   \n",
       "\n",
       "   DayOfWeek  WeekNum  Day   DayName Hour Minute  \n",
       "0          3       13   27  Thursday   11     00  \n",
       "1          3       13   27  Thursday   22     15  \n",
       "2          3       13   27  Thursday   02     32  \n",
       "3          3       13   27  Thursday   07     26  \n",
       "4          3       13   27  Thursday   21     47  "
      ]
     },
     "execution_count": 379,
     "metadata": {},
     "output_type": "execute_result"
    }
   ],
   "source": [
    "df['Year'] = df['Date'].dt.year\n",
    "df['Month'] = df['Date'].dt.month_name()\n",
    "df['MonthNum'] = df['Date'].dt.month\n",
    "df['DayOfWeek'] = df['Date'].dt.dayofweek\n",
    "df['WeekNum'] = df['Date'].dt.isocalendar().week\n",
    "df['Day'] = df['Date'].dt.day\n",
    "df['DayName'] = df['Date'].dt.day_name()\n",
    "df['Hour'] = df['Time'].apply(lambda x: x.split(':')[0])\n",
    "df['Minute'] = df['Time'].apply(lambda x: (x.split(':')[1]).split(' ')[0])\n",
    "\n",
    "#Uncomment while working with 12 hour file format\n",
    "# df['Meridian'] = df['Time'].apply(lambda x: (x.split(':')[1]).split(' ')[1]).str.upper()\n",
    "\n",
    "df.head()"
   ]
  },
  {
   "cell_type": "markdown",
   "metadata": {},
   "source": [
    "# Fetch Stats"
   ]
  },
  {
   "cell_type": "code",
   "execution_count": 380,
   "metadata": {},
   "outputs": [],
   "source": [
    "def fetch_stats(selected_user, df):\n",
    "  if selected_user != 'Overall':\n",
    "    df = df[df['User'] == selected_user]\n",
    "  num_messages = df.shape[0]\n",
    "  diff_days = (df.Date.iloc[len(df)-1] - df.Date.iloc[0]).days\n",
    "  words = []\n",
    "  for message in df['Message']:\n",
    "    words.extend(message.split())\n",
    "\n",
    "  num_media_messages = df[df['Message'] == '<Media omitted>\\n'].shape[0]\n",
    "  return num_messages, len(words), num_media_messages, diff_days"
   ]
  },
  {
   "cell_type": "code",
   "execution_count": 381,
   "metadata": {},
   "outputs": [
    {
     "data": {
      "text/plain": [
       "(150, 732, 0, 14)"
      ]
     },
     "execution_count": 381,
     "metadata": {},
     "output_type": "execute_result"
    }
   ],
   "source": [
    "fetch_stats('Overall', df)"
   ]
  },
  {
   "cell_type": "markdown",
   "metadata": {},
   "source": [
    "# Removed/Left User"
   ]
  },
  {
   "cell_type": "code",
   "execution_count": 382,
   "metadata": {},
   "outputs": [],
   "source": [
    "def seperate(x, seperator):\n",
    "    if seperator == 'removed':\n",
    "        if x.find(seperator) != -1:\n",
    "            return x.split(seperator)[1]\n",
    "        else:\n",
    "            return x.split('left')[0]\n",
    "    else:\n",
    "        if x.find(seperator) != -1:\n",
    "            return x.split(seperator)[1]\n",
    "        else:\n",
    "            return x.split('joined')[0]"
   ]
  },
  {
   "cell_type": "code",
   "execution_count": 383,
   "metadata": {},
   "outputs": [
    {
     "data": {
      "text/plain": [
       "' +91 94240 96950'"
      ]
     },
     "execution_count": 383,
     "metadata": {},
     "output_type": "execute_result"
    }
   ],
   "source": [
    "seperate('Dhakad Svvv removed +91 94240 96950', 'removed')"
   ]
  },
  {
   "cell_type": "code",
   "execution_count": 384,
   "metadata": {},
   "outputs": [
    {
     "data": {
      "text/plain": [
       "'You '"
      ]
     },
     "execution_count": 384,
     "metadata": {},
     "output_type": "execute_result"
    }
   ],
   "source": [
    "seperate('You left', 'removed')"
   ]
  },
  {
   "cell_type": "code",
   "execution_count": 385,
   "metadata": {},
   "outputs": [
    {
     "data": {
      "text/plain": [
       "' +91 98937 63178'"
      ]
     },
     "execution_count": 385,
     "metadata": {},
     "output_type": "execute_result"
    }
   ],
   "source": [
    "seperate('Dhakad Svvv added +91 98937 63178', 'added')"
   ]
  },
  {
   "cell_type": "code",
   "execution_count": 386,
   "metadata": {},
   "outputs": [
    {
     "data": {
      "text/plain": [
       "'Hrishikesh Svvv '"
      ]
     },
     "execution_count": 386,
     "metadata": {},
     "output_type": "execute_result"
    }
   ],
   "source": [
    "seperate('Hrishikesh Svvv joined using this group', 'added')"
   ]
  },
  {
   "cell_type": "code",
   "execution_count": 387,
   "metadata": {},
   "outputs": [],
   "source": [
    "def removed_left(df):\n",
    "    df = df[df['User']=='group_notification']\n",
    "    df = df[df['Message'].str.contains('changed|deleted|encrypted|created') == False]\n",
    "    removedLeft = df[df['Message'].str.contains('removed|left') ==  True]\n",
    "    addedJoined = df[df['Message'].str.contains('added|joined') == True]\n",
    "    removedLeft['Status'] = 0\n",
    "    addedJoined['Status'] = 1\n",
    "    removedLeft['User'] = removedLeft.Message.apply(lambda x: seperate(x, 'removed'))\n",
    "    addedJoined['User'] = addedJoined.Message.apply(lambda x: seperate(x, 'added'))\n",
    "    new_df = pd.concat([removedLeft, addedJoined])\n",
    "    new_df.drop(columns=['Date','Time', 'Message', 'Year', 'Month', 'MonthNum', 'DayOfWeek', 'WeekNum', 'Day', 'Hour', 'DayName', 'Minute'], inplace=True, axis=1)\n",
    "    new_df['User'] = new_df['User'].str.lower()\n",
    "    new_df['User'] = new_df['User'].str.split(', ')\n",
    "    new_df = new_df.explode('User')\n",
    "    new_df['User'] = new_df['User'].str.split(' and ')\n",
    "    new_df = new_df.explode('User')\n",
    "    new_df['User'] = new_df['User'].str.strip()\n",
    "    new_df = new_df.groupby('User')['Status'].count().reset_index()\n",
    "    new_df['Status'] = new_df.Status.apply(lambda x: x%2 == 0)\n",
    "    return len(new_df[new_df.Status==True])"
   ]
  },
  {
   "cell_type": "code",
   "execution_count": 388,
   "metadata": {},
   "outputs": [
    {
     "data": {
      "text/plain": [
       "0"
      ]
     },
     "execution_count": 388,
     "metadata": {},
     "output_type": "execute_result"
    }
   ],
   "source": [
    "removed_left(df)"
   ]
  },
  {
   "cell_type": "markdown",
   "metadata": {},
   "source": [
    "# Chatting From"
   ]
  },
  {
   "cell_type": "code",
   "execution_count": 389,
   "metadata": {},
   "outputs": [],
   "source": [
    "def chat_from(selected_user, df):\n",
    "    if selected_user != 'Overall':\n",
    "        df = df[df['User'] == selected_user]\n",
    "    unique_years = df['Year'].unique()\n",
    "    start_year = unique_years[0]\n",
    "    msg_count = df.groupby(['Date']).count()['Message']\n",
    "    avg_msg = round(msg_count.mean(),2)\n",
    "    return start_year, avg_msg"
   ]
  },
  {
   "cell_type": "code",
   "execution_count": 390,
   "metadata": {},
   "outputs": [
    {
     "data": {
      "text/plain": [
       "(2025, 10.0)"
      ]
     },
     "execution_count": 390,
     "metadata": {},
     "output_type": "execute_result"
    }
   ],
   "source": [
    "chat_from('Overall', df)"
   ]
  },
  {
   "cell_type": "markdown",
   "metadata": {},
   "source": [
    "# Most Talkative"
   ]
  },
  {
   "cell_type": "code",
   "execution_count": 391,
   "metadata": {},
   "outputs": [],
   "source": [
    "def most_talkative(df):\n",
    "    df = df[df['User'] != 'group_notification']\n",
    "    user = df['User'].value_counts()\n",
    "    username = user.index[0]\n",
    "    avg_msg = round(user[username]/len(df)*100, 2)\n",
    "    return username, avg_msg"
   ]
  },
  {
   "cell_type": "code",
   "execution_count": 392,
   "metadata": {},
   "outputs": [
    {
     "data": {
      "text/plain": [
       "('Kim Mason', 5.33)"
      ]
     },
     "execution_count": 392,
     "metadata": {},
     "output_type": "execute_result"
    }
   ],
   "source": [
    "most_talkative(df)"
   ]
  },
  {
   "cell_type": "markdown",
   "metadata": {},
   "source": [
    "# Influencer"
   ]
  },
  {
   "cell_type": "code",
   "execution_count": 393,
   "metadata": {},
   "outputs": [],
   "source": [
    "def influencer(df):\n",
    "    df = df[df['User'] != 'group_notification']\n",
    "    new_df = df.groupby(['User'])\n",
    "    inf_dict = {}\n",
    "    for name, group in new_df:\n",
    "        count = 0\n",
    "        for i in group['Message']:\n",
    "            if '<Media omitted>' in i:\n",
    "                count += 1\n",
    "        inf_dict[name]=count\n",
    "\n",
    "    if not inf_dict:\n",
    "        return None, 0.0, 0\n",
    "        \n",
    "    name = max(inf_dict, key=inf_dict.get)\n",
    "    name_df = df[df['User']==name]\n",
    "\n",
    "    total_msgs = name_df.shape[0]\n",
    "    if total_msgs == 0:\n",
    "        return name, 0.0, inf_dict[name]\n",
    "\n",
    "    percent = (inf_dict[name]/name_df.shape[0])*100\n",
    "    return name,round(percent,2), inf_dict[name]"
   ]
  },
  {
   "cell_type": "code",
   "execution_count": 394,
   "metadata": {},
   "outputs": [
    {
     "data": {
      "text/plain": [
       "(('Jessica Gonzalez',), 0.0, 2)"
      ]
     },
     "execution_count": 394,
     "metadata": {},
     "output_type": "execute_result"
    }
   ],
   "source": [
    "influencer(df)"
   ]
  },
  {
   "cell_type": "markdown",
   "metadata": {},
   "source": [
    "# Long Winded"
   ]
  },
  {
   "cell_type": "code",
   "execution_count": 395,
   "metadata": {},
   "outputs": [],
   "source": [
    "def long_winded(df):\n",
    "    df = df[df['User'] != 'group_notification']\n",
    "    msg_len = []\n",
    "    for i in df['Message']:\n",
    "        msg_len.append(len(i))\n",
    "    df['Message_len'] = msg_len\n",
    "    new_df = df.sort_values(by=['Message_len'],ascending=False)\n",
    "    name = new_df.iloc[0]['User']\n",
    "    user_df = df[df['User']==name]\n",
    "    avg_msg_len = int(user_df['Message_len'].mean())\n",
    "    mean_character = user_df[user_df['Message_len'] > avg_msg_len]\n",
    "    percentage = round((mean_character.shape[0] / user_df.shape[0])*100, 2)\n",
    "    return name, avg_msg_len, percentage"
   ]
  },
  {
   "cell_type": "code",
   "execution_count": 396,
   "metadata": {},
   "outputs": [
    {
     "data": {
      "text/plain": [
       "('Tim Lee', 28, 62.5)"
      ]
     },
     "execution_count": 396,
     "metadata": {},
     "output_type": "execute_result"
    }
   ],
   "source": [
    "long_winded(df)"
   ]
  },
  {
   "cell_type": "markdown",
   "metadata": {},
   "source": [
    "# Professor"
   ]
  },
  {
   "cell_type": "code",
   "execution_count": 397,
   "metadata": {},
   "outputs": [
    {
     "data": {
      "text/html": [
       "<div>\n",
       "<style scoped>\n",
       "    .dataframe tbody tr th:only-of-type {\n",
       "        vertical-align: middle;\n",
       "    }\n",
       "\n",
       "    .dataframe tbody tr th {\n",
       "        vertical-align: top;\n",
       "    }\n",
       "\n",
       "    .dataframe thead th {\n",
       "        text-align: right;\n",
       "    }\n",
       "</style>\n",
       "<table border=\"1\" class=\"dataframe\">\n",
       "  <thead>\n",
       "    <tr style=\"text-align: right;\">\n",
       "      <th></th>\n",
       "      <th>Date</th>\n",
       "      <th>Time</th>\n",
       "      <th>User</th>\n",
       "      <th>Message</th>\n",
       "      <th>Year</th>\n",
       "      <th>Month</th>\n",
       "      <th>MonthNum</th>\n",
       "      <th>DayOfWeek</th>\n",
       "      <th>WeekNum</th>\n",
       "      <th>Day</th>\n",
       "      <th>DayName</th>\n",
       "      <th>Hour</th>\n",
       "      <th>Minute</th>\n",
       "    </tr>\n",
       "  </thead>\n",
       "  <tbody>\n",
       "    <tr>\n",
       "      <th>65</th>\n",
       "      <td>2025-04-02</td>\n",
       "      <td>01:35</td>\n",
       "      <td>Stacie Perez</td>\n",
       "      <td></td>\n",
       "      <td>2025</td>\n",
       "      <td>April</td>\n",
       "      <td>4</td>\n",
       "      <td>2</td>\n",
       "      <td>14</td>\n",
       "      <td>2</td>\n",
       "      <td>Wednesday</td>\n",
       "      <td>01</td>\n",
       "      <td>35</td>\n",
       "    </tr>\n",
       "    <tr>\n",
       "      <th>10</th>\n",
       "      <td>2025-03-28</td>\n",
       "      <td>11:21</td>\n",
       "      <td>Amanda Williams</td>\n",
       "      <td>Let's meet at the temple tomorrow.\" \"</td>\n",
       "      <td>2025</td>\n",
       "      <td>March</td>\n",
       "      <td>3</td>\n",
       "      <td>4</td>\n",
       "      <td>13</td>\n",
       "      <td>28</td>\n",
       "      <td>Friday</td>\n",
       "      <td>11</td>\n",
       "      <td>21</td>\n",
       "    </tr>\n",
       "    <tr>\n",
       "      <th>108</th>\n",
       "      <td>2025-04-06</td>\n",
       "      <td>03:39</td>\n",
       "      <td>Matthew Oneill</td>\n",
       "      <td>Here’s the update on the event:\" \"</td>\n",
       "      <td>2025</td>\n",
       "      <td>April</td>\n",
       "      <td>4</td>\n",
       "      <td>6</td>\n",
       "      <td>14</td>\n",
       "      <td>6</td>\n",
       "      <td>Sunday</td>\n",
       "      <td>03</td>\n",
       "      <td>39</td>\n",
       "    </tr>\n",
       "    <tr>\n",
       "      <th>75</th>\n",
       "      <td>2025-04-03</td>\n",
       "      <td>15:28</td>\n",
       "      <td>Kenneth Holmes</td>\n",
       "      <td>🙏 जय श्री राम 🙏\" \"</td>\n",
       "      <td>2025</td>\n",
       "      <td>April</td>\n",
       "      <td>4</td>\n",
       "      <td>3</td>\n",
       "      <td>14</td>\n",
       "      <td>3</td>\n",
       "      <td>Thursday</td>\n",
       "      <td>15</td>\n",
       "      <td>28</td>\n",
       "    </tr>\n",
       "    <tr>\n",
       "      <th>45</th>\n",
       "      <td>2025-03-31</td>\n",
       "      <td>22:01</td>\n",
       "      <td>Stacie Perez</td>\n",
       "      <td>Lovely memories from the trip!\" \"</td>\n",
       "      <td>2025</td>\n",
       "      <td>March</td>\n",
       "      <td>3</td>\n",
       "      <td>0</td>\n",
       "      <td>14</td>\n",
       "      <td>31</td>\n",
       "      <td>Monday</td>\n",
       "      <td>22</td>\n",
       "      <td>01</td>\n",
       "    </tr>\n",
       "    <tr>\n",
       "      <th>131</th>\n",
       "      <td>2025-04-09</td>\n",
       "      <td>05:07</td>\n",
       "      <td>Shannon Jones</td>\n",
       "      <td>Okay noted.\" \"</td>\n",
       "      <td>2025</td>\n",
       "      <td>April</td>\n",
       "      <td>4</td>\n",
       "      <td>2</td>\n",
       "      <td>15</td>\n",
       "      <td>9</td>\n",
       "      <td>Wednesday</td>\n",
       "      <td>05</td>\n",
       "      <td>07</td>\n",
       "    </tr>\n",
       "    <tr>\n",
       "      <th>60</th>\n",
       "      <td>2025-04-02</td>\n",
       "      <td>18:38</td>\n",
       "      <td>Kim Mason</td>\n",
       "      <td>Will join the meeting at 5 PM.\" \"</td>\n",
       "      <td>2025</td>\n",
       "      <td>April</td>\n",
       "      <td>4</td>\n",
       "      <td>2</td>\n",
       "      <td>14</td>\n",
       "      <td>2</td>\n",
       "      <td>Wednesday</td>\n",
       "      <td>18</td>\n",
       "      <td>38</td>\n",
       "    </tr>\n",
       "    <tr>\n",
       "      <th>92</th>\n",
       "      <td>2025-04-05</td>\n",
       "      <td>04:36</td>\n",
       "      <td>Mr. Jesse Bryan</td>\n",
       "      <td>Lovely memories from the trip!\" \"</td>\n",
       "      <td>2025</td>\n",
       "      <td>April</td>\n",
       "      <td>4</td>\n",
       "      <td>5</td>\n",
       "      <td>14</td>\n",
       "      <td>5</td>\n",
       "      <td>Saturday</td>\n",
       "      <td>04</td>\n",
       "      <td>36</td>\n",
       "    </tr>\n",
       "    <tr>\n",
       "      <th>71</th>\n",
       "      <td>2025-04-03</td>\n",
       "      <td>12:06</td>\n",
       "      <td>Shannon Jones</td>\n",
       "      <td>🙏 जय श्री राम 🙏\" \"</td>\n",
       "      <td>2025</td>\n",
       "      <td>April</td>\n",
       "      <td>4</td>\n",
       "      <td>3</td>\n",
       "      <td>14</td>\n",
       "      <td>3</td>\n",
       "      <td>Thursday</td>\n",
       "      <td>12</td>\n",
       "      <td>06</td>\n",
       "    </tr>\n",
       "    <tr>\n",
       "      <th>13</th>\n",
       "      <td>2025-03-28</td>\n",
       "      <td>14:36</td>\n",
       "      <td>Casey Mills</td>\n",
       "      <td>That’s wonderful news!\" \"</td>\n",
       "      <td>2025</td>\n",
       "      <td>March</td>\n",
       "      <td>3</td>\n",
       "      <td>4</td>\n",
       "      <td>13</td>\n",
       "      <td>28</td>\n",
       "      <td>Friday</td>\n",
       "      <td>14</td>\n",
       "      <td>36</td>\n",
       "    </tr>\n",
       "    <tr>\n",
       "      <th>103</th>\n",
       "      <td>2025-04-06</td>\n",
       "      <td>10:56</td>\n",
       "      <td>Joshua Fisher</td>\n",
       "      <td>Okay noted.\" \"</td>\n",
       "      <td>2025</td>\n",
       "      <td>April</td>\n",
       "      <td>4</td>\n",
       "      <td>6</td>\n",
       "      <td>14</td>\n",
       "      <td>6</td>\n",
       "      <td>Sunday</td>\n",
       "      <td>10</td>\n",
       "      <td>56</td>\n",
       "    </tr>\n",
       "    <tr>\n",
       "      <th>135</th>\n",
       "      <td>2025-04-09</td>\n",
       "      <td>05:50</td>\n",
       "      <td>Kenneth Holmes</td>\n",
       "      <td>Thank you 🙏\" \"</td>\n",
       "      <td>2025</td>\n",
       "      <td>April</td>\n",
       "      <td>4</td>\n",
       "      <td>2</td>\n",
       "      <td>15</td>\n",
       "      <td>9</td>\n",
       "      <td>Wednesday</td>\n",
       "      <td>05</td>\n",
       "      <td>50</td>\n",
       "    </tr>\n",
       "    <tr>\n",
       "      <th>53</th>\n",
       "      <td>2025-04-01</td>\n",
       "      <td>20:21</td>\n",
       "      <td>Casey Mills</td>\n",
       "      <td>That’s wonderful news!\" \"</td>\n",
       "      <td>2025</td>\n",
       "      <td>April</td>\n",
       "      <td>4</td>\n",
       "      <td>1</td>\n",
       "      <td>14</td>\n",
       "      <td>1</td>\n",
       "      <td>Tuesday</td>\n",
       "      <td>20</td>\n",
       "      <td>21</td>\n",
       "    </tr>\n",
       "    <tr>\n",
       "      <th>120</th>\n",
       "      <td>2025-04-08</td>\n",
       "      <td>21:55</td>\n",
       "      <td>Kim Mason</td>\n",
       "      <td>Happy birthday! 🎂\" \"</td>\n",
       "      <td>2025</td>\n",
       "      <td>April</td>\n",
       "      <td>4</td>\n",
       "      <td>1</td>\n",
       "      <td>15</td>\n",
       "      <td>8</td>\n",
       "      <td>Tuesday</td>\n",
       "      <td>21</td>\n",
       "      <td>55</td>\n",
       "    </tr>\n",
       "    <tr>\n",
       "      <th>145</th>\n",
       "      <td>2025-04-10</td>\n",
       "      <td>23:20</td>\n",
       "      <td>Stacie Perez</td>\n",
       "      <td>Let's meet at the temple tomorrow.\" \"</td>\n",
       "      <td>2025</td>\n",
       "      <td>April</td>\n",
       "      <td>4</td>\n",
       "      <td>3</td>\n",
       "      <td>15</td>\n",
       "      <td>10</td>\n",
       "      <td>Thursday</td>\n",
       "      <td>23</td>\n",
       "      <td>20</td>\n",
       "    </tr>\n",
       "  </tbody>\n",
       "</table>\n",
       "</div>"
      ],
      "text/plain": [
       "          Date   Time             User                                Message  \\\n",
       "65  2025-04-02  01:35     Stacie Perez                                          \n",
       "10  2025-03-28  11:21  Amanda Williams  Let's meet at the temple tomorrow.\" \"   \n",
       "108 2025-04-06  03:39   Matthew Oneill     Here’s the update on the event:\" \"   \n",
       "75  2025-04-03  15:28   Kenneth Holmes                     🙏 जय श्री राम 🙏\" \"   \n",
       "45  2025-03-31  22:01     Stacie Perez      Lovely memories from the trip!\" \"   \n",
       "131 2025-04-09  05:07    Shannon Jones                         Okay noted.\" \"   \n",
       "60  2025-04-02  18:38        Kim Mason      Will join the meeting at 5 PM.\" \"   \n",
       "92  2025-04-05  04:36  Mr. Jesse Bryan      Lovely memories from the trip!\" \"   \n",
       "71  2025-04-03  12:06    Shannon Jones                     🙏 जय श्री राम 🙏\" \"   \n",
       "13  2025-03-28  14:36      Casey Mills              That’s wonderful news!\" \"   \n",
       "103 2025-04-06  10:56    Joshua Fisher                         Okay noted.\" \"   \n",
       "135 2025-04-09  05:50   Kenneth Holmes                         Thank you 🙏\" \"   \n",
       "53  2025-04-01  20:21      Casey Mills              That’s wonderful news!\" \"   \n",
       "120 2025-04-08  21:55        Kim Mason                   Happy birthday! 🎂\" \"   \n",
       "145 2025-04-10  23:20     Stacie Perez  Let's meet at the temple tomorrow.\" \"   \n",
       "\n",
       "     Year  Month  MonthNum  DayOfWeek  WeekNum  Day    DayName Hour Minute  \n",
       "65   2025  April         4          2       14    2  Wednesday   01     35  \n",
       "10   2025  March         3          4       13   28     Friday   11     21  \n",
       "108  2025  April         4          6       14    6     Sunday   03     39  \n",
       "75   2025  April         4          3       14    3   Thursday   15     28  \n",
       "45   2025  March         3          0       14   31     Monday   22     01  \n",
       "131  2025  April         4          2       15    9  Wednesday   05     07  \n",
       "60   2025  April         4          2       14    2  Wednesday   18     38  \n",
       "92   2025  April         4          5       14    5   Saturday   04     36  \n",
       "71   2025  April         4          3       14    3   Thursday   12     06  \n",
       "13   2025  March         3          4       13   28     Friday   14     36  \n",
       "103  2025  April         4          6       14    6     Sunday   10     56  \n",
       "135  2025  April         4          2       15    9  Wednesday   05     50  \n",
       "53   2025  April         4          1       14    1    Tuesday   20     21  \n",
       "120  2025  April         4          1       15    8    Tuesday   21     55  \n",
       "145  2025  April         4          3       15   10   Thursday   23     20  "
      ]
     },
     "execution_count": 397,
     "metadata": {},
     "output_type": "execute_result"
    }
   ],
   "source": [
    "df.sample(15)"
   ]
  },
  {
   "cell_type": "markdown",
   "metadata": {},
   "source": [
    "# Emoji Lover"
   ]
  },
  {
   "cell_type": "code",
   "execution_count": 398,
   "metadata": {},
   "outputs": [],
   "source": [
    "def emojized_user(df):\n",
    "    df=df[df['User']!='group_notification']\n",
    "    emoji_user = {}\n",
    "    new_df = df.groupby(['User'])\n",
    "    for i in df['User'].unique():\n",
    "        count = 0\n",
    "        group = new_df.get_group(i)\n",
    "        for j in group['Message']:\n",
    "            for k in j:\n",
    "                if emoji.is_emoji(k):\n",
    "                    count += 1\n",
    "        emoji_user[i]=count   \n",
    "    name = max(emoji_user, key=emoji_user.get)\n",
    "    total = emoji_user.values()\n",
    "    percent = round((emoji_user[name]/sum(total))*100, 2)\n",
    "    return name, percent"
   ]
  },
  {
   "cell_type": "code",
   "execution_count": 399,
   "metadata": {},
   "outputs": [
    {
     "name": "stderr",
     "output_type": "stream",
     "text": [
      "C:\\Users\\lenovo\\AppData\\Local\\Temp\\ipykernel_7852\\1248991250.py:7: FutureWarning: When grouping with a length-1 list-like, you will need to pass a length-1 tuple to get_group in a future version of pandas. Pass `(name,)` instead of `name` to silence this warning.\n",
      "  group = new_df.get_group(i)\n",
      "C:\\Users\\lenovo\\AppData\\Local\\Temp\\ipykernel_7852\\1248991250.py:7: FutureWarning: When grouping with a length-1 list-like, you will need to pass a length-1 tuple to get_group in a future version of pandas. Pass `(name,)` instead of `name` to silence this warning.\n",
      "  group = new_df.get_group(i)\n"
     ]
    },
    {
     "data": {
      "text/plain": [
       "('Matthew Oneill', 10.17)"
      ]
     },
     "execution_count": 399,
     "metadata": {},
     "output_type": "execute_result"
    }
   ],
   "source": [
    "emojized_user(df)"
   ]
  },
  {
   "cell_type": "markdown",
   "metadata": {},
   "source": [
    "# Early Bird"
   ]
  },
  {
   "cell_type": "code",
   "execution_count": 400,
   "metadata": {},
   "outputs": [],
   "source": [
    "def early_bird(df, format):\n",
    "    new_df = df[df['User']!='group_notification']\n",
    "    if format == '12 Hour':\n",
    "        new_df = new_df[((new_df['Meridian'] == 'AM') & (pd.to_numeric(new_df['Hour']) > 7)) | (new_df['Meridian'] == 'PM')]\n",
    "    elif format == '24 Hour':\n",
    "        new_df = df[pd.to_numeric(df['Hour']) > 7]\n",
    "    user = new_df['User'].value_counts()\n",
    "    username = user.index[0]\n",
    "    avg_msg = round(user[username]/len(new_df)*100, 2)\n",
    "    return username, avg_msg"
   ]
  },
  {
   "cell_type": "code",
   "execution_count": 401,
   "metadata": {},
   "outputs": [],
   "source": [
    "# early_bird(df, '12 Hour')"
   ]
  },
  {
   "cell_type": "code",
   "execution_count": 402,
   "metadata": {},
   "outputs": [
    {
     "data": {
      "text/plain": [
       "('Nancy Brown', 6.93)"
      ]
     },
     "execution_count": 402,
     "metadata": {},
     "output_type": "execute_result"
    }
   ],
   "source": [
    "early_bird(df, '24 Hour')"
   ]
  },
  {
   "cell_type": "markdown",
   "metadata": {},
   "source": [
    "# Night Owl"
   ]
  },
  {
   "cell_type": "code",
   "execution_count": 403,
   "metadata": {},
   "outputs": [],
   "source": [
    "def night_owl(df, format):\n",
    "    new_df = df[df['User']!='group_notification']\n",
    "    if format == '12 Hour':\n",
    "        new_df = new_df[((new_df['Meridian'] == 'AM') & (pd.to_numeric(new_df['Hour']) < 7)) | (new_df['Meridian'] == 'PM')]\n",
    "    elif format == '24 Hour':\n",
    "        new_df = new_df[(pd.to_numeric(new_df['Hour']) < 6) | (pd.to_numeric(new_df['Hour']) > 11)]\n",
    "    user = new_df['User'].value_counts()\n",
    "    username = user.index[0]\n",
    "    avg_msg = round(user[username]/len(new_df)*100, 2)\n",
    "    return username, avg_msg"
   ]
  },
  {
   "cell_type": "code",
   "execution_count": 404,
   "metadata": {},
   "outputs": [],
   "source": [
    "# night_owl(df, '12 Hour')"
   ]
  },
  {
   "cell_type": "code",
   "execution_count": 405,
   "metadata": {},
   "outputs": [
    {
     "data": {
      "text/plain": [
       "('Jessica Williams', 6.78)"
      ]
     },
     "execution_count": 405,
     "metadata": {},
     "output_type": "execute_result"
    }
   ],
   "source": [
    "night_owl(df, '24 Hour')"
   ]
  },
  {
   "cell_type": "markdown",
   "metadata": {},
   "source": [
    "# Most Shared Links"
   ]
  },
  {
   "cell_type": "code",
   "execution_count": 406,
   "metadata": {},
   "outputs": [],
   "source": [
    "def get_urls(df, selected_user):\n",
    "    if selected_user != 'Overall':\n",
    "        df = df[df['User'] == selected_user]\n",
    "    df = df[df['User'] != 'group_notification']\n",
    "    urls_list = []\n",
    "    url = []\n",
    "    for i in df['Message']:\n",
    "        o = re.findall('(https://.*)|(http://.*)',i)\n",
    "        if len(o) != 0:\n",
    "            urls_list.append(o[0][0].split(' ')[0])\n",
    "    if len(urls_list) != 0:\n",
    "        for i in urls_list:\n",
    "            o = re.search('.*[.](com|net|org|edu|gov|mil|aero|asia|biz|cat|coop|info|int|jobs|mobi|museum|name|post|pro|tel|travel|xxx|ac|ad|ae|af|ag|ai|al|am|an|ao|aq|ar|as|at|au|aw|ax|az|ba|bb|bd|be|bf|bg|bh|bi|bj|bm|bn|bo|br|bs|bt|bv|bw|by|bz|ca|cc|cd|cf|cg|ch|ci|ck|cl|cm|cn|co|cr|cs|cu|cv|cx|cy|cz|dd|de|dj|dk|dm|do|dz|ec|ee|eg|eh|er|es|et|eu|fi|fj|fk|fm|fo|fr|ga|gb|gd|ge|gf|gg|gh|gi|gl|gm|gn|gp|gq|gr|gs|gt|gu|gw|gy|hk|hm|hn|hr|ht|hu|id|ie|il|im|in|io|iq|ir|is|it|je|jm|jo|jp|ke|kg|kh|ki|km|kn|kp|kr|kw|ky|kz|la|lb|lc|li|lk|lr|ls|lt|lu|lv|ly|ma|mc|md|me|mg|mh|mk|ml|mm|mn|mo|mp|mq|mr|ms|mt|mu|mv|mw|mx|my|mz|na|nc|ne|nf|ng|ni|nl|no|np|nr|nu|nz|om|pa|pe|pf|pg|ph|pk|pl|pm|pn|pr|ps|pt|pw|py|qa|re|ro|rs|ru|rw|sa|sb|sc|sd|se|sg|sh|si|sj|Ja|sk|sl|sm|sn|so|sr|ss|st|su|sv|sx|sy|sz|tc|td|tf|tg|th|tj|tk|tl|tm|tn|to|tp|tr|tt|tv|tw|tz|ua|ug|uk|us|uy|uz|va|vc|ve|vg|vi|vn|vu|wf|ws|ye|yt|yu|za|zm|zw)',i)\n",
    "            if o != None:\n",
    "                url.append(o.group())\n",
    "        url_df = pd.DataFrame(Counter(url).most_common(len(Counter(url))), columns=['Urls', 'Count'])\n",
    "        return url_df\n",
    "    else:\n",
    "        return pd.DataFrame()"
   ]
  },
  {
   "cell_type": "code",
   "execution_count": 407,
   "metadata": {},
   "outputs": [
    {
     "data": {
      "text/html": [
       "<div>\n",
       "<style scoped>\n",
       "    .dataframe tbody tr th:only-of-type {\n",
       "        vertical-align: middle;\n",
       "    }\n",
       "\n",
       "    .dataframe tbody tr th {\n",
       "        vertical-align: top;\n",
       "    }\n",
       "\n",
       "    .dataframe thead th {\n",
       "        text-align: right;\n",
       "    }\n",
       "</style>\n",
       "<table border=\"1\" class=\"dataframe\">\n",
       "  <thead>\n",
       "    <tr style=\"text-align: right;\">\n",
       "      <th></th>\n",
       "    </tr>\n",
       "  </thead>\n",
       "  <tbody>\n",
       "  </tbody>\n",
       "</table>\n",
       "</div>"
      ],
      "text/plain": [
       "Empty DataFrame\n",
       "Columns: []\n",
       "Index: []"
      ]
     },
     "execution_count": 407,
     "metadata": {},
     "output_type": "execute_result"
    }
   ],
   "source": [
    "get_urls(df, 'Overall')"
   ]
  },
  {
   "cell_type": "markdown",
   "metadata": {},
   "source": [
    "# Most Shared Emojis"
   ]
  },
  {
   "cell_type": "code",
   "execution_count": 408,
   "metadata": {},
   "outputs": [],
   "source": [
    "def get_emojis(selected_user, df):\n",
    "    if selected_user != 'Overall':\n",
    "        df = df[df['User'] == selected_user]\n",
    "    emojis = []\n",
    "    description = []\n",
    "    for message in df['Message']:\n",
    "        all_emoji = emoji.distinct_emoji_list(message)\n",
    "        emojis.extend([emoji.emojize(is_emoji) for is_emoji in all_emoji])\n",
    "    emoji_df = pd.DataFrame(Counter(emojis).most_common(len(Counter(emojis))), columns=['Emoji', 'Count'])\n",
    "    for i in emoji_df['Emoji']:\n",
    "        description.append(emoji.demojize(i))\n",
    "    emoji_df['Description'] = description\n",
    "    emoji_df['Description'] = emoji_df['Description'].apply(lambda x: x.strip(':'))\n",
    "    emoji_df['EmojiDescription'] = emoji_df['Emoji'] + ' - ' + emoji_df['Description']\n",
    "    return emoji_df"
   ]
  },
  {
   "cell_type": "code",
   "execution_count": 409,
   "metadata": {},
   "outputs": [
    {
     "data": {
      "text/html": [
       "<div>\n",
       "<style scoped>\n",
       "    .dataframe tbody tr th:only-of-type {\n",
       "        vertical-align: middle;\n",
       "    }\n",
       "\n",
       "    .dataframe tbody tr th {\n",
       "        vertical-align: top;\n",
       "    }\n",
       "\n",
       "    .dataframe thead th {\n",
       "        text-align: right;\n",
       "    }\n",
       "</style>\n",
       "<table border=\"1\" class=\"dataframe\">\n",
       "  <thead>\n",
       "    <tr style=\"text-align: right;\">\n",
       "      <th></th>\n",
       "      <th>Emoji</th>\n",
       "      <th>Count</th>\n",
       "      <th>Description</th>\n",
       "      <th>EmojiDescription</th>\n",
       "    </tr>\n",
       "  </thead>\n",
       "  <tbody>\n",
       "    <tr>\n",
       "      <th>0</th>\n",
       "      <td>🙏</td>\n",
       "      <td>20</td>\n",
       "      <td>folded_hands</td>\n",
       "      <td>🙏 - folded_hands</td>\n",
       "    </tr>\n",
       "    <tr>\n",
       "      <th>1</th>\n",
       "      <td>🎂</td>\n",
       "      <td>13</td>\n",
       "      <td>birthday_cake</td>\n",
       "      <td>🎂 - birthday_cake</td>\n",
       "    </tr>\n",
       "    <tr>\n",
       "      <th>2</th>\n",
       "      <td>🌸</td>\n",
       "      <td>8</td>\n",
       "      <td>cherry_blossom</td>\n",
       "      <td>🌸 - cherry_blossom</td>\n",
       "    </tr>\n",
       "    <tr>\n",
       "      <th>3</th>\n",
       "      <td>🎉</td>\n",
       "      <td>7</td>\n",
       "      <td>party_popper</td>\n",
       "      <td>🎉 - party_popper</td>\n",
       "    </tr>\n",
       "  </tbody>\n",
       "</table>\n",
       "</div>"
      ],
      "text/plain": [
       "  Emoji  Count     Description    EmojiDescription\n",
       "0     🙏     20    folded_hands    🙏 - folded_hands\n",
       "1     🎂     13   birthday_cake   🎂 - birthday_cake\n",
       "2     🌸      8  cherry_blossom  🌸 - cherry_blossom\n",
       "3     🎉      7    party_popper    🎉 - party_popper"
      ]
     },
     "execution_count": 409,
     "metadata": {},
     "output_type": "execute_result"
    }
   ],
   "source": [
    "get_emojis('Overall', df)"
   ]
  },
  {
   "cell_type": "markdown",
   "metadata": {},
   "source": [
    "# Hourly Timeline"
   ]
  },
  {
   "cell_type": "code",
   "execution_count": 410,
   "metadata": {},
   "outputs": [],
   "source": [
    "def hourly_timeline(selected_user, df, format):\n",
    "  if selected_user != 'Overall':\n",
    "    df = df[df['User'] == selected_user]\n",
    "  new_df = df[df['User'] != 'group_notification']\n",
    "  \n",
    "  new_df['Message'] = [1] * new_df.shape[0]\n",
    "  if format == '12 Hour':\n",
    "    new_df['Hour'] = new_df['Hour'].apply(lambda x: ('0'+str(x)) if (len(x)<2) else x )\n",
    "    new_df['Hour'] = new_df['Meridian'].astype(str) + ' ' + new_df['Hour'].astype(str) \n",
    "  new_df = new_df.groupby('Hour')['Message'].sum().reset_index()\n",
    "  return new_df"
   ]
  },
  {
   "cell_type": "code",
   "execution_count": 411,
   "metadata": {},
   "outputs": [
    {
     "data": {
      "text/html": [
       "<div>\n",
       "<style scoped>\n",
       "    .dataframe tbody tr th:only-of-type {\n",
       "        vertical-align: middle;\n",
       "    }\n",
       "\n",
       "    .dataframe tbody tr th {\n",
       "        vertical-align: top;\n",
       "    }\n",
       "\n",
       "    .dataframe thead th {\n",
       "        text-align: right;\n",
       "    }\n",
       "</style>\n",
       "<table border=\"1\" class=\"dataframe\">\n",
       "  <thead>\n",
       "    <tr style=\"text-align: right;\">\n",
       "      <th></th>\n",
       "      <th>Hour</th>\n",
       "      <th>Message</th>\n",
       "    </tr>\n",
       "  </thead>\n",
       "  <tbody>\n",
       "    <tr>\n",
       "      <th>0</th>\n",
       "      <td>00</td>\n",
       "      <td>7</td>\n",
       "    </tr>\n",
       "    <tr>\n",
       "      <th>1</th>\n",
       "      <td>01</td>\n",
       "      <td>6</td>\n",
       "    </tr>\n",
       "    <tr>\n",
       "      <th>2</th>\n",
       "      <td>02</td>\n",
       "      <td>6</td>\n",
       "    </tr>\n",
       "    <tr>\n",
       "      <th>3</th>\n",
       "      <td>03</td>\n",
       "      <td>3</td>\n",
       "    </tr>\n",
       "    <tr>\n",
       "      <th>4</th>\n",
       "      <td>04</td>\n",
       "      <td>8</td>\n",
       "    </tr>\n",
       "    <tr>\n",
       "      <th>5</th>\n",
       "      <td>05</td>\n",
       "      <td>6</td>\n",
       "    </tr>\n",
       "    <tr>\n",
       "      <th>6</th>\n",
       "      <td>06</td>\n",
       "      <td>5</td>\n",
       "    </tr>\n",
       "    <tr>\n",
       "      <th>7</th>\n",
       "      <td>07</td>\n",
       "      <td>8</td>\n",
       "    </tr>\n",
       "    <tr>\n",
       "      <th>8</th>\n",
       "      <td>08</td>\n",
       "      <td>3</td>\n",
       "    </tr>\n",
       "    <tr>\n",
       "      <th>9</th>\n",
       "      <td>09</td>\n",
       "      <td>4</td>\n",
       "    </tr>\n",
       "    <tr>\n",
       "      <th>10</th>\n",
       "      <td>10</td>\n",
       "      <td>8</td>\n",
       "    </tr>\n",
       "    <tr>\n",
       "      <th>11</th>\n",
       "      <td>11</td>\n",
       "      <td>4</td>\n",
       "    </tr>\n",
       "    <tr>\n",
       "      <th>12</th>\n",
       "      <td>12</td>\n",
       "      <td>6</td>\n",
       "    </tr>\n",
       "    <tr>\n",
       "      <th>13</th>\n",
       "      <td>13</td>\n",
       "      <td>2</td>\n",
       "    </tr>\n",
       "    <tr>\n",
       "      <th>14</th>\n",
       "      <td>14</td>\n",
       "      <td>10</td>\n",
       "    </tr>\n",
       "    <tr>\n",
       "      <th>15</th>\n",
       "      <td>15</td>\n",
       "      <td>4</td>\n",
       "    </tr>\n",
       "    <tr>\n",
       "      <th>16</th>\n",
       "      <td>16</td>\n",
       "      <td>8</td>\n",
       "    </tr>\n",
       "    <tr>\n",
       "      <th>17</th>\n",
       "      <td>17</td>\n",
       "      <td>3</td>\n",
       "    </tr>\n",
       "    <tr>\n",
       "      <th>18</th>\n",
       "      <td>18</td>\n",
       "      <td>12</td>\n",
       "    </tr>\n",
       "    <tr>\n",
       "      <th>19</th>\n",
       "      <td>19</td>\n",
       "      <td>6</td>\n",
       "    </tr>\n",
       "    <tr>\n",
       "      <th>20</th>\n",
       "      <td>20</td>\n",
       "      <td>6</td>\n",
       "    </tr>\n",
       "    <tr>\n",
       "      <th>21</th>\n",
       "      <td>21</td>\n",
       "      <td>6</td>\n",
       "    </tr>\n",
       "    <tr>\n",
       "      <th>22</th>\n",
       "      <td>22</td>\n",
       "      <td>10</td>\n",
       "    </tr>\n",
       "    <tr>\n",
       "      <th>23</th>\n",
       "      <td>23</td>\n",
       "      <td>9</td>\n",
       "    </tr>\n",
       "  </tbody>\n",
       "</table>\n",
       "</div>"
      ],
      "text/plain": [
       "   Hour  Message\n",
       "0    00        7\n",
       "1    01        6\n",
       "2    02        6\n",
       "3    03        3\n",
       "4    04        8\n",
       "5    05        6\n",
       "6    06        5\n",
       "7    07        8\n",
       "8    08        3\n",
       "9    09        4\n",
       "10   10        8\n",
       "11   11        4\n",
       "12   12        6\n",
       "13   13        2\n",
       "14   14       10\n",
       "15   15        4\n",
       "16   16        8\n",
       "17   17        3\n",
       "18   18       12\n",
       "19   19        6\n",
       "20   20        6\n",
       "21   21        6\n",
       "22   22       10\n",
       "23   23        9"
      ]
     },
     "execution_count": 411,
     "metadata": {},
     "output_type": "execute_result"
    }
   ],
   "source": [
    "hourly_timeline('Overall', df, '24 Hour')"
   ]
  },
  {
   "cell_type": "markdown",
   "metadata": {},
   "source": [
    "# Daily Timeline"
   ]
  },
  {
   "cell_type": "code",
   "execution_count": 412,
   "metadata": {},
   "outputs": [],
   "source": [
    "def daily_timeline(selected_user, df):\n",
    "  if selected_user != 'Overall':\n",
    "    df = df[df['User'] == selected_user]\n",
    "  new_df = df[df['User'] != 'group_notification']\n",
    "  new_df = new_df.groupby('Date')['Message'].count().reset_index()\n",
    "  return new_df"
   ]
  },
  {
   "cell_type": "code",
   "execution_count": 413,
   "metadata": {},
   "outputs": [
    {
     "data": {
      "text/html": [
       "<div>\n",
       "<style scoped>\n",
       "    .dataframe tbody tr th:only-of-type {\n",
       "        vertical-align: middle;\n",
       "    }\n",
       "\n",
       "    .dataframe tbody tr th {\n",
       "        vertical-align: top;\n",
       "    }\n",
       "\n",
       "    .dataframe thead th {\n",
       "        text-align: right;\n",
       "    }\n",
       "</style>\n",
       "<table border=\"1\" class=\"dataframe\">\n",
       "  <thead>\n",
       "    <tr style=\"text-align: right;\">\n",
       "      <th></th>\n",
       "      <th>Date</th>\n",
       "      <th>Message</th>\n",
       "    </tr>\n",
       "  </thead>\n",
       "  <tbody>\n",
       "    <tr>\n",
       "      <th>0</th>\n",
       "      <td>2025-03-27</td>\n",
       "      <td>10</td>\n",
       "    </tr>\n",
       "    <tr>\n",
       "      <th>1</th>\n",
       "      <td>2025-03-28</td>\n",
       "      <td>10</td>\n",
       "    </tr>\n",
       "    <tr>\n",
       "      <th>2</th>\n",
       "      <td>2025-03-29</td>\n",
       "      <td>10</td>\n",
       "    </tr>\n",
       "    <tr>\n",
       "      <th>3</th>\n",
       "      <td>2025-03-30</td>\n",
       "      <td>10</td>\n",
       "    </tr>\n",
       "    <tr>\n",
       "      <th>4</th>\n",
       "      <td>2025-03-31</td>\n",
       "      <td>10</td>\n",
       "    </tr>\n",
       "    <tr>\n",
       "      <th>5</th>\n",
       "      <td>2025-04-01</td>\n",
       "      <td>10</td>\n",
       "    </tr>\n",
       "    <tr>\n",
       "      <th>6</th>\n",
       "      <td>2025-04-02</td>\n",
       "      <td>10</td>\n",
       "    </tr>\n",
       "    <tr>\n",
       "      <th>7</th>\n",
       "      <td>2025-04-03</td>\n",
       "      <td>10</td>\n",
       "    </tr>\n",
       "    <tr>\n",
       "      <th>8</th>\n",
       "      <td>2025-04-04</td>\n",
       "      <td>10</td>\n",
       "    </tr>\n",
       "    <tr>\n",
       "      <th>9</th>\n",
       "      <td>2025-04-05</td>\n",
       "      <td>10</td>\n",
       "    </tr>\n",
       "    <tr>\n",
       "      <th>10</th>\n",
       "      <td>2025-04-06</td>\n",
       "      <td>10</td>\n",
       "    </tr>\n",
       "    <tr>\n",
       "      <th>11</th>\n",
       "      <td>2025-04-07</td>\n",
       "      <td>10</td>\n",
       "    </tr>\n",
       "    <tr>\n",
       "      <th>12</th>\n",
       "      <td>2025-04-08</td>\n",
       "      <td>10</td>\n",
       "    </tr>\n",
       "    <tr>\n",
       "      <th>13</th>\n",
       "      <td>2025-04-09</td>\n",
       "      <td>10</td>\n",
       "    </tr>\n",
       "    <tr>\n",
       "      <th>14</th>\n",
       "      <td>2025-04-10</td>\n",
       "      <td>10</td>\n",
       "    </tr>\n",
       "  </tbody>\n",
       "</table>\n",
       "</div>"
      ],
      "text/plain": [
       "         Date  Message\n",
       "0  2025-03-27       10\n",
       "1  2025-03-28       10\n",
       "2  2025-03-29       10\n",
       "3  2025-03-30       10\n",
       "4  2025-03-31       10\n",
       "5  2025-04-01       10\n",
       "6  2025-04-02       10\n",
       "7  2025-04-03       10\n",
       "8  2025-04-04       10\n",
       "9  2025-04-05       10\n",
       "10 2025-04-06       10\n",
       "11 2025-04-07       10\n",
       "12 2025-04-08       10\n",
       "13 2025-04-09       10\n",
       "14 2025-04-10       10"
      ]
     },
     "execution_count": 413,
     "metadata": {},
     "output_type": "execute_result"
    }
   ],
   "source": [
    "daily_timeline('Overall', df)"
   ]
  },
  {
   "cell_type": "markdown",
   "metadata": {},
   "source": [
    "# Weekly Timeline"
   ]
  },
  {
   "cell_type": "code",
   "execution_count": 414,
   "metadata": {},
   "outputs": [],
   "source": [
    "def weekly_timeline(selected_user, df):\n",
    "  if selected_user != 'Overall':\n",
    "    df = df[df['User'] == selected_user]\n",
    "  new_df = df[df['User'] != 'group_notification']\n",
    "  new_df  = df.groupby(['Year','Month','WeekNum'], sort=False)['Message'].count().reset_index()\n",
    "  new_df['Week'] = new_df.apply(\n",
    "        lambda row: f\"Week 0{row['WeekNum']} - {row['Month']} - {row['Year']}\"\n",
    "        if row['WeekNum'] < 10 else f\"Week {row['WeekNum']} - {row['Month']} - {row['Year']}\",\n",
    "        axis=1\n",
    "    )\n",
    "  new_df.sort_values(['WeekNum', 'Month', 'Year'], inplace=True)\n",
    "  return new_df"
   ]
  },
  {
   "cell_type": "code",
   "execution_count": 415,
   "metadata": {},
   "outputs": [
    {
     "data": {
      "text/html": [
       "<div>\n",
       "<style scoped>\n",
       "    .dataframe tbody tr th:only-of-type {\n",
       "        vertical-align: middle;\n",
       "    }\n",
       "\n",
       "    .dataframe tbody tr th {\n",
       "        vertical-align: top;\n",
       "    }\n",
       "\n",
       "    .dataframe thead th {\n",
       "        text-align: right;\n",
       "    }\n",
       "</style>\n",
       "<table border=\"1\" class=\"dataframe\">\n",
       "  <thead>\n",
       "    <tr style=\"text-align: right;\">\n",
       "      <th></th>\n",
       "      <th>Year</th>\n",
       "      <th>Month</th>\n",
       "      <th>WeekNum</th>\n",
       "      <th>Message</th>\n",
       "      <th>Week</th>\n",
       "    </tr>\n",
       "  </thead>\n",
       "  <tbody>\n",
       "    <tr>\n",
       "      <th>0</th>\n",
       "      <td>2025</td>\n",
       "      <td>March</td>\n",
       "      <td>13</td>\n",
       "      <td>40</td>\n",
       "      <td>Week 13 - March - 2025</td>\n",
       "    </tr>\n",
       "    <tr>\n",
       "      <th>2</th>\n",
       "      <td>2025</td>\n",
       "      <td>April</td>\n",
       "      <td>14</td>\n",
       "      <td>60</td>\n",
       "      <td>Week 14 - April - 2025</td>\n",
       "    </tr>\n",
       "    <tr>\n",
       "      <th>1</th>\n",
       "      <td>2025</td>\n",
       "      <td>March</td>\n",
       "      <td>14</td>\n",
       "      <td>10</td>\n",
       "      <td>Week 14 - March - 2025</td>\n",
       "    </tr>\n",
       "    <tr>\n",
       "      <th>3</th>\n",
       "      <td>2025</td>\n",
       "      <td>April</td>\n",
       "      <td>15</td>\n",
       "      <td>40</td>\n",
       "      <td>Week 15 - April - 2025</td>\n",
       "    </tr>\n",
       "  </tbody>\n",
       "</table>\n",
       "</div>"
      ],
      "text/plain": [
       "   Year  Month  WeekNum  Message                    Week\n",
       "0  2025  March       13       40  Week 13 - March - 2025\n",
       "2  2025  April       14       60  Week 14 - April - 2025\n",
       "1  2025  March       14       10  Week 14 - March - 2025\n",
       "3  2025  April       15       40  Week 15 - April - 2025"
      ]
     },
     "execution_count": 415,
     "metadata": {},
     "output_type": "execute_result"
    }
   ],
   "source": [
    "weekly_timeline('Overall', df)"
   ]
  },
  {
   "cell_type": "code",
   "execution_count": 416,
   "metadata": {},
   "outputs": [
    {
     "data": {
      "text/html": [
       "<div>\n",
       "<style scoped>\n",
       "    .dataframe tbody tr th:only-of-type {\n",
       "        vertical-align: middle;\n",
       "    }\n",
       "\n",
       "    .dataframe tbody tr th {\n",
       "        vertical-align: top;\n",
       "    }\n",
       "\n",
       "    .dataframe thead th {\n",
       "        text-align: right;\n",
       "    }\n",
       "</style>\n",
       "<table border=\"1\" class=\"dataframe\">\n",
       "  <thead>\n",
       "    <tr style=\"text-align: right;\">\n",
       "      <th></th>\n",
       "      <th>Year</th>\n",
       "      <th>Month</th>\n",
       "      <th>WeekNum</th>\n",
       "      <th>Message</th>\n",
       "      <th>Week</th>\n",
       "    </tr>\n",
       "  </thead>\n",
       "  <tbody>\n",
       "  </tbody>\n",
       "</table>\n",
       "</div>"
      ],
      "text/plain": [
       "Empty DataFrame\n",
       "Columns: [Year, Month, WeekNum, Message, Week]\n",
       "Index: []"
      ]
     },
     "execution_count": 416,
     "metadata": {},
     "output_type": "execute_result"
    }
   ],
   "source": [
    "weekly_timeline('+91 6239 413 783', df)"
   ]
  },
  {
   "cell_type": "markdown",
   "metadata": {},
   "source": [
    "# Monthly Timeline"
   ]
  },
  {
   "cell_type": "code",
   "execution_count": 417,
   "metadata": {},
   "outputs": [],
   "source": [
    "def monthly_timeline(selected_user, df):\n",
    "    if selected_user != 'Overall':\n",
    "      df = df[df['User'] == selected_user]\n",
    "    new_df = df[df['User'] != 'group_notification']\n",
    "    new_df  = df.groupby(['Year','Month','MonthNum'], sort=False)['Message'].count().reset_index()\n",
    "    month = []\n",
    "    for i in range(new_df.shape[0]):\n",
    "        month.append(str(new_df['MonthNum'][i]) + \" - \" + new_df['Month'][i] + \" - \" + str(new_df['Year'][i]))\n",
    "    new_df['Months'] = month\n",
    "    new_df['Months'] = new_df[['MonthNum', 'Months']].apply(lambda x: \"Month 0\"+x['Months'] if x['MonthNum']<10 else \"Month \"+x['Months'], axis=1)\n",
    "    new_df.sort_values(['MonthNum', 'Year'], inplace=True)\n",
    "    return new_df"
   ]
  },
  {
   "cell_type": "code",
   "execution_count": 418,
   "metadata": {},
   "outputs": [
    {
     "data": {
      "text/html": [
       "<div>\n",
       "<style scoped>\n",
       "    .dataframe tbody tr th:only-of-type {\n",
       "        vertical-align: middle;\n",
       "    }\n",
       "\n",
       "    .dataframe tbody tr th {\n",
       "        vertical-align: top;\n",
       "    }\n",
       "\n",
       "    .dataframe thead th {\n",
       "        text-align: right;\n",
       "    }\n",
       "</style>\n",
       "<table border=\"1\" class=\"dataframe\">\n",
       "  <thead>\n",
       "    <tr style=\"text-align: right;\">\n",
       "      <th></th>\n",
       "      <th>Year</th>\n",
       "      <th>Month</th>\n",
       "      <th>MonthNum</th>\n",
       "      <th>Message</th>\n",
       "      <th>Months</th>\n",
       "    </tr>\n",
       "  </thead>\n",
       "  <tbody>\n",
       "    <tr>\n",
       "      <th>0</th>\n",
       "      <td>2025</td>\n",
       "      <td>March</td>\n",
       "      <td>3</td>\n",
       "      <td>50</td>\n",
       "      <td>Month 03 - March - 2025</td>\n",
       "    </tr>\n",
       "    <tr>\n",
       "      <th>1</th>\n",
       "      <td>2025</td>\n",
       "      <td>April</td>\n",
       "      <td>4</td>\n",
       "      <td>100</td>\n",
       "      <td>Month 04 - April - 2025</td>\n",
       "    </tr>\n",
       "  </tbody>\n",
       "</table>\n",
       "</div>"
      ],
      "text/plain": [
       "   Year  Month  MonthNum  Message                   Months\n",
       "0  2025  March         3       50  Month 03 - March - 2025\n",
       "1  2025  April         4      100  Month 04 - April - 2025"
      ]
     },
     "execution_count": 418,
     "metadata": {},
     "output_type": "execute_result"
    }
   ],
   "source": [
    "monthly_timeline('Overall', df)"
   ]
  },
  {
   "cell_type": "markdown",
   "metadata": {},
   "source": [
    "# Most Busy Day"
   ]
  },
  {
   "cell_type": "code",
   "execution_count": 419,
   "metadata": {},
   "outputs": [],
   "source": [
    "def most_busy_day(selected_user, df):\n",
    "  if selected_user != 'Overall':\n",
    "    df = df[df['User'] == selected_user]\n",
    "  new_df = df[df['User'] != 'group_notification']\n",
    "  \n",
    "  new_df = new_df.groupby(['DayName', 'DayOfWeek'], sort=False)['Message'].count().reset_index()\n",
    "  new_df.sort_values('DayOfWeek', inplace=True)\n",
    "  new_df['Days'] = new_df['DayOfWeek'].astype(str) + \" - \" + new_df['DayName']\n",
    "  return new_df"
   ]
  },
  {
   "cell_type": "code",
   "execution_count": 420,
   "metadata": {},
   "outputs": [
    {
     "data": {
      "text/html": [
       "<div>\n",
       "<style scoped>\n",
       "    .dataframe tbody tr th:only-of-type {\n",
       "        vertical-align: middle;\n",
       "    }\n",
       "\n",
       "    .dataframe tbody tr th {\n",
       "        vertical-align: top;\n",
       "    }\n",
       "\n",
       "    .dataframe thead th {\n",
       "        text-align: right;\n",
       "    }\n",
       "</style>\n",
       "<table border=\"1\" class=\"dataframe\">\n",
       "  <thead>\n",
       "    <tr style=\"text-align: right;\">\n",
       "      <th></th>\n",
       "      <th>DayName</th>\n",
       "      <th>DayOfWeek</th>\n",
       "      <th>Message</th>\n",
       "      <th>Days</th>\n",
       "    </tr>\n",
       "  </thead>\n",
       "  <tbody>\n",
       "    <tr>\n",
       "      <th>4</th>\n",
       "      <td>Monday</td>\n",
       "      <td>0</td>\n",
       "      <td>20</td>\n",
       "      <td>0 - Monday</td>\n",
       "    </tr>\n",
       "    <tr>\n",
       "      <th>5</th>\n",
       "      <td>Tuesday</td>\n",
       "      <td>1</td>\n",
       "      <td>20</td>\n",
       "      <td>1 - Tuesday</td>\n",
       "    </tr>\n",
       "    <tr>\n",
       "      <th>6</th>\n",
       "      <td>Wednesday</td>\n",
       "      <td>2</td>\n",
       "      <td>20</td>\n",
       "      <td>2 - Wednesday</td>\n",
       "    </tr>\n",
       "    <tr>\n",
       "      <th>0</th>\n",
       "      <td>Thursday</td>\n",
       "      <td>3</td>\n",
       "      <td>30</td>\n",
       "      <td>3 - Thursday</td>\n",
       "    </tr>\n",
       "    <tr>\n",
       "      <th>1</th>\n",
       "      <td>Friday</td>\n",
       "      <td>4</td>\n",
       "      <td>20</td>\n",
       "      <td>4 - Friday</td>\n",
       "    </tr>\n",
       "    <tr>\n",
       "      <th>2</th>\n",
       "      <td>Saturday</td>\n",
       "      <td>5</td>\n",
       "      <td>20</td>\n",
       "      <td>5 - Saturday</td>\n",
       "    </tr>\n",
       "    <tr>\n",
       "      <th>3</th>\n",
       "      <td>Sunday</td>\n",
       "      <td>6</td>\n",
       "      <td>20</td>\n",
       "      <td>6 - Sunday</td>\n",
       "    </tr>\n",
       "  </tbody>\n",
       "</table>\n",
       "</div>"
      ],
      "text/plain": [
       "     DayName  DayOfWeek  Message           Days\n",
       "4     Monday          0       20     0 - Monday\n",
       "5    Tuesday          1       20    1 - Tuesday\n",
       "6  Wednesday          2       20  2 - Wednesday\n",
       "0   Thursday          3       30   3 - Thursday\n",
       "1     Friday          4       20     4 - Friday\n",
       "2   Saturday          5       20   5 - Saturday\n",
       "3     Sunday          6       20     6 - Sunday"
      ]
     },
     "execution_count": 420,
     "metadata": {},
     "output_type": "execute_result"
    }
   ],
   "source": [
    "most_busy_day('Overall', df)"
   ]
  },
  {
   "cell_type": "markdown",
   "metadata": {},
   "source": [
    "# Most Busy Month"
   ]
  },
  {
   "cell_type": "code",
   "execution_count": 421,
   "metadata": {},
   "outputs": [],
   "source": [
    "def most_busy_month(selected_user, df):\n",
    "  if selected_user != 'Overall':\n",
    "    df = df[df['User'] == selected_user]\n",
    "  new_df = df[df['User'] != 'group_notification']\n",
    "  \n",
    "  new_df = new_df.groupby(['MonthNum', 'Month'], sort=False)['Message'].count().reset_index()\n",
    "  new_df.sort_values('MonthNum', inplace=True)\n",
    "  new_df['Months'] = new_df['MonthNum'].astype(str) + \" - \" + new_df['Month']\n",
    "  new_df['Months'] = new_df[['MonthNum', 'Months']].apply(lambda x: \"Month 0\"+x['Months'] if x['MonthNum']<10 else \"Month \"+x['Months'], axis=1)\n",
    "  return new_df"
   ]
  },
  {
   "cell_type": "code",
   "execution_count": 422,
   "metadata": {},
   "outputs": [
    {
     "data": {
      "text/html": [
       "<div>\n",
       "<style scoped>\n",
       "    .dataframe tbody tr th:only-of-type {\n",
       "        vertical-align: middle;\n",
       "    }\n",
       "\n",
       "    .dataframe tbody tr th {\n",
       "        vertical-align: top;\n",
       "    }\n",
       "\n",
       "    .dataframe thead th {\n",
       "        text-align: right;\n",
       "    }\n",
       "</style>\n",
       "<table border=\"1\" class=\"dataframe\">\n",
       "  <thead>\n",
       "    <tr style=\"text-align: right;\">\n",
       "      <th></th>\n",
       "      <th>MonthNum</th>\n",
       "      <th>Month</th>\n",
       "      <th>Message</th>\n",
       "      <th>Months</th>\n",
       "    </tr>\n",
       "  </thead>\n",
       "  <tbody>\n",
       "    <tr>\n",
       "      <th>0</th>\n",
       "      <td>3</td>\n",
       "      <td>March</td>\n",
       "      <td>50</td>\n",
       "      <td>Month 03 - March</td>\n",
       "    </tr>\n",
       "    <tr>\n",
       "      <th>1</th>\n",
       "      <td>4</td>\n",
       "      <td>April</td>\n",
       "      <td>100</td>\n",
       "      <td>Month 04 - April</td>\n",
       "    </tr>\n",
       "  </tbody>\n",
       "</table>\n",
       "</div>"
      ],
      "text/plain": [
       "   MonthNum  Month  Message            Months\n",
       "0         3  March       50  Month 03 - March\n",
       "1         4  April      100  Month 04 - April"
      ]
     },
     "execution_count": 422,
     "metadata": {},
     "output_type": "execute_result"
    }
   ],
   "source": [
    "most_busy_month('Overall', df)\n",
    "# temp['Months']"
   ]
  },
  {
   "cell_type": "markdown",
   "metadata": {},
   "source": [
    "# User Chat Percentage"
   ]
  },
  {
   "cell_type": "code",
   "execution_count": 423,
   "metadata": {},
   "outputs": [],
   "source": [
    "def user_chat_percentage(df):\n",
    "    df = df[df['User'] != 'group_notification']\n",
    "    user = df['User'].value_counts()\n",
    "    new_df = pd.DataFrame ({ 'User': user.index, 'Message': user})\n",
    "    new_df['Percentage'] = new_df['Message'].apply(lambda x: round(x/len(df)*100, 2))\n",
    "    new_df['User'] = new_df['Percentage'].astype(str) + \"% - \" + new_df['User']\n",
    "    new_df.drop('Message', axis=1, inplace=True)\n",
    "    new_df.reset_index(drop=True,inplace=True)\n",
    "    return new_df"
   ]
  },
  {
   "cell_type": "code",
   "execution_count": 424,
   "metadata": {},
   "outputs": [
    {
     "data": {
      "text/html": [
       "<div>\n",
       "<style scoped>\n",
       "    .dataframe tbody tr th:only-of-type {\n",
       "        vertical-align: middle;\n",
       "    }\n",
       "\n",
       "    .dataframe tbody tr th {\n",
       "        vertical-align: top;\n",
       "    }\n",
       "\n",
       "    .dataframe thead th {\n",
       "        text-align: right;\n",
       "    }\n",
       "</style>\n",
       "<table border=\"1\" class=\"dataframe\">\n",
       "  <thead>\n",
       "    <tr style=\"text-align: right;\">\n",
       "      <th></th>\n",
       "      <th>User</th>\n",
       "      <th>Percentage</th>\n",
       "    </tr>\n",
       "  </thead>\n",
       "  <tbody>\n",
       "    <tr>\n",
       "      <th>0</th>\n",
       "      <td>5.33% - Kim Mason</td>\n",
       "      <td>5.33</td>\n",
       "    </tr>\n",
       "    <tr>\n",
       "      <th>1</th>\n",
       "      <td>5.33% - Jessica Gonzalez</td>\n",
       "      <td>5.33</td>\n",
       "    </tr>\n",
       "    <tr>\n",
       "      <th>2</th>\n",
       "      <td>5.33% - Joshua Fisher</td>\n",
       "      <td>5.33</td>\n",
       "    </tr>\n",
       "    <tr>\n",
       "      <th>3</th>\n",
       "      <td>5.33% - Nancy Brown</td>\n",
       "      <td>5.33</td>\n",
       "    </tr>\n",
       "    <tr>\n",
       "      <th>4</th>\n",
       "      <td>5.33% - Stacie Perez</td>\n",
       "      <td>5.33</td>\n",
       "    </tr>\n",
       "    <tr>\n",
       "      <th>5</th>\n",
       "      <td>5.33% - Meghan Bowman</td>\n",
       "      <td>5.33</td>\n",
       "    </tr>\n",
       "    <tr>\n",
       "      <th>6</th>\n",
       "      <td>5.33% - Mary Wright</td>\n",
       "      <td>5.33</td>\n",
       "    </tr>\n",
       "    <tr>\n",
       "      <th>7</th>\n",
       "      <td>5.33% - Matthew Oneill</td>\n",
       "      <td>5.33</td>\n",
       "    </tr>\n",
       "    <tr>\n",
       "      <th>8</th>\n",
       "      <td>5.33% - Tim Lee</td>\n",
       "      <td>5.33</td>\n",
       "    </tr>\n",
       "    <tr>\n",
       "      <th>9</th>\n",
       "      <td>5.33% - Jessica Williams</td>\n",
       "      <td>5.33</td>\n",
       "    </tr>\n",
       "    <tr>\n",
       "      <th>10</th>\n",
       "      <td>4.67% - Kenneth Holmes</td>\n",
       "      <td>4.67</td>\n",
       "    </tr>\n",
       "    <tr>\n",
       "      <th>11</th>\n",
       "      <td>4.67% - Sara Wallace</td>\n",
       "      <td>4.67</td>\n",
       "    </tr>\n",
       "    <tr>\n",
       "      <th>12</th>\n",
       "      <td>4.67% - Donna Dominguez</td>\n",
       "      <td>4.67</td>\n",
       "    </tr>\n",
       "    <tr>\n",
       "      <th>13</th>\n",
       "      <td>4.67% - Billy Richardson</td>\n",
       "      <td>4.67</td>\n",
       "    </tr>\n",
       "    <tr>\n",
       "      <th>14</th>\n",
       "      <td>4.67% - Amanda Williams</td>\n",
       "      <td>4.67</td>\n",
       "    </tr>\n",
       "    <tr>\n",
       "      <th>15</th>\n",
       "      <td>4.67% - Jeanne Short</td>\n",
       "      <td>4.67</td>\n",
       "    </tr>\n",
       "    <tr>\n",
       "      <th>16</th>\n",
       "      <td>4.67% - Casey Mills</td>\n",
       "      <td>4.67</td>\n",
       "    </tr>\n",
       "    <tr>\n",
       "      <th>17</th>\n",
       "      <td>4.67% - Mr. Jesse Bryan</td>\n",
       "      <td>4.67</td>\n",
       "    </tr>\n",
       "    <tr>\n",
       "      <th>18</th>\n",
       "      <td>4.67% - Shannon Jones</td>\n",
       "      <td>4.67</td>\n",
       "    </tr>\n",
       "    <tr>\n",
       "      <th>19</th>\n",
       "      <td>4.67% - Kelly Fox</td>\n",
       "      <td>4.67</td>\n",
       "    </tr>\n",
       "  </tbody>\n",
       "</table>\n",
       "</div>"
      ],
      "text/plain": [
       "                        User  Percentage\n",
       "0          5.33% - Kim Mason        5.33\n",
       "1   5.33% - Jessica Gonzalez        5.33\n",
       "2      5.33% - Joshua Fisher        5.33\n",
       "3        5.33% - Nancy Brown        5.33\n",
       "4       5.33% - Stacie Perez        5.33\n",
       "5      5.33% - Meghan Bowman        5.33\n",
       "6        5.33% - Mary Wright        5.33\n",
       "7     5.33% - Matthew Oneill        5.33\n",
       "8            5.33% - Tim Lee        5.33\n",
       "9   5.33% - Jessica Williams        5.33\n",
       "10    4.67% - Kenneth Holmes        4.67\n",
       "11      4.67% - Sara Wallace        4.67\n",
       "12   4.67% - Donna Dominguez        4.67\n",
       "13  4.67% - Billy Richardson        4.67\n",
       "14   4.67% - Amanda Williams        4.67\n",
       "15      4.67% - Jeanne Short        4.67\n",
       "16       4.67% - Casey Mills        4.67\n",
       "17   4.67% - Mr. Jesse Bryan        4.67\n",
       "18     4.67% - Shannon Jones        4.67\n",
       "19         4.67% - Kelly Fox        4.67"
      ]
     },
     "execution_count": 424,
     "metadata": {},
     "output_type": "execute_result"
    }
   ],
   "source": [
    "user_chat_percentage(df)"
   ]
  },
  {
   "cell_type": "markdown",
   "metadata": {},
   "source": [
    "# Most Common Word"
   ]
  },
  {
   "cell_type": "code",
   "execution_count": 425,
   "metadata": {},
   "outputs": [],
   "source": [
    "def most_common_words(selected_user, df):\n",
    "  if selected_user != 'Overall':\n",
    "    df = df[df['User'] == selected_user]\n",
    "  new_df = df[df['User'] != 'group_notification']\n",
    "  new_df = new_df[~new_df['Message'].str.contains('<Media omitted>')]\n",
    "  f = open('stop_hinglish.txt')\n",
    "  stop_words = f.read()\n",
    "\n",
    "  words = []\n",
    "\n",
    "  for message in new_df['Message']:\n",
    "    message = re.sub('[^A-Za-z\\s]','',message)\n",
    "    if message == '':\n",
    "        pass\n",
    "    else:\n",
    "        for word in message.lower().split():\n",
    "            if word not in stop_words:\n",
    "                words.append(word)\n",
    "  \n",
    "  most_common_df = pd.DataFrame(Counter(words).most_common(20), columns=['Message', 'Count'])\n",
    "  most_common_df.sort_values('Count')\n",
    "  return most_common_df"
   ]
  },
  {
   "cell_type": "code",
   "execution_count": 426,
   "metadata": {},
   "outputs": [
    {
     "data": {
      "text/html": [
       "<div>\n",
       "<style scoped>\n",
       "    .dataframe tbody tr th:only-of-type {\n",
       "        vertical-align: middle;\n",
       "    }\n",
       "\n",
       "    .dataframe tbody tr th {\n",
       "        vertical-align: top;\n",
       "    }\n",
       "\n",
       "    .dataframe thead th {\n",
       "        text-align: right;\n",
       "    }\n",
       "</style>\n",
       "<table border=\"1\" class=\"dataframe\">\n",
       "  <thead>\n",
       "    <tr style=\"text-align: right;\">\n",
       "      <th></th>\n",
       "      <th>Message</th>\n",
       "      <th>Count</th>\n",
       "    </tr>\n",
       "  </thead>\n",
       "  <tbody>\n",
       "    <tr>\n",
       "      <th>0</th>\n",
       "      <td>great</td>\n",
       "      <td>13</td>\n",
       "    </tr>\n",
       "    <tr>\n",
       "      <th>1</th>\n",
       "      <td>thoughts</td>\n",
       "      <td>13</td>\n",
       "    </tr>\n",
       "    <tr>\n",
       "      <th>2</th>\n",
       "      <td>shared</td>\n",
       "      <td>13</td>\n",
       "    </tr>\n",
       "    <tr>\n",
       "      <th>3</th>\n",
       "      <td>today</td>\n",
       "      <td>13</td>\n",
       "    </tr>\n",
       "    <tr>\n",
       "      <th>4</th>\n",
       "      <td>happy</td>\n",
       "      <td>13</td>\n",
       "    </tr>\n",
       "    <tr>\n",
       "      <th>5</th>\n",
       "      <td>birthday</td>\n",
       "      <td>13</td>\n",
       "    </tr>\n",
       "    <tr>\n",
       "      <th>6</th>\n",
       "      <td>lovely</td>\n",
       "      <td>13</td>\n",
       "    </tr>\n",
       "    <tr>\n",
       "      <th>7</th>\n",
       "      <td>memories</td>\n",
       "      <td>13</td>\n",
       "    </tr>\n",
       "    <tr>\n",
       "      <th>8</th>\n",
       "      <td>trip</td>\n",
       "      <td>13</td>\n",
       "    </tr>\n",
       "    <tr>\n",
       "      <th>9</th>\n",
       "      <td>noted</td>\n",
       "      <td>13</td>\n",
       "    </tr>\n",
       "    <tr>\n",
       "      <th>10</th>\n",
       "      <td>update</td>\n",
       "      <td>11</td>\n",
       "    </tr>\n",
       "    <tr>\n",
       "      <th>11</th>\n",
       "      <td>event</td>\n",
       "      <td>11</td>\n",
       "    </tr>\n",
       "    <tr>\n",
       "      <th>12</th>\n",
       "      <td>wonderful</td>\n",
       "      <td>10</td>\n",
       "    </tr>\n",
       "    <tr>\n",
       "      <th>13</th>\n",
       "      <td>news</td>\n",
       "      <td>10</td>\n",
       "    </tr>\n",
       "    <tr>\n",
       "      <th>14</th>\n",
       "      <td>forward</td>\n",
       "      <td>8</td>\n",
       "    </tr>\n",
       "    <tr>\n",
       "      <th>15</th>\n",
       "      <td>message</td>\n",
       "      <td>8</td>\n",
       "    </tr>\n",
       "    <tr>\n",
       "      <th>16</th>\n",
       "      <td>lets</td>\n",
       "      <td>8</td>\n",
       "    </tr>\n",
       "    <tr>\n",
       "      <th>17</th>\n",
       "      <td>meet</td>\n",
       "      <td>8</td>\n",
       "    </tr>\n",
       "    <tr>\n",
       "      <th>18</th>\n",
       "      <td>temple</td>\n",
       "      <td>8</td>\n",
       "    </tr>\n",
       "    <tr>\n",
       "      <th>19</th>\n",
       "      <td>tomorrow</td>\n",
       "      <td>8</td>\n",
       "    </tr>\n",
       "  </tbody>\n",
       "</table>\n",
       "</div>"
      ],
      "text/plain": [
       "      Message  Count\n",
       "0       great     13\n",
       "1    thoughts     13\n",
       "2      shared     13\n",
       "3       today     13\n",
       "4       happy     13\n",
       "5    birthday     13\n",
       "6      lovely     13\n",
       "7    memories     13\n",
       "8        trip     13\n",
       "9       noted     13\n",
       "10     update     11\n",
       "11      event     11\n",
       "12  wonderful     10\n",
       "13       news     10\n",
       "14    forward      8\n",
       "15    message      8\n",
       "16       lets      8\n",
       "17       meet      8\n",
       "18     temple      8\n",
       "19   tomorrow      8"
      ]
     },
     "execution_count": 426,
     "metadata": {},
     "output_type": "execute_result"
    }
   ],
   "source": [
    "most_common_words('Overall', df)"
   ]
  },
  {
   "cell_type": "markdown",
   "metadata": {},
   "source": [
    "# Word Cloud"
   ]
  },
  {
   "cell_type": "code",
   "execution_count": 427,
   "metadata": {},
   "outputs": [],
   "source": [
    "def create_wordcloud(selected_user, df):\n",
    "  if selected_user != 'Overall':\n",
    "    df = df[df['User'] == selected_user]\n",
    "  new_df = df[df['User'] != 'group_notification']\n",
    "  new_df = new_df[new_df['Message'] != '<Media omitted>\\n']\n",
    "  \n",
    "  f = open('stop_hinglish.txt')\n",
    "  stop_words = f.read()\n",
    "\n",
    "  def remove_stop_words(message):\n",
    "    y = []\n",
    "    for word in message.lower().split():\n",
    "      if word not in stop_words:\n",
    "        y.append(word)\n",
    "    return \" \".join(y)\n",
    "\n",
    "  wc = WordCloud(width=500, height=500, min_font_size=10)\n",
    "  new_df['Message'] = new_df['Message'].apply(remove_stop_words)\n",
    "  df_wc = wc.generate(new_df['Message'].str.cat(sep=\" \"))\n",
    "  return df_wc"
   ]
  },
  {
   "cell_type": "code",
   "execution_count": 428,
   "metadata": {},
   "outputs": [
    {
     "data": {
      "text/plain": [
       "<wordcloud.wordcloud.WordCloud at 0x15239001c90>"
      ]
     },
     "execution_count": 428,
     "metadata": {},
     "output_type": "execute_result"
    }
   ],
   "source": [
    "create_wordcloud('Overall', df)"
   ]
  },
  {
   "cell_type": "code",
   "execution_count": 429,
   "metadata": {},
   "outputs": [
    {
     "name": "stderr",
     "output_type": "stream",
     "text": [
      "C:\\Users\\lenovo\\AppData\\Local\\Temp\\ipykernel_7852\\685027373.py:1: UserWarning: Parsing dates in %d-%m-%Y format when dayfirst=False (the default) was specified. Pass `dayfirst=True` or specify a format to silence this warning.\n",
      "  pd.to_datetime('25-04-2022')\n"
     ]
    },
    {
     "data": {
      "text/plain": [
       "Timestamp('2022-04-25 00:00:00')"
      ]
     },
     "execution_count": 429,
     "metadata": {},
     "output_type": "execute_result"
    }
   ],
   "source": [
    "pd.to_datetime('25-04-2022')"
   ]
  },
  {
   "cell_type": "markdown",
   "metadata": {},
   "source": [
    "# Sentimental Analysis"
   ]
  },
  {
   "cell_type": "markdown",
   "metadata": {},
   "source": [
    "# Generating Words.xlsx"
   ]
  },
  {
   "cell_type": "code",
   "execution_count": 430,
   "metadata": {},
   "outputs": [],
   "source": [
    "def remove_emojis(data):\n",
    "    return emoji.demojize(data)"
   ]
  },
  {
   "cell_type": "code",
   "execution_count": 431,
   "metadata": {},
   "outputs": [],
   "source": [
    "new_df = df[df['User']!='group_notification']\n",
    "new_df = new_df[new_df['Message']!='<Media omitted> ']\n",
    "new_df = new_df[new_df['Message']!='This message was deleted'] \n",
    "# new_df['Message'] = new_df['Message'].apply(remove_emojis)"
   ]
  },
  {
   "cell_type": "code",
   "execution_count": 432,
   "metadata": {},
   "outputs": [
    {
     "data": {
      "text/html": [
       "<div>\n",
       "<style scoped>\n",
       "    .dataframe tbody tr th:only-of-type {\n",
       "        vertical-align: middle;\n",
       "    }\n",
       "\n",
       "    .dataframe tbody tr th {\n",
       "        vertical-align: top;\n",
       "    }\n",
       "\n",
       "    .dataframe thead th {\n",
       "        text-align: right;\n",
       "    }\n",
       "</style>\n",
       "<table border=\"1\" class=\"dataframe\">\n",
       "  <thead>\n",
       "    <tr style=\"text-align: right;\">\n",
       "      <th></th>\n",
       "      <th>Date</th>\n",
       "      <th>Time</th>\n",
       "      <th>User</th>\n",
       "      <th>Message</th>\n",
       "      <th>Year</th>\n",
       "      <th>Month</th>\n",
       "      <th>MonthNum</th>\n",
       "      <th>DayOfWeek</th>\n",
       "      <th>WeekNum</th>\n",
       "      <th>Day</th>\n",
       "      <th>DayName</th>\n",
       "      <th>Hour</th>\n",
       "      <th>Minute</th>\n",
       "    </tr>\n",
       "  </thead>\n",
       "  <tbody>\n",
       "    <tr>\n",
       "      <th>0</th>\n",
       "      <td>2025-03-27</td>\n",
       "      <td>11:00</td>\n",
       "      <td>Kim Mason</td>\n",
       "      <td>Great thoughts shared today!\" \"</td>\n",
       "      <td>2025</td>\n",
       "      <td>March</td>\n",
       "      <td>3</td>\n",
       "      <td>3</td>\n",
       "      <td>13</td>\n",
       "      <td>27</td>\n",
       "      <td>Thursday</td>\n",
       "      <td>11</td>\n",
       "      <td>00</td>\n",
       "    </tr>\n",
       "    <tr>\n",
       "      <th>1</th>\n",
       "      <td>2025-03-27</td>\n",
       "      <td>22:15</td>\n",
       "      <td>Jessica Williams</td>\n",
       "      <td>Congratulations on your achievement! 🎉\" \"</td>\n",
       "      <td>2025</td>\n",
       "      <td>March</td>\n",
       "      <td>3</td>\n",
       "      <td>3</td>\n",
       "      <td>13</td>\n",
       "      <td>27</td>\n",
       "      <td>Thursday</td>\n",
       "      <td>22</td>\n",
       "      <td>15</td>\n",
       "    </tr>\n",
       "    <tr>\n",
       "      <th>2</th>\n",
       "      <td>2025-03-27</td>\n",
       "      <td>02:32</td>\n",
       "      <td>Jessica Gonzalez</td>\n",
       "      <td>That’s wonderful news!\" \"</td>\n",
       "      <td>2025</td>\n",
       "      <td>March</td>\n",
       "      <td>3</td>\n",
       "      <td>3</td>\n",
       "      <td>13</td>\n",
       "      <td>27</td>\n",
       "      <td>Thursday</td>\n",
       "      <td>02</td>\n",
       "      <td>32</td>\n",
       "    </tr>\n",
       "    <tr>\n",
       "      <th>3</th>\n",
       "      <td>2025-03-27</td>\n",
       "      <td>07:26</td>\n",
       "      <td>Joshua Fisher</td>\n",
       "      <td></td>\n",
       "      <td>2025</td>\n",
       "      <td>March</td>\n",
       "      <td>3</td>\n",
       "      <td>3</td>\n",
       "      <td>13</td>\n",
       "      <td>27</td>\n",
       "      <td>Thursday</td>\n",
       "      <td>07</td>\n",
       "      <td>26</td>\n",
       "    </tr>\n",
       "    <tr>\n",
       "      <th>4</th>\n",
       "      <td>2025-03-27</td>\n",
       "      <td>21:47</td>\n",
       "      <td>Nancy Brown</td>\n",
       "      <td>Here’s the update on the event:\" \"</td>\n",
       "      <td>2025</td>\n",
       "      <td>March</td>\n",
       "      <td>3</td>\n",
       "      <td>3</td>\n",
       "      <td>13</td>\n",
       "      <td>27</td>\n",
       "      <td>Thursday</td>\n",
       "      <td>21</td>\n",
       "      <td>47</td>\n",
       "    </tr>\n",
       "    <tr>\n",
       "      <th>...</th>\n",
       "      <td>...</td>\n",
       "      <td>...</td>\n",
       "      <td>...</td>\n",
       "      <td>...</td>\n",
       "      <td>...</td>\n",
       "      <td>...</td>\n",
       "      <td>...</td>\n",
       "      <td>...</td>\n",
       "      <td>...</td>\n",
       "      <td>...</td>\n",
       "      <td>...</td>\n",
       "      <td>...</td>\n",
       "      <td>...</td>\n",
       "    </tr>\n",
       "    <tr>\n",
       "      <th>145</th>\n",
       "      <td>2025-04-10</td>\n",
       "      <td>23:20</td>\n",
       "      <td>Stacie Perez</td>\n",
       "      <td>Let's meet at the temple tomorrow.\" \"</td>\n",
       "      <td>2025</td>\n",
       "      <td>April</td>\n",
       "      <td>4</td>\n",
       "      <td>3</td>\n",
       "      <td>15</td>\n",
       "      <td>10</td>\n",
       "      <td>Thursday</td>\n",
       "      <td>23</td>\n",
       "      <td>20</td>\n",
       "    </tr>\n",
       "    <tr>\n",
       "      <th>146</th>\n",
       "      <td>2025-04-10</td>\n",
       "      <td>04:22</td>\n",
       "      <td>Meghan Bowman</td>\n",
       "      <td>Great thoughts shared today!\" \"</td>\n",
       "      <td>2025</td>\n",
       "      <td>April</td>\n",
       "      <td>4</td>\n",
       "      <td>3</td>\n",
       "      <td>15</td>\n",
       "      <td>10</td>\n",
       "      <td>Thursday</td>\n",
       "      <td>04</td>\n",
       "      <td>22</td>\n",
       "    </tr>\n",
       "    <tr>\n",
       "      <th>147</th>\n",
       "      <td>2025-04-10</td>\n",
       "      <td>15:00</td>\n",
       "      <td>Mary Wright</td>\n",
       "      <td>Lovely memories from the trip!\" \"</td>\n",
       "      <td>2025</td>\n",
       "      <td>April</td>\n",
       "      <td>4</td>\n",
       "      <td>3</td>\n",
       "      <td>15</td>\n",
       "      <td>10</td>\n",
       "      <td>Thursday</td>\n",
       "      <td>15</td>\n",
       "      <td>00</td>\n",
       "    </tr>\n",
       "    <tr>\n",
       "      <th>148</th>\n",
       "      <td>2025-04-10</td>\n",
       "      <td>18:05</td>\n",
       "      <td>Matthew Oneill</td>\n",
       "      <td>Happy birthday! 🎂\" \"</td>\n",
       "      <td>2025</td>\n",
       "      <td>April</td>\n",
       "      <td>4</td>\n",
       "      <td>3</td>\n",
       "      <td>15</td>\n",
       "      <td>10</td>\n",
       "      <td>Thursday</td>\n",
       "      <td>18</td>\n",
       "      <td>05</td>\n",
       "    </tr>\n",
       "    <tr>\n",
       "      <th>149</th>\n",
       "      <td>2025-04-10</td>\n",
       "      <td>07:38</td>\n",
       "      <td>Tim Lee</td>\n",
       "      <td>Great thoughts shared today!\"</td>\n",
       "      <td>2025</td>\n",
       "      <td>April</td>\n",
       "      <td>4</td>\n",
       "      <td>3</td>\n",
       "      <td>15</td>\n",
       "      <td>10</td>\n",
       "      <td>Thursday</td>\n",
       "      <td>07</td>\n",
       "      <td>38</td>\n",
       "    </tr>\n",
       "  </tbody>\n",
       "</table>\n",
       "<p>150 rows × 13 columns</p>\n",
       "</div>"
      ],
      "text/plain": [
       "          Date   Time              User  \\\n",
       "0   2025-03-27  11:00         Kim Mason   \n",
       "1   2025-03-27  22:15  Jessica Williams   \n",
       "2   2025-03-27  02:32  Jessica Gonzalez   \n",
       "3   2025-03-27  07:26     Joshua Fisher   \n",
       "4   2025-03-27  21:47       Nancy Brown   \n",
       "..         ...    ...               ...   \n",
       "145 2025-04-10  23:20      Stacie Perez   \n",
       "146 2025-04-10  04:22     Meghan Bowman   \n",
       "147 2025-04-10  15:00       Mary Wright   \n",
       "148 2025-04-10  18:05    Matthew Oneill   \n",
       "149 2025-04-10  07:38           Tim Lee   \n",
       "\n",
       "                                       Message  Year  Month  MonthNum  \\\n",
       "0              Great thoughts shared today!\" \"  2025  March         3   \n",
       "1    Congratulations on your achievement! 🎉\" \"  2025  March         3   \n",
       "2                    That’s wonderful news!\" \"  2025  March         3   \n",
       "3                                               2025  March         3   \n",
       "4           Here’s the update on the event:\" \"  2025  March         3   \n",
       "..                                         ...   ...    ...       ...   \n",
       "145      Let's meet at the temple tomorrow.\" \"  2025  April         4   \n",
       "146            Great thoughts shared today!\" \"  2025  April         4   \n",
       "147          Lovely memories from the trip!\" \"  2025  April         4   \n",
       "148                       Happy birthday! 🎂\" \"  2025  April         4   \n",
       "149             Great thoughts shared today!\"   2025  April         4   \n",
       "\n",
       "     DayOfWeek  WeekNum  Day   DayName Hour Minute  \n",
       "0            3       13   27  Thursday   11     00  \n",
       "1            3       13   27  Thursday   22     15  \n",
       "2            3       13   27  Thursday   02     32  \n",
       "3            3       13   27  Thursday   07     26  \n",
       "4            3       13   27  Thursday   21     47  \n",
       "..         ...      ...  ...       ...  ...    ...  \n",
       "145          3       15   10  Thursday   23     20  \n",
       "146          3       15   10  Thursday   04     22  \n",
       "147          3       15   10  Thursday   15     00  \n",
       "148          3       15   10  Thursday   18     05  \n",
       "149          3       15   10  Thursday   07     38  \n",
       "\n",
       "[150 rows x 13 columns]"
      ]
     },
     "execution_count": 432,
     "metadata": {},
     "output_type": "execute_result"
    }
   ],
   "source": [
    "new_df"
   ]
  },
  {
   "cell_type": "code",
   "execution_count": 433,
   "metadata": {},
   "outputs": [],
   "source": [
    "import re\n",
    "from nltk.stem import PorterStemmer\n",
    "def text_transformation(words_list):\n",
    "  corpus = []\n",
    "  stemmer = PorterStemmer()\n",
    "  for item in words_list:\n",
    "    new_item = item.lower()\n",
    "    new_item = re.sub(r'[^a-z\\s]', ' ', new_item)\n",
    "    if 'http://' in new_item or 'https://' in new_item:\n",
    "      continue\n",
    "    words = new_item.split()\n",
    "    for word in words:\n",
    "      word = stemmer.stem(word)\n",
    "      if len(word) > 1:\n",
    "        corpus.append(word)\n",
    "  return list(set(corpus))"
   ]
  },
  {
   "cell_type": "code",
   "execution_count": 434,
   "metadata": {},
   "outputs": [
    {
     "data": {
      "text/plain": [
       "['achiev',\n",
       " 'again',\n",
       " 'at',\n",
       " 'birthday',\n",
       " 'can',\n",
       " 'congratul',\n",
       " 'event',\n",
       " 'forward',\n",
       " 'from',\n",
       " 'great',\n",
       " 'happi',\n",
       " 'here',\n",
       " 'join',\n",
       " 'let',\n",
       " 'love',\n",
       " 'media',\n",
       " 'meet',\n",
       " 'memori',\n",
       " 'messag',\n",
       " 'news',\n",
       " 'note',\n",
       " 'okay',\n",
       " 'omit',\n",
       " 'on',\n",
       " 'pm',\n",
       " 'share',\n",
       " 'templ',\n",
       " 'thank',\n",
       " 'that',\n",
       " 'the',\n",
       " 'thought',\n",
       " 'today',\n",
       " 'tomorrow',\n",
       " 'trip',\n",
       " 'updat',\n",
       " 'will',\n",
       " 'wonder',\n",
       " 'you',\n",
       " 'your']"
      ]
     },
     "execution_count": 434,
     "metadata": {},
     "output_type": "execute_result"
    }
   ],
   "source": [
    "words = text_transformation(new_df['Message'])\n",
    "words.sort()\n",
    "words"
   ]
  },
  {
   "cell_type": "code",
   "execution_count": 435,
   "metadata": {},
   "outputs": [],
   "source": [
    "list1 = text_transformation(new_df['Message'])"
   ]
  },
  {
   "cell_type": "code",
   "execution_count": 436,
   "metadata": {},
   "outputs": [],
   "source": [
    "list2 = text_transformation(new_df['Message'])"
   ]
  },
  {
   "cell_type": "code",
   "execution_count": 437,
   "metadata": {},
   "outputs": [],
   "source": [
    "list3 = text_transformation(new_df['Message'])"
   ]
  },
  {
   "cell_type": "code",
   "execution_count": 438,
   "metadata": {},
   "outputs": [],
   "source": [
    "list4 = text_transformation(new_df['Message'])"
   ]
  },
  {
   "cell_type": "code",
   "execution_count": 439,
   "metadata": {},
   "outputs": [],
   "source": [
    "words = list(set(list1 + list2 + list3 + list4))\n",
    "words.sort()"
   ]
  },
  {
   "cell_type": "code",
   "execution_count": 440,
   "metadata": {},
   "outputs": [],
   "source": [
    "words = pd.DataFrame(words, columns=['Word'])\n",
    "words['Label'] = 1\n",
    "words.to_excel(\"Words.xlsx\", index=False)"
   ]
  },
  {
   "cell_type": "code",
   "execution_count": 441,
   "metadata": {
    "scrolled": true
   },
   "outputs": [
    {
     "data": {
      "text/html": [
       "<div>\n",
       "<style scoped>\n",
       "    .dataframe tbody tr th:only-of-type {\n",
       "        vertical-align: middle;\n",
       "    }\n",
       "\n",
       "    .dataframe tbody tr th {\n",
       "        vertical-align: top;\n",
       "    }\n",
       "\n",
       "    .dataframe thead th {\n",
       "        text-align: right;\n",
       "    }\n",
       "</style>\n",
       "<table border=\"1\" class=\"dataframe\">\n",
       "  <thead>\n",
       "    <tr style=\"text-align: right;\">\n",
       "      <th></th>\n",
       "      <th>Word</th>\n",
       "      <th>Label</th>\n",
       "    </tr>\n",
       "  </thead>\n",
       "  <tbody>\n",
       "    <tr>\n",
       "      <th>24</th>\n",
       "      <td>pm</td>\n",
       "      <td>1</td>\n",
       "    </tr>\n",
       "    <tr>\n",
       "      <th>17</th>\n",
       "      <td>memori</td>\n",
       "      <td>1</td>\n",
       "    </tr>\n",
       "    <tr>\n",
       "      <th>25</th>\n",
       "      <td>share</td>\n",
       "      <td>1</td>\n",
       "    </tr>\n",
       "    <tr>\n",
       "      <th>29</th>\n",
       "      <td>the</td>\n",
       "      <td>1</td>\n",
       "    </tr>\n",
       "    <tr>\n",
       "      <th>14</th>\n",
       "      <td>love</td>\n",
       "      <td>1</td>\n",
       "    </tr>\n",
       "  </tbody>\n",
       "</table>\n",
       "</div>"
      ],
      "text/plain": [
       "      Word  Label\n",
       "24      pm      1\n",
       "17  memori      1\n",
       "25   share      1\n",
       "29     the      1\n",
       "14    love      1"
      ]
     },
     "execution_count": 441,
     "metadata": {},
     "output_type": "execute_result"
    }
   ],
   "source": [
    "words_df = pd.read_excel('Words.xlsx')\n",
    "words_df.sample(5)"
   ]
  },
  {
   "cell_type": "code",
   "execution_count": 442,
   "metadata": {},
   "outputs": [
    {
     "data": {
      "text/plain": [
       "Word     0\n",
       "Label    0\n",
       "dtype: int64"
      ]
     },
     "execution_count": 442,
     "metadata": {},
     "output_type": "execute_result"
    }
   ],
   "source": [
    "words_df.isnull().sum()"
   ]
  },
  {
   "cell_type": "code",
   "execution_count": 443,
   "metadata": {},
   "outputs": [],
   "source": [
    "words_df.dropna(inplace=True)"
   ]
  },
  {
   "cell_type": "code",
   "execution_count": 444,
   "metadata": {},
   "outputs": [],
   "source": [
    "X = words_df['Word']\n",
    "y = words_df['Label']"
   ]
  },
  {
   "cell_type": "code",
   "execution_count": 445,
   "metadata": {},
   "outputs": [],
   "source": [
    "# from sklearn.model_selection import train_test_split\n",
    "# X_train, X_test, y_train, y_test = train_test_split(X, y, test_size=0.2)"
   ]
  },
  {
   "cell_type": "code",
   "execution_count": 446,
   "metadata": {},
   "outputs": [],
   "source": [
    "# X_train.shape, X_test.shape, y_train.shape, y_test.shape"
   ]
  },
  {
   "cell_type": "code",
   "execution_count": 447,
   "metadata": {},
   "outputs": [
    {
     "data": {
      "text/plain": [
       "['achiev',\n",
       " 'again',\n",
       " 'at',\n",
       " 'birthday',\n",
       " 'can',\n",
       " 'congratul',\n",
       " 'event',\n",
       " 'forward',\n",
       " 'from',\n",
       " 'great',\n",
       " 'happi',\n",
       " 'here',\n",
       " 'join',\n",
       " 'let',\n",
       " 'love',\n",
       " 'media',\n",
       " 'meet',\n",
       " 'memori',\n",
       " 'messag',\n",
       " 'news',\n",
       " 'note',\n",
       " 'okay',\n",
       " 'omit',\n",
       " 'on',\n",
       " 'pm',\n",
       " 'share',\n",
       " 'templ',\n",
       " 'thank',\n",
       " 'that',\n",
       " 'the',\n",
       " 'thought',\n",
       " 'today',\n",
       " 'tomorrow',\n",
       " 'trip',\n",
       " 'updat',\n",
       " 'will',\n",
       " 'wonder',\n",
       " 'you',\n",
       " 'your']"
      ]
     },
     "execution_count": 447,
     "metadata": {},
     "output_type": "execute_result"
    }
   ],
   "source": [
    "corpus = []\n",
    "# for word in X_train:\n",
    "for word in X:\n",
    "    corpus.append(str(word))\n",
    "corpus"
   ]
  },
  {
   "cell_type": "code",
   "execution_count": 448,
   "metadata": {},
   "outputs": [],
   "source": [
    "from sklearn.feature_extraction.text import CountVectorizer\n",
    "cv = CountVectorizer(ngram_range=(1,2))\n",
    "X = cv.fit_transform(corpus)\n",
    "# y = y_train"
   ]
  },
  {
   "cell_type": "code",
   "execution_count": 449,
   "metadata": {},
   "outputs": [],
   "source": [
    "from sklearn.model_selection import GridSearchCV\n",
    "from sklearn.ensemble import RandomForestClassifier"
   ]
  },
  {
   "cell_type": "code",
   "execution_count": 450,
   "metadata": {},
   "outputs": [],
   "source": [
    "from sklearn.metrics import accuracy_score,precision_score,recall_score,confusion_matrix,roc_curve,classification_report"
   ]
  },
  {
   "cell_type": "code",
   "execution_count": 451,
   "metadata": {},
   "outputs": [
    {
     "data": {
      "text/html": [
       "<style>#sk-container-id-5 {color: black;background-color: white;}#sk-container-id-5 pre{padding: 0;}#sk-container-id-5 div.sk-toggleable {background-color: white;}#sk-container-id-5 label.sk-toggleable__label {cursor: pointer;display: block;width: 100%;margin-bottom: 0;padding: 0.3em;box-sizing: border-box;text-align: center;}#sk-container-id-5 label.sk-toggleable__label-arrow:before {content: \"▸\";float: left;margin-right: 0.25em;color: #696969;}#sk-container-id-5 label.sk-toggleable__label-arrow:hover:before {color: black;}#sk-container-id-5 div.sk-estimator:hover label.sk-toggleable__label-arrow:before {color: black;}#sk-container-id-5 div.sk-toggleable__content {max-height: 0;max-width: 0;overflow: hidden;text-align: left;background-color: #f0f8ff;}#sk-container-id-5 div.sk-toggleable__content pre {margin: 0.2em;color: black;border-radius: 0.25em;background-color: #f0f8ff;}#sk-container-id-5 input.sk-toggleable__control:checked~div.sk-toggleable__content {max-height: 200px;max-width: 100%;overflow: auto;}#sk-container-id-5 input.sk-toggleable__control:checked~label.sk-toggleable__label-arrow:before {content: \"▾\";}#sk-container-id-5 div.sk-estimator input.sk-toggleable__control:checked~label.sk-toggleable__label {background-color: #d4ebff;}#sk-container-id-5 div.sk-label input.sk-toggleable__control:checked~label.sk-toggleable__label {background-color: #d4ebff;}#sk-container-id-5 input.sk-hidden--visually {border: 0;clip: rect(1px 1px 1px 1px);clip: rect(1px, 1px, 1px, 1px);height: 1px;margin: -1px;overflow: hidden;padding: 0;position: absolute;width: 1px;}#sk-container-id-5 div.sk-estimator {font-family: monospace;background-color: #f0f8ff;border: 1px dotted black;border-radius: 0.25em;box-sizing: border-box;margin-bottom: 0.5em;}#sk-container-id-5 div.sk-estimator:hover {background-color: #d4ebff;}#sk-container-id-5 div.sk-parallel-item::after {content: \"\";width: 100%;border-bottom: 1px solid gray;flex-grow: 1;}#sk-container-id-5 div.sk-label:hover label.sk-toggleable__label {background-color: #d4ebff;}#sk-container-id-5 div.sk-serial::before {content: \"\";position: absolute;border-left: 1px solid gray;box-sizing: border-box;top: 0;bottom: 0;left: 50%;z-index: 0;}#sk-container-id-5 div.sk-serial {display: flex;flex-direction: column;align-items: center;background-color: white;padding-right: 0.2em;padding-left: 0.2em;position: relative;}#sk-container-id-5 div.sk-item {position: relative;z-index: 1;}#sk-container-id-5 div.sk-parallel {display: flex;align-items: stretch;justify-content: center;background-color: white;position: relative;}#sk-container-id-5 div.sk-item::before, #sk-container-id-5 div.sk-parallel-item::before {content: \"\";position: absolute;border-left: 1px solid gray;box-sizing: border-box;top: 0;bottom: 0;left: 50%;z-index: -1;}#sk-container-id-5 div.sk-parallel-item {display: flex;flex-direction: column;z-index: 1;position: relative;background-color: white;}#sk-container-id-5 div.sk-parallel-item:first-child::after {align-self: flex-end;width: 50%;}#sk-container-id-5 div.sk-parallel-item:last-child::after {align-self: flex-start;width: 50%;}#sk-container-id-5 div.sk-parallel-item:only-child::after {width: 0;}#sk-container-id-5 div.sk-dashed-wrapped {border: 1px dashed gray;margin: 0 0.4em 0.5em 0.4em;box-sizing: border-box;padding-bottom: 0.4em;background-color: white;}#sk-container-id-5 div.sk-label label {font-family: monospace;font-weight: bold;display: inline-block;line-height: 1.2em;}#sk-container-id-5 div.sk-label-container {text-align: center;}#sk-container-id-5 div.sk-container {/* jupyter's `normalize.less` sets `[hidden] { display: none; }` but bootstrap.min.css set `[hidden] { display: none !important; }` so we also need the `!important` here to be able to override the default hidden behavior on the sphinx rendered scikit-learn.org. See: https://github.com/scikit-learn/scikit-learn/issues/21755 */display: inline-block !important;position: relative;}#sk-container-id-5 div.sk-text-repr-fallback {display: none;}</style><div id=\"sk-container-id-5\" class=\"sk-top-container\"><div class=\"sk-text-repr-fallback\"><pre>RandomForestClassifier()</pre><b>In a Jupyter environment, please rerun this cell to show the HTML representation or trust the notebook. <br />On GitHub, the HTML representation is unable to render, please try loading this page with nbviewer.org.</b></div><div class=\"sk-container\" hidden><div class=\"sk-item\"><div class=\"sk-estimator sk-toggleable\"><input class=\"sk-toggleable__control sk-hidden--visually\" id=\"sk-estimator-id-5\" type=\"checkbox\" checked><label for=\"sk-estimator-id-5\" class=\"sk-toggleable__label sk-toggleable__label-arrow\">RandomForestClassifier</label><div class=\"sk-toggleable__content\"><pre>RandomForestClassifier()</pre></div></div></div></div></div>"
      ],
      "text/plain": [
       "RandomForestClassifier()"
      ]
     },
     "execution_count": 451,
     "metadata": {},
     "output_type": "execute_result"
    }
   ],
   "source": [
    "rfc = RandomForestClassifier()\n",
    "rfc.fit(X,y)"
   ]
  },
  {
   "cell_type": "code",
   "execution_count": 452,
   "metadata": {},
   "outputs": [],
   "source": [
    "# test_corpus = []\n",
    "# for word in X_test:\n",
    "#     test_corpus.append(str(word))\n",
    "# test_corpus"
   ]
  },
  {
   "cell_type": "code",
   "execution_count": 453,
   "metadata": {},
   "outputs": [],
   "source": [
    "# X_test = cv.transform(X_test)"
   ]
  },
  {
   "cell_type": "code",
   "execution_count": 454,
   "metadata": {},
   "outputs": [],
   "source": [
    "# predictions = rfc.predict(X_test)"
   ]
  },
  {
   "cell_type": "code",
   "execution_count": 455,
   "metadata": {},
   "outputs": [],
   "source": [
    "# accuracy_score(y_test, predictions)"
   ]
  },
  {
   "cell_type": "code",
   "execution_count": 456,
   "metadata": {},
   "outputs": [
    {
     "data": {
      "text/plain": [
       "(3, 0, 3, 0.0, 100.0)"
      ]
     },
     "execution_count": 456,
     "metadata": {},
     "output_type": "execute_result"
    }
   ],
   "source": [
    "prediction = rfc.predict(cv.transform(['kala', 'teri', 'bc'])).tolist()\n",
    "total = len(prediction)\n",
    "negative = total - prediction.count(1.0)\n",
    "positive = total - negative\n",
    "negative_per = round(negative / total * 100, 2)\n",
    "positive_per = round(positive / total * 100, 2)\n",
    "total, negative, positive, negative_per, positive_per"
   ]
  },
  {
   "cell_type": "code",
   "execution_count": 457,
   "metadata": {},
   "outputs": [
    {
     "data": {
      "text/html": [
       "<div>\n",
       "<style scoped>\n",
       "    .dataframe tbody tr th:only-of-type {\n",
       "        vertical-align: middle;\n",
       "    }\n",
       "\n",
       "    .dataframe tbody tr th {\n",
       "        vertical-align: top;\n",
       "    }\n",
       "\n",
       "    .dataframe thead th {\n",
       "        text-align: right;\n",
       "    }\n",
       "</style>\n",
       "<table border=\"1\" class=\"dataframe\">\n",
       "  <thead>\n",
       "    <tr style=\"text-align: right;\">\n",
       "      <th></th>\n",
       "      <th>Word</th>\n",
       "      <th>Label</th>\n",
       "    </tr>\n",
       "  </thead>\n",
       "  <tbody>\n",
       "  </tbody>\n",
       "</table>\n",
       "</div>"
      ],
      "text/plain": [
       "Empty DataFrame\n",
       "Columns: [Word, Label]\n",
       "Index: []"
      ]
     },
     "execution_count": 457,
     "metadata": {},
     "output_type": "execute_result"
    }
   ],
   "source": [
    "words_df[words_df['Word'] == 'bc']"
   ]
  },
  {
   "cell_type": "code",
   "execution_count": 458,
   "metadata": {},
   "outputs": [
    {
     "data": {
      "text/html": [
       "<div>\n",
       "<style scoped>\n",
       "    .dataframe tbody tr th:only-of-type {\n",
       "        vertical-align: middle;\n",
       "    }\n",
       "\n",
       "    .dataframe tbody tr th {\n",
       "        vertical-align: top;\n",
       "    }\n",
       "\n",
       "    .dataframe thead th {\n",
       "        text-align: right;\n",
       "    }\n",
       "</style>\n",
       "<table border=\"1\" class=\"dataframe\">\n",
       "  <thead>\n",
       "    <tr style=\"text-align: right;\">\n",
       "      <th></th>\n",
       "      <th>Word</th>\n",
       "      <th>Label</th>\n",
       "    </tr>\n",
       "  </thead>\n",
       "  <tbody>\n",
       "  </tbody>\n",
       "</table>\n",
       "</div>"
      ],
      "text/plain": [
       "Empty DataFrame\n",
       "Columns: [Word, Label]\n",
       "Index: []"
      ]
     },
     "execution_count": 458,
     "metadata": {},
     "output_type": "execute_result"
    }
   ],
   "source": [
    "words_df[words_df['Word'] == 'teri']"
   ]
  },
  {
   "cell_type": "code",
   "execution_count": 459,
   "metadata": {},
   "outputs": [
    {
     "data": {
      "text/html": [
       "<div>\n",
       "<style scoped>\n",
       "    .dataframe tbody tr th:only-of-type {\n",
       "        vertical-align: middle;\n",
       "    }\n",
       "\n",
       "    .dataframe tbody tr th {\n",
       "        vertical-align: top;\n",
       "    }\n",
       "\n",
       "    .dataframe thead th {\n",
       "        text-align: right;\n",
       "    }\n",
       "</style>\n",
       "<table border=\"1\" class=\"dataframe\">\n",
       "  <thead>\n",
       "    <tr style=\"text-align: right;\">\n",
       "      <th></th>\n",
       "      <th>Word</th>\n",
       "      <th>Label</th>\n",
       "    </tr>\n",
       "  </thead>\n",
       "  <tbody>\n",
       "  </tbody>\n",
       "</table>\n",
       "</div>"
      ],
      "text/plain": [
       "Empty DataFrame\n",
       "Columns: [Word, Label]\n",
       "Index: []"
      ]
     },
     "execution_count": 459,
     "metadata": {},
     "output_type": "execute_result"
    }
   ],
   "source": [
    "words_df[words_df['Word'] == 'kala']"
   ]
  },
  {
   "cell_type": "code",
   "execution_count": 460,
   "metadata": {},
   "outputs": [],
   "source": [
    "import pickle, os;\n",
    "os.makedirs(\"models\", exist_ok=True)\n",
    "with open('models/semtimental_analysis_model.pkl', 'wb') as f:\n",
    "    pickle.dump(rfc, f)"
   ]
  },
  {
   "cell_type": "code",
   "execution_count": 461,
   "metadata": {},
   "outputs": [],
   "source": [
    "with open(\"models/vectorizer.pkl\", \"wb\") as f:\n",
    "    pickle.dump(cv, f)"
   ]
  },
  {
   "cell_type": "code",
   "execution_count": 462,
   "metadata": {},
   "outputs": [],
   "source": [
    "model = pickle.load(open(\"models/semtimental_analysis_model.pkl\", \"rb\"))\n",
    "vectorizer = pickle.load(open(\"models/vectorizer.pkl\", \"rb\"))"
   ]
  },
  {
   "cell_type": "code",
   "execution_count": 463,
   "metadata": {},
   "outputs": [],
   "source": [
    "new_df = df[df['Message']!='<Media omitted>\\n']\n",
    "new_df = new_df[new_df['Message']!='This message was deleted']\n",
    "new_df['Message'] = new_df['Message'].apply(remove_emojis)\n",
    "words = text_transformation(new_df['Message'])"
   ]
  },
  {
   "cell_type": "code",
   "execution_count": 464,
   "metadata": {},
   "outputs": [
    {
     "data": {
      "text/plain": [
       "['meet',\n",
       " 'cake',\n",
       " 'you',\n",
       " 'that',\n",
       " 'omit',\n",
       " 'templ',\n",
       " 'messag',\n",
       " 'share',\n",
       " 'will',\n",
       " 'here',\n",
       " 'updat',\n",
       " 'tomorrow',\n",
       " 'fold',\n",
       " 'join',\n",
       " 'from',\n",
       " 'event',\n",
       " 'your',\n",
       " 'blossom',\n",
       " 'congratul',\n",
       " 'pm',\n",
       " 'on',\n",
       " 'cherri',\n",
       " 'great',\n",
       " 'hand',\n",
       " 'again',\n",
       " 'today',\n",
       " 'can',\n",
       " 'note',\n",
       " 'wonder',\n",
       " 'happi',\n",
       " 'achiev',\n",
       " 'media',\n",
       " 'the',\n",
       " 'thought',\n",
       " 'thank',\n",
       " 'love',\n",
       " 'at',\n",
       " 'memori',\n",
       " 'birthday',\n",
       " 'parti',\n",
       " 'news',\n",
       " 'let',\n",
       " 'okay',\n",
       " 'popper',\n",
       " 'trip',\n",
       " 'forward']"
      ]
     },
     "execution_count": 464,
     "metadata": {},
     "output_type": "execute_result"
    }
   ],
   "source": [
    "words"
   ]
  },
  {
   "cell_type": "code",
   "execution_count": 465,
   "metadata": {},
   "outputs": [],
   "source": [
    "prediction = model.predict(vectorizer.transform(words)).tolist()"
   ]
  },
  {
   "cell_type": "code",
   "execution_count": 466,
   "metadata": {},
   "outputs": [],
   "source": [
    "def sentimental_analysis(df):\n",
    "    new_df = df[df['Message']!='<Media omitted>\\n']\n",
    "    new_df = new_df[new_df['Message']!='This message was deleted']\n",
    "    new_df['Message'] = new_df['Message'].apply(remove_emojis)\n",
    "    words = text_transformation(new_df['Message'])\n",
    "    prediction = model.predict(vectorizer.transform(words)).tolist()\n",
    "    total = len(prediction)\n",
    "    negative = total - prediction.count(1.0)\n",
    "    positive = total - negative\n",
    "    negative_per = round(negative / total * 100, 2)\n",
    "    positive_per = round(positive / total * 100, 2)\n",
    "    return negative_per, positive_per"
   ]
  },
  {
   "cell_type": "code",
   "execution_count": 467,
   "metadata": {},
   "outputs": [
    {
     "data": {
      "text/plain": [
       "(0.0, 100.0)"
      ]
     },
     "execution_count": 467,
     "metadata": {},
     "output_type": "execute_result"
    }
   ],
   "source": [
    "sentimental_analysis(df)"
   ]
  },
  {
   "cell_type": "code",
   "execution_count": null,
   "metadata": {},
   "outputs": [],
   "source": []
  }
 ],
 "metadata": {
  "kernelspec": {
   "display_name": "Python 3 (ipykernel)",
   "language": "python",
   "name": "python3"
  },
  "language_info": {
   "codemirror_mode": {
    "name": "ipython",
    "version": 3
   },
   "file_extension": ".py",
   "mimetype": "text/x-python",
   "name": "python",
   "nbconvert_exporter": "python",
   "pygments_lexer": "ipython3",
   "version": "3.10.2"
  },
  "vscode": {
   "interpreter": {
    "hash": "0e25f5c8ef339ee3cd459044b54a195e7d76659ac805764547ca1d0daacff56b"
   }
  }
 },
 "nbformat": 4,
 "nbformat_minor": 2
}
