{
 "cells": [
  {
   "cell_type": "code",
   "execution_count": 1,
   "metadata": {},
   "outputs": [],
   "source": [
    "import numpy as np\n",
    "import pandas as pd\n",
    "from datetime import datetime\n",
    "import re"
   ]
  },
  {
   "cell_type": "code",
   "execution_count": 60,
   "metadata": {},
   "outputs": [],
   "source": [
    "def seperate_date_time(x):\n",
    "    date = pd.to_datetime(x.split(', ')[0],format =\"%m/%d/%y\").date()\n",
    "    time = x.split(', ')[1].split(' - ')[0]\n",
    "    return date, time"
   ]
  },
  {
   "cell_type": "code",
   "execution_count": 65,
   "metadata": {},
   "outputs": [],
   "source": [
    "def createDf(file_data, dt):\n",
    "    patterns = {\n",
    "        '12hr':'\\d{1,2}/\\d{1,2}/\\d{2,4},\\s\\d{1,2}:\\d{2}\\s[APap][mM]\\s-\\s',\n",
    "        '24hr':'\\d{1,2}/\\d{1,2}/\\d{2,4},\\s\\d{1,2}:\\d{2}\\s-\\s',\n",
    "    }\n",
    "    \n",
    "    data = ' '.join(file_data.read().split('\\n'))\n",
    "    user_message = re.split(patterns[dt], data)[1:]\n",
    "    date_time = re.findall(patterns[dt], data)\n",
    "    print(user_message, date_time)\n",
    "    \n",
    "#     df = pd.DataFrame({'user_message': user_message, 'date_time': date_time})\n",
    "#     df[['date','time']] = df['date_time'].apply(lambda x: seperate_date_time(x)).to_list()\n",
    "#     users = []\n",
    "#     messages = []\n",
    "#     for message in df['user_message']:\n",
    "#         entry = re.split('([\\w\\W]+?):\\s', message)\n",
    "#         if entry[1:]:\n",
    "#             users.append(entry[1])\n",
    "#             messages.append(entry[2])\n",
    "#         else:\n",
    "#             users.append('group_notification')\n",
    "#             messages.append(entry[0])\n",
    "\n",
    "#     df['user'] = users\n",
    "#     df['message'] = messages\n",
    "#     df.drop(columns=['user_message', 'date_time'], inplace=True)\n",
    "#     return df"
   ]
  },
  {
   "cell_type": "code",
   "execution_count": 66,
   "metadata": {},
   "outputs": [
    {
     "name": "stdout",
     "output_type": "stream",
     "text": [
      "[] []\n"
     ]
    }
   ],
   "source": [
    "f = open('WhatsApp Chat with Say GT (original) 12 hour format.txt', 'r', encoding='utf-8')\n",
    "createDf(f, '24hr')"
   ]
  },
  {
   "cell_type": "code",
   "execution_count": 63,
   "metadata": {},
   "outputs": [
    {
     "data": {
      "text/html": [
       "<div>\n",
       "<style scoped>\n",
       "    .dataframe tbody tr th:only-of-type {\n",
       "        vertical-align: middle;\n",
       "    }\n",
       "\n",
       "    .dataframe tbody tr th {\n",
       "        vertical-align: top;\n",
       "    }\n",
       "\n",
       "    .dataframe thead th {\n",
       "        text-align: right;\n",
       "    }\n",
       "</style>\n",
       "<table border=\"1\" class=\"dataframe\">\n",
       "  <thead>\n",
       "    <tr style=\"text-align: right;\">\n",
       "      <th></th>\n",
       "      <th>date</th>\n",
       "      <th>time</th>\n",
       "      <th>user</th>\n",
       "      <th>message</th>\n",
       "    </tr>\n",
       "  </thead>\n",
       "  <tbody>\n",
       "    <tr>\n",
       "      <th>0</th>\n",
       "      <td>2022-05-09</td>\n",
       "      <td>15:01</td>\n",
       "      <td>group_notification</td>\n",
       "      <td>Messages and calls are end-to-end encrypted. N...</td>\n",
       "    </tr>\n",
       "    <tr>\n",
       "      <th>1</th>\n",
       "      <td>2022-05-26</td>\n",
       "      <td>19:21</td>\n",
       "      <td>Clg Divyansh</td>\n",
       "      <td>Robotics ke notes</td>\n",
       "    </tr>\n",
       "    <tr>\n",
       "      <th>2</th>\n",
       "      <td>2022-05-26</td>\n",
       "      <td>19:44</td>\n",
       "      <td>Clg Kushagra Ahire</td>\n",
       "      <td>MST me jo numerical aaye the uske solution bhe...</td>\n",
       "    </tr>\n",
       "    <tr>\n",
       "      <th>3</th>\n",
       "      <td>2022-05-26</td>\n",
       "      <td>19:55</td>\n",
       "      <td>Clg Abbas Amjhera</td>\n",
       "      <td>&lt;Media omitted&gt;</td>\n",
       "    </tr>\n",
       "    <tr>\n",
       "      <th>4</th>\n",
       "      <td>2022-05-26</td>\n",
       "      <td>20:05</td>\n",
       "      <td>+91 6239 413 783</td>\n",
       "      <td>Bhai notes bhej do yrr koi 🙏🏻</td>\n",
       "    </tr>\n",
       "    <tr>\n",
       "      <th>...</th>\n",
       "      <td>...</td>\n",
       "      <td>...</td>\n",
       "      <td>...</td>\n",
       "      <td>...</td>\n",
       "    </tr>\n",
       "    <tr>\n",
       "      <th>1437</th>\n",
       "      <td>2022-08-17</td>\n",
       "      <td>14:13</td>\n",
       "      <td>Clg Amit Pandey</td>\n",
       "      <td>ni</td>\n",
       "    </tr>\n",
       "    <tr>\n",
       "      <th>1438</th>\n",
       "      <td>2022-08-17</td>\n",
       "      <td>14:14</td>\n",
       "      <td>+91 87705 37687</td>\n",
       "      <td>Nhi</td>\n",
       "    </tr>\n",
       "    <tr>\n",
       "      <th>1439</th>\n",
       "      <td>2022-08-17</td>\n",
       "      <td>14:29</td>\n",
       "      <td>Clg Ashvin birla</td>\n",
       "      <td>Hmara to parso paper h</td>\n",
       "    </tr>\n",
       "    <tr>\n",
       "      <th>1440</th>\n",
       "      <td>2022-08-17</td>\n",
       "      <td>14:29</td>\n",
       "      <td>Clg Ashvin birla</td>\n",
       "      <td>Subh 9 bje</td>\n",
       "    </tr>\n",
       "    <tr>\n",
       "      <th>1441</th>\n",
       "      <td>2022-08-17</td>\n",
       "      <td>14:47</td>\n",
       "      <td>Clg Kushagra Ahire</td>\n",
       "      <td>Rajavat sir kab tak rehte hai college me?</td>\n",
       "    </tr>\n",
       "  </tbody>\n",
       "</table>\n",
       "<p>1442 rows × 4 columns</p>\n",
       "</div>"
      ],
      "text/plain": [
       "            date   time                user  \\\n",
       "0     2022-05-09  15:01  group_notification   \n",
       "1     2022-05-26  19:21        Clg Divyansh   \n",
       "2     2022-05-26  19:44  Clg Kushagra Ahire   \n",
       "3     2022-05-26  19:55   Clg Abbas Amjhera   \n",
       "4     2022-05-26  20:05    +91 6239 413 783   \n",
       "...          ...    ...                 ...   \n",
       "1437  2022-08-17  14:13     Clg Amit Pandey   \n",
       "1438  2022-08-17  14:14     +91 87705 37687   \n",
       "1439  2022-08-17  14:29    Clg Ashvin birla   \n",
       "1440  2022-08-17  14:29    Clg Ashvin birla   \n",
       "1441  2022-08-17  14:47  Clg Kushagra Ahire   \n",
       "\n",
       "                                                message  \n",
       "0     Messages and calls are end-to-end encrypted. N...  \n",
       "1                                    Robotics ke notes   \n",
       "2     MST me jo numerical aaye the uske solution bhe...  \n",
       "3                                      <Media omitted>   \n",
       "4                        Bhai notes bhej do yrr koi 🙏🏻   \n",
       "...                                                 ...  \n",
       "1437                                                ni   \n",
       "1438                                               Nhi   \n",
       "1439                            Hmara to parso paper h   \n",
       "1440                                        Subh 9 bje   \n",
       "1441         Rajavat sir kab tak rehte hai college me?   \n",
       "\n",
       "[1442 rows x 4 columns]"
      ]
     },
     "execution_count": 63,
     "metadata": {},
     "output_type": "execute_result"
    }
   ],
   "source": [
    "f = open('WhatsApp Chat with Say GT (original) 24 hour format.txt', 'r', encoding='utf-8')\n",
    "createDf(f, '24hr')"
   ]
  },
  {
   "cell_type": "code",
   "execution_count": 71,
   "metadata": {},
   "outputs": [
    {
     "name": "stdout",
     "output_type": "stream",
     "text": [
      "True\n"
     ]
    }
   ],
   "source": [
    "x = 0\n",
    "y = 1\n",
    "print((x and y) == 0)"
   ]
  },
  {
   "cell_type": "code",
   "execution_count": null,
   "metadata": {},
   "outputs": [],
   "source": []
  }
 ],
 "metadata": {
  "kernelspec": {
   "display_name": "Python 3 (ipykernel)",
   "language": "python",
   "name": "python3"
  },
  "language_info": {
   "codemirror_mode": {
    "name": "ipython",
    "version": 3
   },
   "file_extension": ".py",
   "mimetype": "text/x-python",
   "name": "python",
   "nbconvert_exporter": "python",
   "pygments_lexer": "ipython3",
   "version": "3.9.7"
  },
  "vscode": {
   "interpreter": {
    "hash": "0e25f5c8ef339ee3cd459044b54a195e7d76659ac805764547ca1d0daacff56b"
   }
  }
 },
 "nbformat": 4,
 "nbformat_minor": 2
}
