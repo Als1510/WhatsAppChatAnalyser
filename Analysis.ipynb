{
 "cells": [
  {
   "cell_type": "code",
   "execution_count": 4,
   "metadata": {},
   "outputs": [],
   "source": [
    "import numpy as np\n",
    "import pandas as pd\n",
    "from datetime import datetime\n",
    "import re"
   ]
  },
  {
   "cell_type": "code",
   "execution_count": 32,
   "metadata": {},
   "outputs": [],
   "source": [
    "def seperate_date_time(x):\n",
    "    date = x.split(', ')[0]\n",
    "    time = x.split(', ')[1].split(' - ')[0]\n",
    "    return date, time"
   ]
  },
  {
   "cell_type": "code",
   "execution_count": 33,
   "metadata": {},
   "outputs": [],
   "source": [
    "def createDf(file_data, dt):\n",
    "    patterns = {\n",
    "        '12hr':'\\d{1,2}/\\d{1,2}/\\d{2,4},\\s\\d{1,2}:\\d{2}\\s[APap][mM]\\s-\\s',\n",
    "        '24hr':'\\d{1,2}/\\d{1,2}/\\d{2,4},\\s\\d{1,2}:\\d{2}\\s-\\s',\n",
    "    }\n",
    "    \n",
    "    data = ' '.join(file_data.read().split('\\n'))\n",
    "    user_message = re.split(patterns[dt], data)[1:]\n",
    "    date_time = re.findall(patterns[dt], data)\n",
    "    \n",
    "    df = pd.DataFrame({'user_message': user_message, 'date_time': date_time})\n",
    "    df[['date','time']] = df['date_time'].apply(lambda x: seperate_date_time(x)).to_list()\n",
    "    users = []\n",
    "    messages = []\n",
    "    for message in df['user_message']:\n",
    "        entry = re.split('([\\w\\W]+?):\\s', message)\n",
    "        if entry[1:]:\n",
    "            users.append(entry[1])\n",
    "            messages.append(entry[2])\n",
    "        else:\n",
    "            users.append('group_notification')\n",
    "            messages.append(entry[0])\n",
    "\n",
    "    df['user'] = users\n",
    "    df['message'] = messages\n",
    "    df.drop(columns=['user_message', 'date_time'], inplace=True)\n",
    "    return df"
   ]
  },
  {
   "cell_type": "code",
   "execution_count": 34,
   "metadata": {},
   "outputs": [
    {
     "data": {
      "text/html": [
       "<div>\n",
       "<style scoped>\n",
       "    .dataframe tbody tr th:only-of-type {\n",
       "        vertical-align: middle;\n",
       "    }\n",
       "\n",
       "    .dataframe tbody tr th {\n",
       "        vertical-align: top;\n",
       "    }\n",
       "\n",
       "    .dataframe thead th {\n",
       "        text-align: right;\n",
       "    }\n",
       "</style>\n",
       "<table border=\"1\" class=\"dataframe\">\n",
       "  <thead>\n",
       "    <tr style=\"text-align: right;\">\n",
       "      <th></th>\n",
       "      <th>date</th>\n",
       "      <th>time</th>\n",
       "      <th>user</th>\n",
       "      <th>message</th>\n",
       "    </tr>\n",
       "  </thead>\n",
       "  <tbody>\n",
       "    <tr>\n",
       "      <th>0</th>\n",
       "      <td>5/9/22</td>\n",
       "      <td>3:01 PM</td>\n",
       "      <td>group_notification</td>\n",
       "      <td>Messages and calls are end-to-end encrypted. N...</td>\n",
       "    </tr>\n",
       "    <tr>\n",
       "      <th>1</th>\n",
       "      <td>5/26/22</td>\n",
       "      <td>7:21 PM</td>\n",
       "      <td>Clg Divyansh</td>\n",
       "      <td>Robotics ke notes</td>\n",
       "    </tr>\n",
       "    <tr>\n",
       "      <th>2</th>\n",
       "      <td>5/26/22</td>\n",
       "      <td>7:44 PM</td>\n",
       "      <td>Clg Kushagra Ahire</td>\n",
       "      <td>MST me jo numerical aaye the uske solution bhe...</td>\n",
       "    </tr>\n",
       "    <tr>\n",
       "      <th>3</th>\n",
       "      <td>5/26/22</td>\n",
       "      <td>7:55 PM</td>\n",
       "      <td>Clg Abbas Amjhera</td>\n",
       "      <td>&lt;Media omitted&gt;</td>\n",
       "    </tr>\n",
       "    <tr>\n",
       "      <th>4</th>\n",
       "      <td>5/26/22</td>\n",
       "      <td>8:05 PM</td>\n",
       "      <td>+91 6239 413 783</td>\n",
       "      <td>Bhai notes bhej do yrr koi 🙏🏻</td>\n",
       "    </tr>\n",
       "    <tr>\n",
       "      <th>...</th>\n",
       "      <td>...</td>\n",
       "      <td>...</td>\n",
       "      <td>...</td>\n",
       "      <td>...</td>\n",
       "    </tr>\n",
       "    <tr>\n",
       "      <th>1452</th>\n",
       "      <td>8/18/22</td>\n",
       "      <td>2:01 PM</td>\n",
       "      <td>Clg Charchil</td>\n",
       "      <td>🤚</td>\n",
       "    </tr>\n",
       "    <tr>\n",
       "      <th>1453</th>\n",
       "      <td>8/18/22</td>\n",
       "      <td>2:01 PM</td>\n",
       "      <td>+91 87705 37687</td>\n",
       "      <td>✋🏻</td>\n",
       "    </tr>\n",
       "    <tr>\n",
       "      <th>1454</th>\n",
       "      <td>8/18/22</td>\n",
       "      <td>2:15 PM</td>\n",
       "      <td>Clg Atman</td>\n",
       "      <td>🙋‍♂️</td>\n",
       "    </tr>\n",
       "    <tr>\n",
       "      <th>1455</th>\n",
       "      <td>8/18/22</td>\n",
       "      <td>2:20 PM</td>\n",
       "      <td>Clg Ashvin birla</td>\n",
       "      <td>&lt;Media omitted&gt;</td>\n",
       "    </tr>\n",
       "    <tr>\n",
       "      <th>1456</th>\n",
       "      <td>8/18/22</td>\n",
       "      <td>2:56 PM</td>\n",
       "      <td>+91 72409 15291</td>\n",
       "      <td>Sab aadhar card yaa college I'd card saath me ...</td>\n",
       "    </tr>\n",
       "  </tbody>\n",
       "</table>\n",
       "<p>1457 rows × 4 columns</p>\n",
       "</div>"
      ],
      "text/plain": [
       "         date     time                user  \\\n",
       "0      5/9/22  3:01 PM  group_notification   \n",
       "1     5/26/22  7:21 PM        Clg Divyansh   \n",
       "2     5/26/22  7:44 PM  Clg Kushagra Ahire   \n",
       "3     5/26/22  7:55 PM   Clg Abbas Amjhera   \n",
       "4     5/26/22  8:05 PM    +91 6239 413 783   \n",
       "...       ...      ...                 ...   \n",
       "1452  8/18/22  2:01 PM        Clg Charchil   \n",
       "1453  8/18/22  2:01 PM     +91 87705 37687   \n",
       "1454  8/18/22  2:15 PM           Clg Atman   \n",
       "1455  8/18/22  2:20 PM    Clg Ashvin birla   \n",
       "1456  8/18/22  2:56 PM     +91 72409 15291   \n",
       "\n",
       "                                                message  \n",
       "0     Messages and calls are end-to-end encrypted. N...  \n",
       "1                                    Robotics ke notes   \n",
       "2     MST me jo numerical aaye the uske solution bhe...  \n",
       "3                                      <Media omitted>   \n",
       "4                        Bhai notes bhej do yrr koi 🙏🏻   \n",
       "...                                                 ...  \n",
       "1452                                                 🤚   \n",
       "1453                                                ✋🏻   \n",
       "1454                                              🙋‍♂️   \n",
       "1455                                   <Media omitted>   \n",
       "1456  Sab aadhar card yaa college I'd card saath me ...  \n",
       "\n",
       "[1457 rows x 4 columns]"
      ]
     },
     "execution_count": 34,
     "metadata": {},
     "output_type": "execute_result"
    }
   ],
   "source": [
    "f = open('WhatsApp Chat with Say GT (original) 12 hour format.txt', 'r', encoding='utf-8')\n",
    "createDf(f, '12hr')"
   ]
  },
  {
   "cell_type": "code",
   "execution_count": 35,
   "metadata": {},
   "outputs": [],
   "source": [
    "f = open('WhatsApp Chat with Say GT (original) 24 hour format.txt', 'r', encoding='utf-8')\n",
    "df = pd.DataFrame(createDf(f, '24hr'))"
   ]
  },
  {
   "cell_type": "code",
   "execution_count": 31,
   "metadata": {},
   "outputs": [
    {
     "data": {
      "text/plain": [
       "2022"
      ]
     },
     "execution_count": 31,
     "metadata": {},
     "output_type": "execute_result"
    }
   ],
   "source": [
    "# for i in df['date']:\n",
    "#     print(i.dt.year)\n",
    "#     break\n",
    "df['date'].iloc[0].year"
   ]
  }
 ],
 "metadata": {
  "kernelspec": {
   "display_name": "Python 3 (ipykernel)",
   "language": "python",
   "name": "python3"
  },
  "language_info": {
   "codemirror_mode": {
    "name": "ipython",
    "version": 3
   },
   "file_extension": ".py",
   "mimetype": "text/x-python",
   "name": "python",
   "nbconvert_exporter": "python",
   "pygments_lexer": "ipython3",
   "version": "3.9.7"
  },
  "vscode": {
   "interpreter": {
    "hash": "0e25f5c8ef339ee3cd459044b54a195e7d76659ac805764547ca1d0daacff56b"
   }
  }
 },
 "nbformat": 4,
 "nbformat_minor": 2
}
