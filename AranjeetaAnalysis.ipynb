{
 "cells": [
  {
   "cell_type": "code",
   "execution_count": 1,
   "metadata": {},
   "outputs": [],
   "source": [
    "# !pip uninstall emot"
   ]
  },
  {
   "cell_type": "code",
   "execution_count": 2,
   "metadata": {},
   "outputs": [],
   "source": [
    "import numpy as np\n",
    "import pandas as pd\n",
    "from datetime import datetime\n",
    "import re\n",
    "from collections import Counter\n",
    "import matplotlib.pyplot as plt\n",
    "from collections import Counter\n",
    "import re\n",
    "import emoji\n",
    "# import stemmer\n",
    "import string\n",
    "from textblob import TextBlob\n",
    "from nltk.corpus import stopwords\n",
    "from nltk.stem import WordNetLemmatizer\n",
    "import nltk"
   ]
  },
  {
   "cell_type": "code",
   "execution_count": 3,
   "metadata": {},
   "outputs": [],
   "source": [
    "def seperate_date_time(x):\n",
    "    date = pd.to_datetime(x.split(', ')[0], format=\"%m/%d/%y\")\n",
    "    time = x.split(', ')[1].split(' - ')[0]\n",
    "    return date, time"
   ]
  },
  {
   "cell_type": "code",
   "execution_count": 4,
   "metadata": {},
   "outputs": [],
   "source": [
    "def createDf(file_data, dt):\n",
    "    patterns = {\n",
    "        '12 Hour':'\\d{1,2}/\\d{1,2}/\\d{2,4},\\s\\d{1,2}:\\d{2}\\s[APap][mM]\\s-\\s',\n",
    "        '24 Hour':'\\d{1,2}/\\d{1,2}/\\d{2,4},\\s\\d{1,2}:\\d{2}\\s-\\s',\n",
    "    }\n",
    "    \n",
    "    data = ' '.join(file_data.read().split('\\n'))\n",
    "    user_message = re.split(patterns[dt], data)[1:]\n",
    "    date_time = re.findall(patterns[dt], data)\n",
    "    \n",
    "    df = pd.DataFrame({'UserMessage': user_message, 'DateTime': date_time})\n",
    "    df[['Date','Time']] = df['DateTime'].apply(lambda x: seperate_date_time(x)).to_list()\n",
    "    users = []\n",
    "    messages = []\n",
    "    for message in df['UserMessage']:\n",
    "        entry = re.split('([\\w\\W]+?):\\s', message)\n",
    "        if entry[1:]:\n",
    "            users.append(entry[1])\n",
    "            messages.append(entry[2])\n",
    "        else:\n",
    "            users.append('group_notification')\n",
    "            messages.append(entry[0])\n",
    "\n",
    "    df['User'] = users\n",
    "    df['Message'] = messages\n",
    "    df.drop(columns=['UserMessage', 'DateTime'], inplace=True)\n",
    "    return df"
   ]
  },
  {
   "cell_type": "code",
   "execution_count": 5,
   "metadata": {},
   "outputs": [],
   "source": [
    "f = open('WhatsApp Chat with Say GT (original) 12(a).txt', 'r', encoding='utf-8')\n",
    "df = createDf(f, '12 Hour')"
   ]
  },
  {
   "cell_type": "code",
   "execution_count": 6,
   "metadata": {},
   "outputs": [],
   "source": [
    "# f = open('WhatsApp Chat with Say GT (original) 24 hour format.txt', 'r', encoding='utf-8')\n",
    "# df = pd.DataFrame(createDf(f, '24 Hour'))"
   ]
  },
  {
   "cell_type": "code",
   "execution_count": 7,
   "metadata": {},
   "outputs": [
    {
     "data": {
      "text/html": [
       "<div>\n",
       "<style scoped>\n",
       "    .dataframe tbody tr th:only-of-type {\n",
       "        vertical-align: middle;\n",
       "    }\n",
       "\n",
       "    .dataframe tbody tr th {\n",
       "        vertical-align: top;\n",
       "    }\n",
       "\n",
       "    .dataframe thead th {\n",
       "        text-align: right;\n",
       "    }\n",
       "</style>\n",
       "<table border=\"1\" class=\"dataframe\">\n",
       "  <thead>\n",
       "    <tr style=\"text-align: right;\">\n",
       "      <th></th>\n",
       "      <th>Date</th>\n",
       "      <th>Time</th>\n",
       "      <th>User</th>\n",
       "      <th>Message</th>\n",
       "      <th>Year</th>\n",
       "      <th>Month</th>\n",
       "      <th>MonthNum</th>\n",
       "      <th>Day</th>\n",
       "      <th>DayName</th>\n",
       "      <th>Hour</th>\n",
       "      <th>Minute</th>\n",
       "    </tr>\n",
       "  </thead>\n",
       "  <tbody>\n",
       "    <tr>\n",
       "      <th>0</th>\n",
       "      <td>2022-05-09</td>\n",
       "      <td>3:01 PM</td>\n",
       "      <td>group_notification</td>\n",
       "      <td>Messages and calls are end-to-end encrypted. N...</td>\n",
       "      <td>2022</td>\n",
       "      <td>May</td>\n",
       "      <td>5</td>\n",
       "      <td>9</td>\n",
       "      <td>Monday</td>\n",
       "      <td>3</td>\n",
       "      <td>01</td>\n",
       "    </tr>\n",
       "    <tr>\n",
       "      <th>1</th>\n",
       "      <td>2022-05-26</td>\n",
       "      <td>7:21 PM</td>\n",
       "      <td>Clg Divyansh</td>\n",
       "      <td>Robotics ke notes</td>\n",
       "      <td>2022</td>\n",
       "      <td>May</td>\n",
       "      <td>5</td>\n",
       "      <td>26</td>\n",
       "      <td>Thursday</td>\n",
       "      <td>7</td>\n",
       "      <td>21</td>\n",
       "    </tr>\n",
       "    <tr>\n",
       "      <th>2</th>\n",
       "      <td>2022-05-26</td>\n",
       "      <td>7:44 PM</td>\n",
       "      <td>Clg Kushagra Ahire</td>\n",
       "      <td>MST me jo numerical aaye the uske solution bhe...</td>\n",
       "      <td>2022</td>\n",
       "      <td>May</td>\n",
       "      <td>5</td>\n",
       "      <td>26</td>\n",
       "      <td>Thursday</td>\n",
       "      <td>7</td>\n",
       "      <td>44</td>\n",
       "    </tr>\n",
       "    <tr>\n",
       "      <th>3</th>\n",
       "      <td>2022-05-26</td>\n",
       "      <td>7:55 PM</td>\n",
       "      <td>Clg Abbas Amjhera</td>\n",
       "      <td>&lt;Media omitted&gt;</td>\n",
       "      <td>2022</td>\n",
       "      <td>May</td>\n",
       "      <td>5</td>\n",
       "      <td>26</td>\n",
       "      <td>Thursday</td>\n",
       "      <td>7</td>\n",
       "      <td>55</td>\n",
       "    </tr>\n",
       "    <tr>\n",
       "      <th>4</th>\n",
       "      <td>2022-05-26</td>\n",
       "      <td>8:05 PM</td>\n",
       "      <td>+91 6239 413 783</td>\n",
       "      <td>Bhai notes bhej do yrr koi 🙏🏻</td>\n",
       "      <td>2022</td>\n",
       "      <td>May</td>\n",
       "      <td>5</td>\n",
       "      <td>26</td>\n",
       "      <td>Thursday</td>\n",
       "      <td>8</td>\n",
       "      <td>05</td>\n",
       "    </tr>\n",
       "  </tbody>\n",
       "</table>\n",
       "</div>"
      ],
      "text/plain": [
       "        Date     Time                User  \\\n",
       "0 2022-05-09  3:01 PM  group_notification   \n",
       "1 2022-05-26  7:21 PM        Clg Divyansh   \n",
       "2 2022-05-26  7:44 PM  Clg Kushagra Ahire   \n",
       "3 2022-05-26  7:55 PM   Clg Abbas Amjhera   \n",
       "4 2022-05-26  8:05 PM    +91 6239 413 783   \n",
       "\n",
       "                                             Message  Year Month  MonthNum  \\\n",
       "0  Messages and calls are end-to-end encrypted. N...  2022   May         5   \n",
       "1                                 Robotics ke notes   2022   May         5   \n",
       "2  MST me jo numerical aaye the uske solution bhe...  2022   May         5   \n",
       "3                                   <Media omitted>   2022   May         5   \n",
       "4                     Bhai notes bhej do yrr koi 🙏🏻   2022   May         5   \n",
       "\n",
       "   Day   DayName Hour Minute  \n",
       "0    9    Monday    3     01  \n",
       "1   26  Thursday    7     21  \n",
       "2   26  Thursday    7     44  \n",
       "3   26  Thursday    7     55  \n",
       "4   26  Thursday    8     05  "
      ]
     },
     "execution_count": 7,
     "metadata": {},
     "output_type": "execute_result"
    }
   ],
   "source": [
    "df['Year'] = df['Date'].dt.year\n",
    "df['Month'] = df['Date'].dt.month_name()\n",
    "df['MonthNum'] = df['Date'].dt.month\n",
    "df['Day'] = df['Date'].dt.day\n",
    "df['DayName'] = df['Date'].dt.day_name()\n",
    "df['Hour'] = df['Time'].apply(lambda x: x.split(':')[0])\n",
    "df['Minute'] = df['Time'].apply(lambda x: (x.split(':')[1]).split(' ')[0])\n",
    "\n",
    "#Uncomment while working with 12 hour file format\n",
    "# df['Meridian'] = df['Time'].apply(lambda x: (x.split(':')[1]).split(' ')[1])  \n",
    "\n",
    "df.head()"
   ]
  },
  {
   "cell_type": "markdown",
   "metadata": {},
   "source": [
    "# Chatting From"
   ]
  },
  {
   "cell_type": "code",
   "execution_count": 8,
   "metadata": {},
   "outputs": [],
   "source": [
    "def chat_from(selected_user, df):\n",
    "    if selected_user != 'Overall':\n",
    "        df = df[df['User'] == selected_user]\n",
    "    unique_years = df['Year'].unique()\n",
    "    start_year = unique_years[0]\n",
    "    msg_count = df.groupby(['Date']).count()['Message']\n",
    "    avg_msg = round(msg_count.mean(),2)\n",
    "    return start_year, avg_msg"
   ]
  },
  {
   "cell_type": "code",
   "execution_count": 9,
   "metadata": {},
   "outputs": [
    {
     "data": {
      "text/plain": [
       "(2022, 22.42)"
      ]
     },
     "execution_count": 9,
     "metadata": {},
     "output_type": "execute_result"
    }
   ],
   "source": [
    "chat_from('Overall', df)"
   ]
  },
  {
   "cell_type": "markdown",
   "metadata": {},
   "source": [
    "# Most Talkative"
   ]
  },
  {
   "cell_type": "code",
   "execution_count": 10,
   "metadata": {},
   "outputs": [],
   "source": [
    "def most_talkative(df):\n",
    "    df = df[df['User'] != 'group_notification']\n",
    "    user = df['User'].value_counts()\n",
    "    username = user.index[0]\n",
    "    avg_msg = round(len(df)/user[username], 2)\n",
    "    return username, avg_msg"
   ]
  },
  {
   "cell_type": "code",
   "execution_count": 11,
   "metadata": {},
   "outputs": [
    {
     "data": {
      "text/plain": [
       "('Clg Ashvin birla', 6.61)"
      ]
     },
     "execution_count": 11,
     "metadata": {},
     "output_type": "execute_result"
    }
   ],
   "source": [
    "most_talkative(df)"
   ]
  },
  {
   "cell_type": "markdown",
   "metadata": {},
   "source": [
    "# Hourly Timeline"
   ]
  },
  {
   "cell_type": "code",
   "execution_count": 12,
   "metadata": {},
   "outputs": [],
   "source": [
    "def hourly_timeline(selected_user, df, format):\n",
    "    if selected_user != 'Overall':\n",
    "        df = df[df['User'] == selected_user]\n",
    "    new_df = df[df['User'] != 'group_notification']\n",
    "\n",
    "    new_df['Message'] = [1] * new_df.shape[0]\n",
    "    if format == '12 Hour':\n",
    "        new_df['Hour'] = new_df['Hour'].astype(str) + ' ' + new_df['Meridian'].astype(str)\n",
    "        new_df = new_df.groupby('Hour').sum().reset_index()\n",
    "    else:\n",
    "        new_df = new_df.groupby('Hour').sum().reset_index()\n",
    "    return new_df"
   ]
  },
  {
   "cell_type": "code",
   "execution_count": 13,
   "metadata": {},
   "outputs": [
    {
     "name": "stderr",
     "output_type": "stream",
     "text": [
      "C:\\Users\\Administrator\\AppData\\Local\\Temp\\ipykernel_3248\\3606417362.py:6: SettingWithCopyWarning: \n",
      "A value is trying to be set on a copy of a slice from a DataFrame.\n",
      "Try using .loc[row_indexer,col_indexer] = value instead\n",
      "\n",
      "See the caveats in the documentation: https://pandas.pydata.org/pandas-docs/stable/user_guide/indexing.html#returning-a-view-versus-a-copy\n",
      "  new_df['Message'] = [1] * new_df.shape[0]\n"
     ]
    },
    {
     "data": {
      "text/html": [
       "<div>\n",
       "<style scoped>\n",
       "    .dataframe tbody tr th:only-of-type {\n",
       "        vertical-align: middle;\n",
       "    }\n",
       "\n",
       "    .dataframe tbody tr th {\n",
       "        vertical-align: top;\n",
       "    }\n",
       "\n",
       "    .dataframe thead th {\n",
       "        text-align: right;\n",
       "    }\n",
       "</style>\n",
       "<table border=\"1\" class=\"dataframe\">\n",
       "  <thead>\n",
       "    <tr style=\"text-align: right;\">\n",
       "      <th></th>\n",
       "      <th>Hour</th>\n",
       "      <th>Message</th>\n",
       "      <th>Year</th>\n",
       "      <th>MonthNum</th>\n",
       "      <th>Day</th>\n",
       "    </tr>\n",
       "  </thead>\n",
       "  <tbody>\n",
       "    <tr>\n",
       "      <th>0</th>\n",
       "      <td>1</td>\n",
       "      <td>210</td>\n",
       "      <td>424620</td>\n",
       "      <td>1338</td>\n",
       "      <td>1270</td>\n",
       "    </tr>\n",
       "    <tr>\n",
       "      <th>1</th>\n",
       "      <td>10</td>\n",
       "      <td>109</td>\n",
       "      <td>220398</td>\n",
       "      <td>743</td>\n",
       "      <td>1400</td>\n",
       "    </tr>\n",
       "    <tr>\n",
       "      <th>2</th>\n",
       "      <td>11</td>\n",
       "      <td>204</td>\n",
       "      <td>412488</td>\n",
       "      <td>1419</td>\n",
       "      <td>3233</td>\n",
       "    </tr>\n",
       "    <tr>\n",
       "      <th>3</th>\n",
       "      <td>12</td>\n",
       "      <td>175</td>\n",
       "      <td>353850</td>\n",
       "      <td>1155</td>\n",
       "      <td>1945</td>\n",
       "    </tr>\n",
       "    <tr>\n",
       "      <th>4</th>\n",
       "      <td>2</td>\n",
       "      <td>71</td>\n",
       "      <td>143562</td>\n",
       "      <td>478</td>\n",
       "      <td>1004</td>\n",
       "    </tr>\n",
       "    <tr>\n",
       "      <th>5</th>\n",
       "      <td>3</td>\n",
       "      <td>120</td>\n",
       "      <td>242640</td>\n",
       "      <td>746</td>\n",
       "      <td>1838</td>\n",
       "    </tr>\n",
       "    <tr>\n",
       "      <th>6</th>\n",
       "      <td>4</td>\n",
       "      <td>71</td>\n",
       "      <td>143562</td>\n",
       "      <td>443</td>\n",
       "      <td>1085</td>\n",
       "    </tr>\n",
       "    <tr>\n",
       "      <th>7</th>\n",
       "      <td>5</td>\n",
       "      <td>98</td>\n",
       "      <td>198156</td>\n",
       "      <td>701</td>\n",
       "      <td>904</td>\n",
       "    </tr>\n",
       "    <tr>\n",
       "      <th>8</th>\n",
       "      <td>6</td>\n",
       "      <td>39</td>\n",
       "      <td>78858</td>\n",
       "      <td>266</td>\n",
       "      <td>404</td>\n",
       "    </tr>\n",
       "    <tr>\n",
       "      <th>9</th>\n",
       "      <td>7</td>\n",
       "      <td>30</td>\n",
       "      <td>60660</td>\n",
       "      <td>196</td>\n",
       "      <td>403</td>\n",
       "    </tr>\n",
       "    <tr>\n",
       "      <th>10</th>\n",
       "      <td>8</td>\n",
       "      <td>155</td>\n",
       "      <td>313410</td>\n",
       "      <td>1156</td>\n",
       "      <td>1773</td>\n",
       "    </tr>\n",
       "    <tr>\n",
       "      <th>11</th>\n",
       "      <td>9</td>\n",
       "      <td>160</td>\n",
       "      <td>323520</td>\n",
       "      <td>1111</td>\n",
       "      <td>2384</td>\n",
       "    </tr>\n",
       "  </tbody>\n",
       "</table>\n",
       "</div>"
      ],
      "text/plain": [
       "   Hour  Message    Year  MonthNum   Day\n",
       "0     1      210  424620      1338  1270\n",
       "1    10      109  220398       743  1400\n",
       "2    11      204  412488      1419  3233\n",
       "3    12      175  353850      1155  1945\n",
       "4     2       71  143562       478  1004\n",
       "5     3      120  242640       746  1838\n",
       "6     4       71  143562       443  1085\n",
       "7     5       98  198156       701   904\n",
       "8     6       39   78858       266   404\n",
       "9     7       30   60660       196   403\n",
       "10    8      155  313410      1156  1773\n",
       "11    9      160  323520      1111  2384"
      ]
     },
     "execution_count": 13,
     "metadata": {},
     "output_type": "execute_result"
    }
   ],
   "source": [
    "hourly_timeline('Overall', df, '24 Hour')"
   ]
  },
  {
   "cell_type": "markdown",
   "metadata": {},
   "source": [
    "# Daily Timeline"
   ]
  },
  {
   "cell_type": "code",
   "execution_count": 14,
   "metadata": {},
   "outputs": [],
   "source": [
    "def daily_timeline(selected_user, df):\n",
    "    if selected_user != 'Overall':\n",
    "        df = df[df['User'] == selected_user]\n",
    "    new_df = df[df['User'] != 'group_notification']\n",
    "\n",
    "    new_df['Message'] = [1] * new_df.shape[0]\n",
    "    new_df = new_df.groupby('Date').sum().reset_index()\n",
    "    return new_df"
   ]
  },
  {
   "cell_type": "code",
   "execution_count": 15,
   "metadata": {
    "scrolled": true
   },
   "outputs": [
    {
     "name": "stderr",
     "output_type": "stream",
     "text": [
      "C:\\Users\\Administrator\\AppData\\Local\\Temp\\ipykernel_3248\\2274322411.py:6: SettingWithCopyWarning: \n",
      "A value is trying to be set on a copy of a slice from a DataFrame.\n",
      "Try using .loc[row_indexer,col_indexer] = value instead\n",
      "\n",
      "See the caveats in the documentation: https://pandas.pydata.org/pandas-docs/stable/user_guide/indexing.html#returning-a-view-versus-a-copy\n",
      "  new_df['Message'] = [1] * new_df.shape[0]\n"
     ]
    },
    {
     "data": {
      "text/html": [
       "<div>\n",
       "<style scoped>\n",
       "    .dataframe tbody tr th:only-of-type {\n",
       "        vertical-align: middle;\n",
       "    }\n",
       "\n",
       "    .dataframe tbody tr th {\n",
       "        vertical-align: top;\n",
       "    }\n",
       "\n",
       "    .dataframe thead th {\n",
       "        text-align: right;\n",
       "    }\n",
       "</style>\n",
       "<table border=\"1\" class=\"dataframe\">\n",
       "  <thead>\n",
       "    <tr style=\"text-align: right;\">\n",
       "      <th></th>\n",
       "      <th>Date</th>\n",
       "      <th>Message</th>\n",
       "      <th>Year</th>\n",
       "      <th>MonthNum</th>\n",
       "      <th>Day</th>\n",
       "    </tr>\n",
       "  </thead>\n",
       "  <tbody>\n",
       "    <tr>\n",
       "      <th>0</th>\n",
       "      <td>2022-05-26</td>\n",
       "      <td>16</td>\n",
       "      <td>32352</td>\n",
       "      <td>80</td>\n",
       "      <td>416</td>\n",
       "    </tr>\n",
       "    <tr>\n",
       "      <th>1</th>\n",
       "      <td>2022-05-27</td>\n",
       "      <td>14</td>\n",
       "      <td>28308</td>\n",
       "      <td>70</td>\n",
       "      <td>378</td>\n",
       "    </tr>\n",
       "    <tr>\n",
       "      <th>2</th>\n",
       "      <td>2022-05-28</td>\n",
       "      <td>5</td>\n",
       "      <td>10110</td>\n",
       "      <td>25</td>\n",
       "      <td>140</td>\n",
       "    </tr>\n",
       "    <tr>\n",
       "      <th>3</th>\n",
       "      <td>2022-05-29</td>\n",
       "      <td>8</td>\n",
       "      <td>16176</td>\n",
       "      <td>40</td>\n",
       "      <td>232</td>\n",
       "    </tr>\n",
       "    <tr>\n",
       "      <th>4</th>\n",
       "      <td>2022-05-30</td>\n",
       "      <td>37</td>\n",
       "      <td>74814</td>\n",
       "      <td>185</td>\n",
       "      <td>1110</td>\n",
       "    </tr>\n",
       "    <tr>\n",
       "      <th>...</th>\n",
       "      <td>...</td>\n",
       "      <td>...</td>\n",
       "      <td>...</td>\n",
       "      <td>...</td>\n",
       "      <td>...</td>\n",
       "    </tr>\n",
       "    <tr>\n",
       "      <th>56</th>\n",
       "      <td>2022-08-12</td>\n",
       "      <td>23</td>\n",
       "      <td>46506</td>\n",
       "      <td>184</td>\n",
       "      <td>276</td>\n",
       "    </tr>\n",
       "    <tr>\n",
       "      <th>57</th>\n",
       "      <td>2022-08-15</td>\n",
       "      <td>8</td>\n",
       "      <td>16176</td>\n",
       "      <td>64</td>\n",
       "      <td>120</td>\n",
       "    </tr>\n",
       "    <tr>\n",
       "      <th>58</th>\n",
       "      <td>2022-08-16</td>\n",
       "      <td>5</td>\n",
       "      <td>10110</td>\n",
       "      <td>40</td>\n",
       "      <td>80</td>\n",
       "    </tr>\n",
       "    <tr>\n",
       "      <th>59</th>\n",
       "      <td>2022-08-17</td>\n",
       "      <td>54</td>\n",
       "      <td>109188</td>\n",
       "      <td>432</td>\n",
       "      <td>918</td>\n",
       "    </tr>\n",
       "    <tr>\n",
       "      <th>60</th>\n",
       "      <td>2022-08-18</td>\n",
       "      <td>14</td>\n",
       "      <td>28308</td>\n",
       "      <td>112</td>\n",
       "      <td>252</td>\n",
       "    </tr>\n",
       "  </tbody>\n",
       "</table>\n",
       "<p>61 rows × 5 columns</p>\n",
       "</div>"
      ],
      "text/plain": [
       "         Date  Message    Year  MonthNum   Day\n",
       "0  2022-05-26       16   32352        80   416\n",
       "1  2022-05-27       14   28308        70   378\n",
       "2  2022-05-28        5   10110        25   140\n",
       "3  2022-05-29        8   16176        40   232\n",
       "4  2022-05-30       37   74814       185  1110\n",
       "..        ...      ...     ...       ...   ...\n",
       "56 2022-08-12       23   46506       184   276\n",
       "57 2022-08-15        8   16176        64   120\n",
       "58 2022-08-16        5   10110        40    80\n",
       "59 2022-08-17       54  109188       432   918\n",
       "60 2022-08-18       14   28308       112   252\n",
       "\n",
       "[61 rows x 5 columns]"
      ]
     },
     "execution_count": 15,
     "metadata": {},
     "output_type": "execute_result"
    }
   ],
   "source": [
    "daily_timeline('Overall', df)"
   ]
  },
  {
   "cell_type": "markdown",
   "metadata": {},
   "source": [
    "# Weekly Timeline"
   ]
  },
  {
   "cell_type": "code",
   "execution_count": 16,
   "metadata": {},
   "outputs": [],
   "source": [
    "def weekly_timeline(selected_user, df):\n",
    "    if selected_user != 'Overall':\n",
    "        df = df[df['User'] == selected_user]\n",
    "    new_df = df[df['User'] != 'group_notification']\n",
    "\n",
    "    new_df['Message'] = [1] * new_df.shape[0]\n",
    "    days = [ 'Monday', 'Tuesday', 'Wednesday', 'Thursday', 'Friday', 'Saturday', 'Sunday']\n",
    "    new_df = new_df.groupby('DayName').sum().reindex(days)\n",
    "    new_df['Days'] = ['1 - Monday', '2 - Tuesday', '3 - Wednesday', '4 - Thursday', '5 - Friday', '6 - Saturday', '8 - Sunday']\n",
    "    return new_df"
   ]
  },
  {
   "cell_type": "code",
   "execution_count": 17,
   "metadata": {},
   "outputs": [
    {
     "name": "stderr",
     "output_type": "stream",
     "text": [
      "C:\\Users\\Administrator\\AppData\\Local\\Temp\\ipykernel_3248\\2702942587.py:6: SettingWithCopyWarning: \n",
      "A value is trying to be set on a copy of a slice from a DataFrame.\n",
      "Try using .loc[row_indexer,col_indexer] = value instead\n",
      "\n",
      "See the caveats in the documentation: https://pandas.pydata.org/pandas-docs/stable/user_guide/indexing.html#returning-a-view-versus-a-copy\n",
      "  new_df['Message'] = [1] * new_df.shape[0]\n"
     ]
    },
    {
     "data": {
      "text/html": [
       "<div>\n",
       "<style scoped>\n",
       "    .dataframe tbody tr th:only-of-type {\n",
       "        vertical-align: middle;\n",
       "    }\n",
       "\n",
       "    .dataframe tbody tr th {\n",
       "        vertical-align: top;\n",
       "    }\n",
       "\n",
       "    .dataframe thead th {\n",
       "        text-align: right;\n",
       "    }\n",
       "</style>\n",
       "<table border=\"1\" class=\"dataframe\">\n",
       "  <thead>\n",
       "    <tr style=\"text-align: right;\">\n",
       "      <th></th>\n",
       "      <th>Message</th>\n",
       "      <th>Year</th>\n",
       "      <th>MonthNum</th>\n",
       "      <th>Day</th>\n",
       "      <th>Days</th>\n",
       "    </tr>\n",
       "    <tr>\n",
       "      <th>DayName</th>\n",
       "      <th></th>\n",
       "      <th></th>\n",
       "      <th></th>\n",
       "      <th></th>\n",
       "      <th></th>\n",
       "    </tr>\n",
       "  </thead>\n",
       "  <tbody>\n",
       "    <tr>\n",
       "      <th>Monday</th>\n",
       "      <td>178</td>\n",
       "      <td>359916</td>\n",
       "      <td>1093</td>\n",
       "      <td>4117</td>\n",
       "      <td>1 - Monday</td>\n",
       "    </tr>\n",
       "    <tr>\n",
       "      <th>Tuesday</th>\n",
       "      <td>96</td>\n",
       "      <td>194112</td>\n",
       "      <td>720</td>\n",
       "      <td>946</td>\n",
       "      <td>2 - Tuesday</td>\n",
       "    </tr>\n",
       "    <tr>\n",
       "      <th>Wednesday</th>\n",
       "      <td>329</td>\n",
       "      <td>665238</td>\n",
       "      <td>2223</td>\n",
       "      <td>2488</td>\n",
       "      <td>3 - Wednesday</td>\n",
       "    </tr>\n",
       "    <tr>\n",
       "      <th>Thursday</th>\n",
       "      <td>199</td>\n",
       "      <td>402378</td>\n",
       "      <td>1377</td>\n",
       "      <td>2520</td>\n",
       "      <td>4 - Thursday</td>\n",
       "    </tr>\n",
       "    <tr>\n",
       "      <th>Friday</th>\n",
       "      <td>356</td>\n",
       "      <td>719832</td>\n",
       "      <td>2313</td>\n",
       "      <td>3779</td>\n",
       "      <td>5 - Friday</td>\n",
       "    </tr>\n",
       "    <tr>\n",
       "      <th>Saturday</th>\n",
       "      <td>123</td>\n",
       "      <td>248706</td>\n",
       "      <td>844</td>\n",
       "      <td>1944</td>\n",
       "      <td>6 - Saturday</td>\n",
       "    </tr>\n",
       "    <tr>\n",
       "      <th>Sunday</th>\n",
       "      <td>161</td>\n",
       "      <td>325542</td>\n",
       "      <td>1182</td>\n",
       "      <td>1849</td>\n",
       "      <td>8 - Sunday</td>\n",
       "    </tr>\n",
       "  </tbody>\n",
       "</table>\n",
       "</div>"
      ],
      "text/plain": [
       "           Message    Year  MonthNum   Day           Days\n",
       "DayName                                                  \n",
       "Monday         178  359916      1093  4117     1 - Monday\n",
       "Tuesday         96  194112       720   946    2 - Tuesday\n",
       "Wednesday      329  665238      2223  2488  3 - Wednesday\n",
       "Thursday       199  402378      1377  2520   4 - Thursday\n",
       "Friday         356  719832      2313  3779     5 - Friday\n",
       "Saturday       123  248706       844  1944   6 - Saturday\n",
       "Sunday         161  325542      1182  1849     8 - Sunday"
      ]
     },
     "execution_count": 17,
     "metadata": {},
     "output_type": "execute_result"
    }
   ],
   "source": [
    "weekly_timeline('Overall', df)"
   ]
  },
  {
   "cell_type": "markdown",
   "metadata": {},
   "source": [
    "# Monthly Timeline"
   ]
  },
  {
   "cell_type": "code",
   "execution_count": 18,
   "metadata": {},
   "outputs": [],
   "source": [
    "def monthly_timeline(selected_user, df):\n",
    "    if selected_user != 'Overall':\n",
    "        df = df[df['User'] == selected_user]\n",
    "    new_df = df[df['User'] != 'group_notification']\n",
    "    new_df  = df.groupby(['Year','Month','MonthNum']).count()\n",
    "    new_df.reset_index(inplace=True)\n",
    "    time = []\n",
    "    for i in range(new_df.shape[0]):\n",
    "        time.append(str(new_df['MonthNum'][i]) + \" - \" + str(new_df['Year'][i]) + \" - \" + new_df['Month'][i])\n",
    "    new_df['Time'] = time\n",
    "    return new_df"
   ]
  },
  {
   "cell_type": "code",
   "execution_count": 19,
   "metadata": {},
   "outputs": [
    {
     "data": {
      "text/html": [
       "<div>\n",
       "<style scoped>\n",
       "    .dataframe tbody tr th:only-of-type {\n",
       "        vertical-align: middle;\n",
       "    }\n",
       "\n",
       "    .dataframe tbody tr th {\n",
       "        vertical-align: top;\n",
       "    }\n",
       "\n",
       "    .dataframe thead th {\n",
       "        text-align: right;\n",
       "    }\n",
       "</style>\n",
       "<table border=\"1\" class=\"dataframe\">\n",
       "  <thead>\n",
       "    <tr style=\"text-align: right;\">\n",
       "      <th></th>\n",
       "      <th>Year</th>\n",
       "      <th>Month</th>\n",
       "      <th>MonthNum</th>\n",
       "      <th>Date</th>\n",
       "      <th>Time</th>\n",
       "      <th>User</th>\n",
       "      <th>Message</th>\n",
       "      <th>Day</th>\n",
       "      <th>DayName</th>\n",
       "      <th>Hour</th>\n",
       "      <th>Minute</th>\n",
       "    </tr>\n",
       "  </thead>\n",
       "  <tbody>\n",
       "    <tr>\n",
       "      <th>0</th>\n",
       "      <td>2022</td>\n",
       "      <td>August</td>\n",
       "      <td>8</td>\n",
       "      <td>425</td>\n",
       "      <td>8 - 2022 - August</td>\n",
       "      <td>425</td>\n",
       "      <td>425</td>\n",
       "      <td>425</td>\n",
       "      <td>425</td>\n",
       "      <td>425</td>\n",
       "      <td>425</td>\n",
       "    </tr>\n",
       "    <tr>\n",
       "      <th>1</th>\n",
       "      <td>2022</td>\n",
       "      <td>July</td>\n",
       "      <td>7</td>\n",
       "      <td>343</td>\n",
       "      <td>7 - 2022 - July</td>\n",
       "      <td>343</td>\n",
       "      <td>343</td>\n",
       "      <td>343</td>\n",
       "      <td>343</td>\n",
       "      <td>343</td>\n",
       "      <td>343</td>\n",
       "    </tr>\n",
       "    <tr>\n",
       "      <th>2</th>\n",
       "      <td>2022</td>\n",
       "      <td>June</td>\n",
       "      <td>6</td>\n",
       "      <td>603</td>\n",
       "      <td>6 - 2022 - June</td>\n",
       "      <td>603</td>\n",
       "      <td>603</td>\n",
       "      <td>603</td>\n",
       "      <td>603</td>\n",
       "      <td>603</td>\n",
       "      <td>603</td>\n",
       "    </tr>\n",
       "    <tr>\n",
       "      <th>3</th>\n",
       "      <td>2022</td>\n",
       "      <td>May</td>\n",
       "      <td>5</td>\n",
       "      <td>86</td>\n",
       "      <td>5 - 2022 - May</td>\n",
       "      <td>86</td>\n",
       "      <td>86</td>\n",
       "      <td>86</td>\n",
       "      <td>86</td>\n",
       "      <td>86</td>\n",
       "      <td>86</td>\n",
       "    </tr>\n",
       "  </tbody>\n",
       "</table>\n",
       "</div>"
      ],
      "text/plain": [
       "   Year   Month  MonthNum  Date               Time  User  Message  Day  \\\n",
       "0  2022  August         8   425  8 - 2022 - August   425      425  425   \n",
       "1  2022    July         7   343    7 - 2022 - July   343      343  343   \n",
       "2  2022    June         6   603    6 - 2022 - June   603      603  603   \n",
       "3  2022     May         5    86     5 - 2022 - May    86       86   86   \n",
       "\n",
       "   DayName  Hour  Minute  \n",
       "0      425   425     425  \n",
       "1      343   343     343  \n",
       "2      603   603     603  \n",
       "3       86    86      86  "
      ]
     },
     "execution_count": 19,
     "metadata": {},
     "output_type": "execute_result"
    }
   ],
   "source": [
    "monthly_timeline('Overall', df)"
   ]
  },
  {
   "cell_type": "markdown",
   "metadata": {},
   "source": [
    "# Most Common Word"
   ]
  },
  {
   "cell_type": "code",
   "execution_count": 20,
   "metadata": {},
   "outputs": [],
   "source": [
    "def most_common_words(selected_user, df):\n",
    "    if selected_user != 'Overall':\n",
    "        df = df[df['User'] == selected_user]\n",
    "    new_df = df[df['User'] != 'group_notification']\n",
    "    new_df = new_df[~new_df['Message'].str.contains('<Media omitted>')]\n",
    "    f = open('stop_hinglish.txt')\n",
    "    stop_words = f.read()\n",
    "\n",
    "    words = []\n",
    "\n",
    "    for message in new_df['Message']:\n",
    "        for word in message.lower().split():\n",
    "            if word not in stop_words:\n",
    "                words.append(word)\n",
    "\n",
    "    most_common_df = pd.DataFrame(Counter(words).most_common(20), columns=['Message', 'Count'])\n",
    "    most_common_df.sort_values('Count')\n",
    "    return most_common_df"
   ]
  },
  {
   "cell_type": "code",
   "execution_count": 21,
   "metadata": {},
   "outputs": [
    {
     "data": {
      "text/html": [
       "<div>\n",
       "<style scoped>\n",
       "    .dataframe tbody tr th:only-of-type {\n",
       "        vertical-align: middle;\n",
       "    }\n",
       "\n",
       "    .dataframe tbody tr th {\n",
       "        vertical-align: top;\n",
       "    }\n",
       "\n",
       "    .dataframe thead th {\n",
       "        text-align: right;\n",
       "    }\n",
       "</style>\n",
       "<table border=\"1\" class=\"dataframe\">\n",
       "  <thead>\n",
       "    <tr style=\"text-align: right;\">\n",
       "      <th></th>\n",
       "      <th>Message</th>\n",
       "      <th>Count</th>\n",
       "    </tr>\n",
       "  </thead>\n",
       "  <tbody>\n",
       "    <tr>\n",
       "      <th>0</th>\n",
       "      <td>message</td>\n",
       "      <td>69</td>\n",
       "    </tr>\n",
       "    <tr>\n",
       "      <th>1</th>\n",
       "      <td>deleted</td>\n",
       "      <td>67</td>\n",
       "    </tr>\n",
       "    <tr>\n",
       "      <th>2</th>\n",
       "      <td>tcs</td>\n",
       "      <td>42</td>\n",
       "    </tr>\n",
       "    <tr>\n",
       "      <th>3</th>\n",
       "      <td>form</td>\n",
       "      <td>25</td>\n",
       "    </tr>\n",
       "    <tr>\n",
       "      <th>4</th>\n",
       "      <td>jain</td>\n",
       "      <td>23</td>\n",
       "    </tr>\n",
       "    <tr>\n",
       "      <th>5</th>\n",
       "      <td>mail</td>\n",
       "      <td>20</td>\n",
       "    </tr>\n",
       "    <tr>\n",
       "      <th>6</th>\n",
       "      <td>digital</td>\n",
       "      <td>19</td>\n",
       "    </tr>\n",
       "    <tr>\n",
       "      <th>7</th>\n",
       "      <td>drive</td>\n",
       "      <td>18</td>\n",
       "    </tr>\n",
       "    <tr>\n",
       "      <th>8</th>\n",
       "      <td>option</td>\n",
       "      <td>17</td>\n",
       "    </tr>\n",
       "    <tr>\n",
       "      <th>9</th>\n",
       "      <td>apply</td>\n",
       "      <td>17</td>\n",
       "    </tr>\n",
       "    <tr>\n",
       "      <th>10</th>\n",
       "      <td>ninja</td>\n",
       "      <td>17</td>\n",
       "    </tr>\n",
       "    <tr>\n",
       "      <th>11</th>\n",
       "      <td>gya</td>\n",
       "      <td>16</td>\n",
       "    </tr>\n",
       "    <tr>\n",
       "      <th>12</th>\n",
       "      <td>college</td>\n",
       "      <td>16</td>\n",
       "    </tr>\n",
       "    <tr>\n",
       "      <th>13</th>\n",
       "      <td>😂</td>\n",
       "      <td>15</td>\n",
       "    </tr>\n",
       "    <tr>\n",
       "      <th>14</th>\n",
       "      <td>class</td>\n",
       "      <td>15</td>\n",
       "    </tr>\n",
       "    <tr>\n",
       "      <th>15</th>\n",
       "      <td>test</td>\n",
       "      <td>15</td>\n",
       "    </tr>\n",
       "    <tr>\n",
       "      <th>16</th>\n",
       "      <td>clg</td>\n",
       "      <td>13</td>\n",
       "    </tr>\n",
       "    <tr>\n",
       "      <th>17</th>\n",
       "      <td>batch</td>\n",
       "      <td>13</td>\n",
       "    </tr>\n",
       "    <tr>\n",
       "      <th>18</th>\n",
       "      <td>paper</td>\n",
       "      <td>12</td>\n",
       "    </tr>\n",
       "    <tr>\n",
       "      <th>19</th>\n",
       "      <td>abbas</td>\n",
       "      <td>12</td>\n",
       "    </tr>\n",
       "  </tbody>\n",
       "</table>\n",
       "</div>"
      ],
      "text/plain": [
       "    Message  Count\n",
       "0   message     69\n",
       "1   deleted     67\n",
       "2       tcs     42\n",
       "3      form     25\n",
       "4      jain     23\n",
       "5      mail     20\n",
       "6   digital     19\n",
       "7     drive     18\n",
       "8    option     17\n",
       "9     apply     17\n",
       "10    ninja     17\n",
       "11      gya     16\n",
       "12  college     16\n",
       "13        😂     15\n",
       "14    class     15\n",
       "15     test     15\n",
       "16      clg     13\n",
       "17    batch     13\n",
       "18    paper     12\n",
       "19    abbas     12"
      ]
     },
     "execution_count": 21,
     "metadata": {},
     "output_type": "execute_result"
    }
   ],
   "source": [
    "most_common_words('Overall', df)"
   ]
  },
  {
   "cell_type": "markdown",
   "metadata": {},
   "source": [
    "# Donut Chart"
   ]
  },
  {
   "cell_type": "code",
   "execution_count": 22,
   "metadata": {},
   "outputs": [],
   "source": [
    "def author_chart(df):\n",
    "    df = df[df['User'] != 'group_notification']\n",
    "    user = df['User'].value_counts()\n",
    "    new_df = pd.DataFrame ({ 'User': user.index, 'Message': user})\n",
    "    new_df['Percentage'] = new_df['Message'].apply(lambda x: round(x/len(df)*100, 2))\n",
    "    new_df.reset_index(drop=True,inplace=True)\n",
    "    return new_df"
   ]
  },
  {
   "cell_type": "code",
   "execution_count": 23,
   "metadata": {},
   "outputs": [
    {
     "data": {
      "text/html": [
       "<div>\n",
       "<style scoped>\n",
       "    .dataframe tbody tr th:only-of-type {\n",
       "        vertical-align: middle;\n",
       "    }\n",
       "\n",
       "    .dataframe tbody tr th {\n",
       "        vertical-align: top;\n",
       "    }\n",
       "\n",
       "    .dataframe thead th {\n",
       "        text-align: right;\n",
       "    }\n",
       "</style>\n",
       "<table border=\"1\" class=\"dataframe\">\n",
       "  <thead>\n",
       "    <tr style=\"text-align: right;\">\n",
       "      <th></th>\n",
       "      <th>User</th>\n",
       "      <th>Message</th>\n",
       "      <th>Percentage</th>\n",
       "    </tr>\n",
       "  </thead>\n",
       "  <tbody>\n",
       "    <tr>\n",
       "      <th>0</th>\n",
       "      <td>Clg Ashvin birla</td>\n",
       "      <td>218</td>\n",
       "      <td>15.12</td>\n",
       "    </tr>\n",
       "    <tr>\n",
       "      <th>1</th>\n",
       "      <td>Clg Abhishek Jain</td>\n",
       "      <td>164</td>\n",
       "      <td>11.37</td>\n",
       "    </tr>\n",
       "    <tr>\n",
       "      <th>2</th>\n",
       "      <td>Clg Kushagra Ahire</td>\n",
       "      <td>130</td>\n",
       "      <td>9.02</td>\n",
       "    </tr>\n",
       "    <tr>\n",
       "      <th>3</th>\n",
       "      <td>Clg Amit Pandey</td>\n",
       "      <td>125</td>\n",
       "      <td>8.67</td>\n",
       "    </tr>\n",
       "    <tr>\n",
       "      <th>4</th>\n",
       "      <td>Clg Abbas Amjhera</td>\n",
       "      <td>118</td>\n",
       "      <td>8.18</td>\n",
       "    </tr>\n",
       "    <tr>\n",
       "      <th>5</th>\n",
       "      <td>Clg Divyansh</td>\n",
       "      <td>60</td>\n",
       "      <td>4.16</td>\n",
       "    </tr>\n",
       "    <tr>\n",
       "      <th>6</th>\n",
       "      <td>Clg Charchil</td>\n",
       "      <td>60</td>\n",
       "      <td>4.16</td>\n",
       "    </tr>\n",
       "    <tr>\n",
       "      <th>7</th>\n",
       "      <td>Clg Anmol Joshi</td>\n",
       "      <td>56</td>\n",
       "      <td>3.88</td>\n",
       "    </tr>\n",
       "    <tr>\n",
       "      <th>8</th>\n",
       "      <td>+91 96309 40258</td>\n",
       "      <td>48</td>\n",
       "      <td>3.33</td>\n",
       "    </tr>\n",
       "    <tr>\n",
       "      <th>9</th>\n",
       "      <td>+91 72409 15291</td>\n",
       "      <td>47</td>\n",
       "      <td>3.26</td>\n",
       "    </tr>\n",
       "    <tr>\n",
       "      <th>10</th>\n",
       "      <td>Clg Ankit Bhalot</td>\n",
       "      <td>42</td>\n",
       "      <td>2.91</td>\n",
       "    </tr>\n",
       "    <tr>\n",
       "      <th>11</th>\n",
       "      <td>Clg Anil nagar</td>\n",
       "      <td>31</td>\n",
       "      <td>2.15</td>\n",
       "    </tr>\n",
       "    <tr>\n",
       "      <th>12</th>\n",
       "      <td>Clg Garv Chouhan</td>\n",
       "      <td>30</td>\n",
       "      <td>2.08</td>\n",
       "    </tr>\n",
       "    <tr>\n",
       "      <th>13</th>\n",
       "      <td>Clg Deepak Sahu</td>\n",
       "      <td>29</td>\n",
       "      <td>2.01</td>\n",
       "    </tr>\n",
       "    <tr>\n",
       "      <th>14</th>\n",
       "      <td>Clg Ankit Patel</td>\n",
       "      <td>28</td>\n",
       "      <td>1.94</td>\n",
       "    </tr>\n",
       "    <tr>\n",
       "      <th>15</th>\n",
       "      <td>Clg harshvardhan</td>\n",
       "      <td>26</td>\n",
       "      <td>1.80</td>\n",
       "    </tr>\n",
       "    <tr>\n",
       "      <th>16</th>\n",
       "      <td>Clg Govind</td>\n",
       "      <td>25</td>\n",
       "      <td>1.73</td>\n",
       "    </tr>\n",
       "    <tr>\n",
       "      <th>17</th>\n",
       "      <td>Clg Gopala Sharma</td>\n",
       "      <td>21</td>\n",
       "      <td>1.46</td>\n",
       "    </tr>\n",
       "    <tr>\n",
       "      <th>18</th>\n",
       "      <td>Clg Atman</td>\n",
       "      <td>17</td>\n",
       "      <td>1.18</td>\n",
       "    </tr>\n",
       "    <tr>\n",
       "      <th>19</th>\n",
       "      <td>Clg Ankit Torani</td>\n",
       "      <td>16</td>\n",
       "      <td>1.11</td>\n",
       "    </tr>\n",
       "    <tr>\n",
       "      <th>20</th>\n",
       "      <td>Clg Aaditya Mishra</td>\n",
       "      <td>15</td>\n",
       "      <td>1.04</td>\n",
       "    </tr>\n",
       "    <tr>\n",
       "      <th>21</th>\n",
       "      <td>+91 87705 37687</td>\n",
       "      <td>13</td>\n",
       "      <td>0.90</td>\n",
       "    </tr>\n",
       "    <tr>\n",
       "      <th>22</th>\n",
       "      <td>Clg Anirudh Agrawal</td>\n",
       "      <td>12</td>\n",
       "      <td>0.83</td>\n",
       "    </tr>\n",
       "    <tr>\n",
       "      <th>23</th>\n",
       "      <td>Clg Akshat Khujneri</td>\n",
       "      <td>12</td>\n",
       "      <td>0.83</td>\n",
       "    </tr>\n",
       "    <tr>\n",
       "      <th>24</th>\n",
       "      <td>+91 96857 80227</td>\n",
       "      <td>11</td>\n",
       "      <td>0.76</td>\n",
       "    </tr>\n",
       "    <tr>\n",
       "      <th>25</th>\n",
       "      <td>Anshul Sharma</td>\n",
       "      <td>11</td>\n",
       "      <td>0.76</td>\n",
       "    </tr>\n",
       "    <tr>\n",
       "      <th>26</th>\n",
       "      <td>Clg Aman Rai</td>\n",
       "      <td>10</td>\n",
       "      <td>0.69</td>\n",
       "    </tr>\n",
       "    <tr>\n",
       "      <th>27</th>\n",
       "      <td>Clg Rahul Rai</td>\n",
       "      <td>9</td>\n",
       "      <td>0.62</td>\n",
       "    </tr>\n",
       "    <tr>\n",
       "      <th>28</th>\n",
       "      <td>Clg Kushagra Krishna</td>\n",
       "      <td>8</td>\n",
       "      <td>0.55</td>\n",
       "    </tr>\n",
       "    <tr>\n",
       "      <th>29</th>\n",
       "      <td>Clg Achyut Sudele</td>\n",
       "      <td>7</td>\n",
       "      <td>0.49</td>\n",
       "    </tr>\n",
       "    <tr>\n",
       "      <th>30</th>\n",
       "      <td>+91 72248 82210</td>\n",
       "      <td>5</td>\n",
       "      <td>0.35</td>\n",
       "    </tr>\n",
       "    <tr>\n",
       "      <th>31</th>\n",
       "      <td>Clg Durganshi</td>\n",
       "      <td>5</td>\n",
       "      <td>0.35</td>\n",
       "    </tr>\n",
       "    <tr>\n",
       "      <th>32</th>\n",
       "      <td>+91 6239 413 783</td>\n",
       "      <td>5</td>\n",
       "      <td>0.35</td>\n",
       "    </tr>\n",
       "    <tr>\n",
       "      <th>33</th>\n",
       "      <td>Clg Anushka Porwal</td>\n",
       "      <td>4</td>\n",
       "      <td>0.28</td>\n",
       "    </tr>\n",
       "    <tr>\n",
       "      <th>34</th>\n",
       "      <td>Clg Ali Asgar</td>\n",
       "      <td>4</td>\n",
       "      <td>0.28</td>\n",
       "    </tr>\n",
       "    <tr>\n",
       "      <th>35</th>\n",
       "      <td>Clg Bhanu Choudhary</td>\n",
       "      <td>4</td>\n",
       "      <td>0.28</td>\n",
       "    </tr>\n",
       "    <tr>\n",
       "      <th>36</th>\n",
       "      <td>Clg Ayush pandya</td>\n",
       "      <td>3</td>\n",
       "      <td>0.21</td>\n",
       "    </tr>\n",
       "    <tr>\n",
       "      <th>37</th>\n",
       "      <td>Clg Aranjeeta</td>\n",
       "      <td>3</td>\n",
       "      <td>0.21</td>\n",
       "    </tr>\n",
       "    <tr>\n",
       "      <th>38</th>\n",
       "      <td>Clg Devshee</td>\n",
       "      <td>2</td>\n",
       "      <td>0.14</td>\n",
       "    </tr>\n",
       "    <tr>\n",
       "      <th>39</th>\n",
       "      <td>Clg Amisha</td>\n",
       "      <td>2</td>\n",
       "      <td>0.14</td>\n",
       "    </tr>\n",
       "    <tr>\n",
       "      <th>40</th>\n",
       "      <td>Clg Chirag Tiwari</td>\n",
       "      <td>2</td>\n",
       "      <td>0.14</td>\n",
       "    </tr>\n",
       "    <tr>\n",
       "      <th>41</th>\n",
       "      <td>Clg Rishikesh</td>\n",
       "      <td>1</td>\n",
       "      <td>0.07</td>\n",
       "    </tr>\n",
       "    <tr>\n",
       "      <th>42</th>\n",
       "      <td>Clg Rishika Gupta</td>\n",
       "      <td>1</td>\n",
       "      <td>0.07</td>\n",
       "    </tr>\n",
       "    <tr>\n",
       "      <th>43</th>\n",
       "      <td>Clg Ayush chouhan</td>\n",
       "      <td>1</td>\n",
       "      <td>0.07</td>\n",
       "    </tr>\n",
       "    <tr>\n",
       "      <th>44</th>\n",
       "      <td>Clg Kanishka Sharma</td>\n",
       "      <td>1</td>\n",
       "      <td>0.07</td>\n",
       "    </tr>\n",
       "  </tbody>\n",
       "</table>\n",
       "</div>"
      ],
      "text/plain": [
       "                    User  Message  Percentage\n",
       "0       Clg Ashvin birla      218       15.12\n",
       "1      Clg Abhishek Jain      164       11.37\n",
       "2     Clg Kushagra Ahire      130        9.02\n",
       "3        Clg Amit Pandey      125        8.67\n",
       "4      Clg Abbas Amjhera      118        8.18\n",
       "5           Clg Divyansh       60        4.16\n",
       "6           Clg Charchil       60        4.16\n",
       "7        Clg Anmol Joshi       56        3.88\n",
       "8        +91 96309 40258       48        3.33\n",
       "9        +91 72409 15291       47        3.26\n",
       "10      Clg Ankit Bhalot       42        2.91\n",
       "11        Clg Anil nagar       31        2.15\n",
       "12      Clg Garv Chouhan       30        2.08\n",
       "13       Clg Deepak Sahu       29        2.01\n",
       "14       Clg Ankit Patel       28        1.94\n",
       "15      Clg harshvardhan       26        1.80\n",
       "16            Clg Govind       25        1.73\n",
       "17     Clg Gopala Sharma       21        1.46\n",
       "18             Clg Atman       17        1.18\n",
       "19      Clg Ankit Torani       16        1.11\n",
       "20    Clg Aaditya Mishra       15        1.04\n",
       "21       +91 87705 37687       13        0.90\n",
       "22   Clg Anirudh Agrawal       12        0.83\n",
       "23   Clg Akshat Khujneri       12        0.83\n",
       "24       +91 96857 80227       11        0.76\n",
       "25         Anshul Sharma       11        0.76\n",
       "26          Clg Aman Rai       10        0.69\n",
       "27         Clg Rahul Rai        9        0.62\n",
       "28  Clg Kushagra Krishna        8        0.55\n",
       "29     Clg Achyut Sudele        7        0.49\n",
       "30       +91 72248 82210        5        0.35\n",
       "31         Clg Durganshi        5        0.35\n",
       "32      +91 6239 413 783        5        0.35\n",
       "33    Clg Anushka Porwal        4        0.28\n",
       "34         Clg Ali Asgar        4        0.28\n",
       "35   Clg Bhanu Choudhary        4        0.28\n",
       "36      Clg Ayush pandya        3        0.21\n",
       "37         Clg Aranjeeta        3        0.21\n",
       "38           Clg Devshee        2        0.14\n",
       "39            Clg Amisha        2        0.14\n",
       "40     Clg Chirag Tiwari        2        0.14\n",
       "41         Clg Rishikesh        1        0.07\n",
       "42     Clg Rishika Gupta        1        0.07\n",
       "43     Clg Ayush chouhan        1        0.07\n",
       "44   Clg Kanishka Sharma        1        0.07"
      ]
     },
     "execution_count": 23,
     "metadata": {},
     "output_type": "execute_result"
    }
   ],
   "source": [
    "author_df = author_chart(df)\n",
    "author_df"
   ]
  },
  {
   "cell_type": "markdown",
   "metadata": {},
   "source": [
    "# User left"
   ]
  },
  {
   "cell_type": "code",
   "execution_count": 24,
   "metadata": {},
   "outputs": [],
   "source": [
    "def removed_left(df):\n",
    "    df = df[df['User']=='group_notification']\n",
    "    df = df[df['Message'].str.contains('changed|deleted|encrypted|created') == False]\n",
    "    removedLeft = df[df['Message'].str.contains('removed|left') ==  True]\n",
    "    addedJoined = df[df['Message'].str.contains('added|joined') == True]\n",
    "    removedLeft['Status'] = 0\n",
    "    addedJoined['Status'] = 1\n",
    "    removedLeft['User'] = removedLeft.Message.apply(lambda x: seperate(x, 'removed'))\n",
    "    addedJoined['User'] = addedJoined.Message.apply(lambda x: seperate(x, 'added'))\n",
    "    new_df = pd.concat([removedLeft, addedJoined])\n",
    "    new_df.drop(columns=['Time', 'Year', 'Month', 'MonthNum', 'Day', 'DayName', 'Hour', 'Minute'], inplace=True, axis=1)\n",
    "    return new_df\n",
    "\n",
    "def seperate(x, seperator):\n",
    "    if seperator == 'removed':\n",
    "        if x.find(seperator) != -1:\n",
    "            return x.split(seperator)[1]\n",
    "        else:\n",
    "            return x.split('left')[0]\n",
    "    else:\n",
    "        if x.find(seperator) != -1:\n",
    "            return x.split(seperator)[1]\n",
    "        else:\n",
    "            return x.split('joined')[0]"
   ]
  },
  {
   "cell_type": "markdown",
   "metadata": {},
   "source": [
    "# URL"
   ]
  },
  {
   "cell_type": "code",
   "execution_count": 25,
   "metadata": {},
   "outputs": [],
   "source": [
    "def get_urls(df):\n",
    "    urls_list = []\n",
    "    url = []\n",
    "    for i in df['Message']:\n",
    "        o = re.findall('(https://.*)|(http://.*)',i)\n",
    "        if len(o) != 0:\n",
    "            urls_list.append(o[0][0].split(' ')[0])\n",
    "    for i in urls_list:\n",
    "        o = re.search('.*(.com)',i)\n",
    "        if o != None:\n",
    "            url.append(o.group())\n",
    "    count_dict=Counter(url)\n",
    "    count=sorted(count_dict, key=count_dict.get, reverse=True)\n",
    "    return count_dict,count"
   ]
  },
  {
   "cell_type": "code",
   "execution_count": 26,
   "metadata": {},
   "outputs": [
    {
     "name": "stdout",
     "output_type": "stream",
     "text": [
      "https://teams.microsoft.com 4\n",
      "https://docs.google.com 3\n",
      "https://chat.whatsapp.com 2\n",
      "https://www.tcs.com 1\n",
      "https://meet.google.com 1\n",
      "https://youtube.com 1\n"
     ]
    }
   ],
   "source": [
    "links_dictionary,links = get_urls(df)\n",
    "for link in links:\n",
    "    print(link,links_dictionary[link])"
   ]
  },
  {
   "cell_type": "markdown",
   "metadata": {},
   "source": [
    "# emoji"
   ]
  },
  {
   "cell_type": "code",
   "execution_count": 27,
   "metadata": {},
   "outputs": [],
   "source": [
    "def emoji_helper(selected_user, df):\n",
    "    if selected_user != 'Overall':\n",
    "        df = df[df['user'] == selected_user]\n",
    "    emojis = []\n",
    "    description = []\n",
    "    for message in df['Message']:\n",
    "        all_emoji = emoji.distinct_emoji_list(message)\n",
    "        emojis.extend([emoji.emojize(is_emoji) for is_emoji in all_emoji])\n",
    "    emoji_df = pd.DataFrame(Counter(emojis).most_common(len(Counter(emojis))))\n",
    "    for i in emoji_df[0]:\n",
    "        description.append(emoji.demojize(i))\n",
    "    emoji_df['description'] = description\n",
    "    return emoji_df[:5],emoji_df"
   ]
  },
  {
   "cell_type": "code",
   "execution_count": 28,
   "metadata": {},
   "outputs": [
    {
     "data": {
      "text/plain": [
       "(   0   1                      description\n",
       " 0  😂  40         :face_with_tears_of_joy:\n",
       " 1  🤣  23  :rolling_on_the_floor_laughing:\n",
       " 2  😅  20       :grinning_face_with_sweat:\n",
       " 3  🙂  20          :slightly_smiling_face:\n",
       " 4  🥳  11                  :partying_face:,\n",
       "        0   1                         description\n",
       " 0      😂  40            :face_with_tears_of_joy:\n",
       " 1      🤣  23     :rolling_on_the_floor_laughing:\n",
       " 2      😅  20          :grinning_face_with_sweat:\n",
       " 3      🙂  20             :slightly_smiling_face:\n",
       " 4      🥳  11                     :partying_face:\n",
       " 5      🙄   7            :face_with_rolling_eyes:\n",
       " 6      💐   7                           :bouquet:\n",
       " 7      😁   7    :beaming_face_with_smiling_eyes:\n",
       " 8      🥲   6            :smiling_face_with_tear:\n",
       " 9      🙏   5                      :folded_hands:\n",
       " 10     👍   5                         :thumbs_up:\n",
       " 11     🎉   4                      :party_popper:\n",
       " 12    ☹️   4                     :frowning_face:\n",
       " 13  💁‍♂️   4                  :man_tipping_hand:\n",
       " 14     ✋   3                       :raised_hand:\n",
       " 15    👍🏻   3         :thumbs_up_light_skin_tone:\n",
       " 16     👏   3                    :clapping_hands:\n",
       " 17     🔪   3                     :kitchen_knife:\n",
       " 18    ✋🏻   3       :raised_hand_light_skin_tone:\n",
       " 19     😭   2                :loudly_crying_face:\n",
       " 20     🔥   2                              :fire:\n",
       " 21  🙋‍♂️   2                  :man_raising_hand:\n",
       " 22     🤚   2               :raised_back_of_hand:\n",
       " 23    🤟🏻   2  :love-you_gesture_light_skin_tone:\n",
       " 24     🤔   2                     :thinking_face:\n",
       " 25     😒   2                     :unamused_face:\n",
       " 26     🫤   2          :face_with_diagonal_mouth:\n",
       " 27    🙏🏻   1      :folded_hands_light_skin_tone:\n",
       " 28     😢   1                       :crying_face:\n",
       " 29    ☮️   1                      :peace_symbol:\n",
       " 30     😕   1                     :confused_face:\n",
       " 31     🥺   1                     :pleading_face:\n",
       " 32     😈   1           :smiling_face_with_horns:\n",
       " 33     🤨   1          :face_with_raised_eyebrow:\n",
       " 34     🌺   1                          :hibiscus:\n",
       " 35     🤝   1                         :handshake:\n",
       " 36     🌷   1                             :tulip:\n",
       " 37     😔   1                      :pensive_face:\n",
       " 38     😳   1                      :flushed_face:\n",
       " 39     🍷   1                        :wine_glass:\n",
       " 40     🫡   1                     :saluting_face:\n",
       " 41     👀   1                              :eyes:\n",
       " 42    ‼️   1           :double_exclamation_mark:\n",
       " 43     🎯   1                          :bullseye:\n",
       " 44     🕺   1                       :man_dancing:\n",
       " 45     🙃   1                  :upside-down_face:\n",
       " 46    ❤️   1                         :red_heart:\n",
       " 47     🥂   1                  :clinking_glasses:\n",
       " 48     😹   1             :cat_with_tears_of_joy:\n",
       " 49  🤦‍♂️   1                   :man_facepalming:\n",
       " 50     😏   1                     :smirking_face:)"
      ]
     },
     "execution_count": 28,
     "metadata": {},
     "output_type": "execute_result"
    }
   ],
   "source": [
    "edf=emoji_helper('Overall' ,df)\n",
    "edf"
   ]
  },
  {
   "cell_type": "markdown",
   "metadata": {},
   "source": [
    "# most emoji shared by user"
   ]
  },
  {
   "cell_type": "code",
   "execution_count": 29,
   "metadata": {},
   "outputs": [],
   "source": [
    "def get_emoji(data):\n",
    "    emoj = re.compile(\"[\"\n",
    "        u\"\\U0001F600-\\U0001F64F\"  # emoticons\n",
    "                      \"]+\", re.UNICODE)\n",
    "    obj = re.findall(emoj,data)\n",
    "    return obj"
   ]
  },
  {
   "cell_type": "code",
   "execution_count": 30,
   "metadata": {},
   "outputs": [],
   "source": [
    "test_df = df[df['User']!='group_notification']\n",
    "test_df = df[['User','Message']]\n",
    "test_df = test_df[test_df['User']!='group_notification']\n",
    "test_df['Message'] = test_df.groupby(['User'])['Message'].transform(lambda x : ' '.join(x))\n",
    "test_df = test_df.drop_duplicates()\n",
    "emoji_user = {}\n",
    "for i in range(test_df.shape[0]):\n",
    "    emoji_user[test_df.iloc[i]['User']] = len(get_emoji(test_df.iloc[i]['Message']))"
   ]
  },
  {
   "cell_type": "code",
   "execution_count": 31,
   "metadata": {},
   "outputs": [
    {
     "data": {
      "text/plain": [
       "'Clg Ashvin birla'"
      ]
     },
     "execution_count": 31,
     "metadata": {},
     "output_type": "execute_result"
    }
   ],
   "source": [
    "name = max(emoji_user, key=emoji_user.get)\n",
    "# emoji_percent = emoji_user[name]/\n",
    "name"
   ]
  },
  {
   "cell_type": "code",
   "execution_count": 32,
   "metadata": {},
   "outputs": [],
   "source": [
    "d=test_df[test_df['User']==name]"
   ]
  },
  {
   "cell_type": "markdown",
   "metadata": {},
   "source": [
    "# long winded"
   ]
  },
  {
   "cell_type": "code",
   "execution_count": 33,
   "metadata": {},
   "outputs": [],
   "source": [
    "def long_winded(df):\n",
    "    msg_len = []\n",
    "    for i in df['Message']:\n",
    "        msg_len.append(len(i))\n",
    "    df['Message_len'] = msg_len\n",
    "    new_df = df.sort_values(by=['Message_len'],ascending=False)\n",
    "    # apply mean in message_len sum /len\n",
    "    name = new_df.iloc[0]['User']\n",
    "    user_df = df[df['User']==name]\n",
    "    length = new_df.iloc[0]['Message_len']\n",
    "    user_df = df[df['User']==name]\n",
    "    mean = user_df['Message_len'].mean()\n",
    "    mean = round((mean/100),2)\n",
    "    df.drop(['Message_len'],axis=1,inplace=True)\n",
    "    return name,length,mean"
   ]
  },
  {
   "cell_type": "code",
   "execution_count": 34,
   "metadata": {},
   "outputs": [
    {
     "data": {
      "text/plain": [
       "('Clg Akshat Khujneri', 695, 1.05)"
      ]
     },
     "execution_count": 34,
     "metadata": {},
     "output_type": "execute_result"
    }
   ],
   "source": [
    "long_winded(df)"
   ]
  },
  {
   "cell_type": "markdown",
   "metadata": {},
   "source": [
    "# influencer"
   ]
  },
  {
   "cell_type": "code",
   "execution_count": 35,
   "metadata": {},
   "outputs": [],
   "source": [
    "def influencer(df):\n",
    "    df=df[df['User']!='group_notification']\n",
    "    new_df = df.groupby(['User'])\n",
    "    inf_dict = {}\n",
    "    for name, group in new_df:\n",
    "        count = 0\n",
    "        for i in group['Message']:\n",
    "            if '<Media omitted>' in i:\n",
    "                count += 1\n",
    "        inf_dict[name]=count\n",
    "    name = max(inf_dict, key=inf_dict.get)\n",
    "    name_df = df[df['User']==name]\n",
    "    percent = (inf_dict[name]/name_df.shape[0])*100\n",
    "    return name,round(percent,2)\n",
    "# groupby user and media omitted"
   ]
  },
  {
   "cell_type": "code",
   "execution_count": 36,
   "metadata": {},
   "outputs": [
    {
     "name": "stdout",
     "output_type": "stream",
     "text": [
      "('Clg Abbas Amjhera', 13.56)\n"
     ]
    }
   ],
   "source": [
    "print(influencer(df))"
   ]
  },
  {
   "cell_type": "markdown",
   "metadata": {},
   "source": [
    "# professor"
   ]
  },
  {
   "cell_type": "code",
   "execution_count": 37,
   "metadata": {},
   "outputs": [],
   "source": [
    "def remove_emojis(data):\n",
    "    emoj = re.compile(\"[\"\n",
    "        u\"\\U0001F600-\\U0001F64F\"  # emoticons\n",
    "        u\"\\U0001F300-\\U0001F5FF\"  # symbols & pictographs\n",
    "        u\"\\U0001F680-\\U0001F6FF\"  # transport & map symbols\n",
    "        u\"\\U0001F1E0-\\U0001F1FF\"  # flags (iOS)\n",
    "        u\"\\U00002500-\\U00002BEF\"  # chinese char\n",
    "        u\"\\U00002702-\\U000027B0\"\n",
    "        u\"\\U00002702-\\U000027B0\"\n",
    "        u\"\\U000024C2-\\U0001F251\"\n",
    "        u\"\\U0001f926-\\U0001f937\"\n",
    "        u\"\\U00010000-\\U0010ffff\"\n",
    "        u\"\\u2640-\\u2642\" \n",
    "        u\"\\u2600-\\u2B55\"\n",
    "        u\"\\u200d\"\n",
    "        u\"\\u23cf\"\n",
    "        u\"\\u23e9\"\n",
    "        u\"\\u231a\"\n",
    "        u\"\\ufe0f\"  # dingbats\n",
    "        u\"\\u3030\"\n",
    "                      \"]+\", re.UNICODE)\n",
    "    return re.sub(emoj, '', data)"
   ]
  },
  {
   "cell_type": "code",
   "execution_count": 38,
   "metadata": {},
   "outputs": [],
   "source": [
    "def remove_punctuations(string):\n",
    "    punc = '''!()-[]{};:'\"\\,<>./?@#$%^&*_~'''\n",
    "    for ele in string:\n",
    "        if ele in punc:\n",
    "            string = string.replace(ele, \"\")\n",
    "    return string"
   ]
  },
  {
   "cell_type": "code",
   "execution_count": 39,
   "metadata": {},
   "outputs": [],
   "source": [
    "def professor(df):\n",
    "    professor_dict = {}\n",
    "    words_list = []\n",
    "    lancaster=LancasterStemmer()\n",
    "    test_df = df[['User','Message']]\n",
    "    test_df = test_df[test_df['User']!='group_notification']\n",
    "    test_df['Message'] = test_df.groupby(['User'])['Message'].transform(lambda x : ' '.join(x))\n",
    "    test_df = test_df.drop_duplicates()\n",
    "    for i in range(test_df.shape[0]):\n",
    "        stemmed_words = []\n",
    "        s = test_df.iloc[i]['Message']\n",
    "        text = remove_emojis(s)\n",
    "        text = remove_punctuations(text)\n",
    "        words_list = text.split()\n",
    "        words_list = list(set(words_list))\n",
    "        for w in words_list:\n",
    "            stemmed_words.append(lancaster.stem(w))\n",
    "        professor_dict[test_df.iloc[i]['User']]=len(stemmed_words)\n",
    "    name = max(professor_dict, key=professor_dict.get)\n",
    "    return name,professor_dict[name]"
   ]
  },
  {
   "cell_type": "code",
   "execution_count": 40,
   "metadata": {},
   "outputs": [
    {
     "ename": "NameError",
     "evalue": "name 'LancasterStemmer' is not defined",
     "output_type": "error",
     "traceback": [
      "\u001b[1;31m---------------------------------------------------------------------------\u001b[0m",
      "\u001b[1;31mNameError\u001b[0m                                 Traceback (most recent call last)",
      "Input \u001b[1;32mIn [40]\u001b[0m, in \u001b[0;36m<cell line: 1>\u001b[1;34m()\u001b[0m\n\u001b[1;32m----> 1\u001b[0m \u001b[43mprofessor\u001b[49m\u001b[43m(\u001b[49m\u001b[43mdf\u001b[49m\u001b[43m)\u001b[49m\n",
      "Input \u001b[1;32mIn [39]\u001b[0m, in \u001b[0;36mprofessor\u001b[1;34m(df)\u001b[0m\n\u001b[0;32m      2\u001b[0m professor_dict \u001b[38;5;241m=\u001b[39m {}\n\u001b[0;32m      3\u001b[0m words_list \u001b[38;5;241m=\u001b[39m []\n\u001b[1;32m----> 4\u001b[0m lancaster\u001b[38;5;241m=\u001b[39m\u001b[43mLancasterStemmer\u001b[49m()\n\u001b[0;32m      5\u001b[0m test_df \u001b[38;5;241m=\u001b[39m df[[\u001b[38;5;124m'\u001b[39m\u001b[38;5;124mUser\u001b[39m\u001b[38;5;124m'\u001b[39m,\u001b[38;5;124m'\u001b[39m\u001b[38;5;124mMessage\u001b[39m\u001b[38;5;124m'\u001b[39m]]\n\u001b[0;32m      6\u001b[0m test_df \u001b[38;5;241m=\u001b[39m test_df[test_df[\u001b[38;5;124m'\u001b[39m\u001b[38;5;124mUser\u001b[39m\u001b[38;5;124m'\u001b[39m]\u001b[38;5;241m!=\u001b[39m\u001b[38;5;124m'\u001b[39m\u001b[38;5;124mgroup_notification\u001b[39m\u001b[38;5;124m'\u001b[39m]\n",
      "\u001b[1;31mNameError\u001b[0m: name 'LancasterStemmer' is not defined"
     ]
    }
   ],
   "source": [
    "professor(df)"
   ]
  },
  {
   "cell_type": "markdown",
   "metadata": {},
   "source": [
    "# sentimental analysis "
   ]
  },
  {
   "cell_type": "code",
   "execution_count": 41,
   "metadata": {},
   "outputs": [],
   "source": [
    "from sklearn.feature_extraction.text import CountVectorizer\n",
    "from sklearn.model_selection import GridSearchCV\n",
    "from sklearn.ensemble import RandomForestClassifier"
   ]
  },
  {
   "cell_type": "code",
   "execution_count": 42,
   "metadata": {},
   "outputs": [],
   "source": [
    "from sklearn.metrics import accuracy_score"
   ]
  },
  {
   "cell_type": "code",
   "execution_count": 43,
   "metadata": {},
   "outputs": [],
   "source": [
    "import stemmer"
   ]
  },
  {
   "cell_type": "code",
   "execution_count": 44,
   "metadata": {},
   "outputs": [],
   "source": [
    "# nltk.download('stopwords')\n",
    "# nltk.download('wordnet')\n",
    "# nltk.download('omw-1.4')"
   ]
  },
  {
   "cell_type": "code",
   "execution_count": 45,
   "metadata": {},
   "outputs": [],
   "source": [
    "def text_transformation(words_list):\n",
    "    corpus = []\n",
    "    for item in words_list:\n",
    "        new_item = re.sub('[^a-zA-Z]',' ',str(item))\n",
    "        new_item = new_item.lower()\n",
    "        if 'https' in new_item or 'http' in new_item:\n",
    "            pass\n",
    "        else:\n",
    "            new_item = new_item.split()\n",
    "            for i in new_item:\n",
    "                corpus.append(i)\n",
    "    return list(set(corpus))"
   ]
  },
  {
   "cell_type": "code",
   "execution_count": 101,
   "metadata": {},
   "outputs": [],
   "source": [
    "# train test split\n",
    "from sklearn.model_selection import train_test_split\n",
    "words_df = pd.read_excel('New_Words.xlsx')\n",
    "words_df.dropna(inplace=True)\n",
    "X = words_df['Word']\n",
    "y = words_df['Label']"
   ]
  },
  {
   "cell_type": "code",
   "execution_count": 102,
   "metadata": {},
   "outputs": [
    {
     "data": {
      "text/plain": [
       "Word     0\n",
       "Label    0\n",
       "dtype: int64"
      ]
     },
     "execution_count": 102,
     "metadata": {},
     "output_type": "execute_result"
    }
   ],
   "source": [
    "words_df.isnull().sum()"
   ]
  },
  {
   "cell_type": "code",
   "execution_count": null,
   "metadata": {},
   "outputs": [],
   "source": []
  },
  {
   "cell_type": "code",
   "execution_count": 103,
   "metadata": {},
   "outputs": [],
   "source": [
    "X_train, X_test, y_train, y_test = train_test_split(X, y, test_size=0.2, random_state=0)"
   ]
  },
  {
   "cell_type": "code",
   "execution_count": 110,
   "metadata": {},
   "outputs": [
    {
     "data": {
      "text/plain": [
       "RandomForestClassifier()"
      ]
     },
     "execution_count": 110,
     "metadata": {},
     "output_type": "execute_result"
    }
   ],
   "source": [
    "# train\n",
    "cv = CountVectorizer(ngram_range=(1,2))\n",
    "traindata = cv.fit_transform(list(X_train))\n",
    "X = traindata\n",
    "y = y_train\n",
    "rfc = RandomForestClassifier()\n",
    "rfc.fit(X,y)"
   ]
  },
  {
   "cell_type": "code",
   "execution_count": null,
   "metadata": {},
   "outputs": [],
   "source": []
  },
  {
   "cell_type": "code",
   "execution_count": 105,
   "metadata": {},
   "outputs": [
    {
     "data": {
      "text/plain": [
       "((5569, 5559), (5569,))"
      ]
     },
     "execution_count": 105,
     "metadata": {},
     "output_type": "execute_result"
    }
   ],
   "source": [
    "X.shape,y.shape"
   ]
  },
  {
   "cell_type": "code",
   "execution_count": 111,
   "metadata": {},
   "outputs": [],
   "source": [
    "testdata = cv.transform(X_test)\n",
    "predictions = rfc.predict(testdata)"
   ]
  },
  {
   "cell_type": "code",
   "execution_count": 107,
   "metadata": {},
   "outputs": [
    {
     "data": {
      "text/plain": [
       "array([0., 0., 0., ..., 0., 0., 0.])"
      ]
     },
     "execution_count": 107,
     "metadata": {},
     "output_type": "execute_result"
    }
   ],
   "source": [
    "predictions"
   ]
  },
  {
   "cell_type": "code",
   "execution_count": 112,
   "metadata": {},
   "outputs": [],
   "source": [
    "acc_score = accuracy_score(y_test,predictions)"
   ]
  },
  {
   "cell_type": "code",
   "execution_count": 113,
   "metadata": {},
   "outputs": [
    {
     "name": "stdout",
     "output_type": "stream",
     "text": [
      "0.16511127063890882\n"
     ]
    }
   ],
   "source": [
    "print(acc_score)"
   ]
  },
  {
   "cell_type": "code",
   "execution_count": null,
   "metadata": {},
   "outputs": [],
   "source": [
    "td = cv.transform(message_words_list)\n",
    "p = rfc.predict(td)"
   ]
  },
  {
   "cell_type": "code",
   "execution_count": 61,
   "metadata": {},
   "outputs": [
    {
     "data": {
      "text/plain": [
       "array([1., 1., 1.])"
      ]
     },
     "execution_count": 61,
     "metadata": {},
     "output_type": "execute_result"
    }
   ],
   "source": [
    "rfc.predict(cv.transform(['bekar','bura','enjoy'])).reshape(-1)"
   ]
  },
  {
   "cell_type": "code",
   "execution_count": 42,
   "metadata": {},
   "outputs": [],
   "source": [
    "# converting the messages to words_list\n",
    "test_df = df[df['User']!='group_notification']\n",
    "test_df = test_df[test_df['Message']!='<Media omitted> ']\n",
    "test_df = test_df[test_df['Message']!='This message was deleted'] "
   ]
  },
  {
   "cell_type": "code",
   "execution_count": 43,
   "metadata": {},
   "outputs": [],
   "source": [
    "message_words_list = text_transformation(test_df['Message'])"
   ]
  },
  {
   "cell_type": "code",
   "execution_count": null,
   "metadata": {},
   "outputs": [],
   "source": [
    "string_words = []\n",
    "for i in X:\n",
    "    string_words.append(str(i))"
   ]
  },
  {
   "cell_type": "code",
   "execution_count": 44,
   "metadata": {
    "scrolled": true
   },
   "outputs": [],
   "source": [
    "myStemmer = stemmer.Stemmer()\n",
    "stemmed_list = myStemmer.stemListOfWords(string_words)"
   ]
  },
  {
   "cell_type": "code",
   "execution_count": 46,
   "metadata": {},
   "outputs": [
    {
     "data": {
      "text/plain": [
       "list"
      ]
     },
     "execution_count": 46,
     "metadata": {},
     "output_type": "execute_result"
    }
   ],
   "source": [
    "type(stemmed_list)"
   ]
  },
  {
   "cell_type": "code",
   "execution_count": null,
   "metadata": {},
   "outputs": [],
   "source": [
    "def text_transformation(words_list):\n",
    "    corpus = []\n",
    "    myStemmer = stemmer.Stemmer()\n",
    "    for item in words_list:\n",
    "        new_item = re.sub('[^a-zA-Z]',' ',str(item))\n",
    "        new_item = new_item.lower()\n",
    "        if ('https://' or 'http://') in new_item:\n",
    "            pass\n",
    "        else:\n",
    "            new_item = new_item.split()\n",
    "            for i in new_item:\n",
    "                i = myStemmer.stemWord(str(i))\n",
    "                if len(i)>1:\n",
    "                    corpus.append(i)\n",
    "    return list(set(corpus))"
   ]
  }
 ],
 "metadata": {
  "kernelspec": {
   "display_name": "Python 3 (ipykernel)",
   "language": "python",
   "name": "python3"
  },
  "language_info": {
   "codemirror_mode": {
    "name": "ipython",
    "version": 3
   },
   "file_extension": ".py",
   "mimetype": "text/x-python",
   "name": "python",
   "nbconvert_exporter": "python",
   "pygments_lexer": "ipython3",
   "version": "3.9.7"
  },
  "vscode": {
   "interpreter": {
    "hash": "0e25f5c8ef339ee3cd459044b54a195e7d76659ac805764547ca1d0daacff56b"
   }
  }
 },
 "nbformat": 4,
 "nbformat_minor": 2
}
